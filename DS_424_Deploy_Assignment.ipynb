{
  "cells": [
    {
      "cell_type": "markdown",
      "metadata": {
        "id": "NGGrt9EYlCqY"
      },
      "source": [
        "\n",
        "\n",
        "\n",
        "# *Data Science Unit 4 Sprint 2 Assignment 4*\n",
        "\n",
        "Continue to use TensorFlow Keras & a sample of the [Quickdraw dataset](https://github.com/googlecreativelab/quickdraw-dataset) to build a sketch classification model. The dataset has been sampled to only 10 classes and 10000 observations per class. Apply regularization techniques to your model.\n",
        "\n",
        "**Don't forget to switch to GPU on Colab!**\n",
        "\n",
        "\n",
        "## Objectives\n",
        "\n",
        "In lecture, you were exposed to several regularization techniques: Lp space regularization, Max Norm weight constraints, and dropout regularization.\n",
        "\n",
        "1: Explore the effects of these regularization techniques on model performance and on the learned model weights.\n",
        "\n",
        "2: Review how to save a model and how to retrieve the saved model from a file.\n",
        "\n",
        "\n",
        "\n"
      ]
    },
    {
      "cell_type": "markdown",
      "metadata": {
        "id": "ptJ2b3wk62Ud"
      },
      "source": [
        "#### Import libraries"
      ]
    },
    {
      "cell_type": "code",
      "execution_count": 1,
      "metadata": {
        "id": "USXjs7Hk71Hy"
      },
      "outputs": [],
      "source": [
        "# native libraries\n",
        "import os\n",
        "from time import time\n",
        "\n",
        "# data analysis libraries\n",
        "import numpy as np\n",
        "import pandas as pd\n",
        "import matplotlib.pyplot as plt\n",
        "import seaborn as sns\n",
        "\n",
        "# deep learning libraries\n",
        "import tensorflow as tf\n",
        "from tensorflow.keras import Sequential\n",
        "from tensorflow.keras.callbacks import EarlyStopping, TensorBoard\n",
        "from tensorflow.keras.layers import Flatten, Dense, Dropout\n",
        "from tensorflow.keras.layers import ReLU\n",
        "from tensorflow.keras.initializers import GlorotUniform\n",
        "from tensorflow.keras.utils import get_file\n",
        "\n",
        "\n",
        "\n",
        "# regularizers\n",
        "from tensorflow.keras.regularizers import l2, l1\n",
        "from tensorflow.keras.constraints import max_norm\n",
        "\n",
        "# required for compatibility between sklearn and keras\n",
        "from tensorflow.keras.wrappers.scikit_learn import KerasClassifier\n",
        "\n",
        "from sklearn.model_selection import GridSearchCV\n",
        "from sklearn.model_selection import train_test_split\n",
        "\n",
        "# native python unit test library\n",
        "from unittest import TestCase\n",
        "\n",
        "%matplotlib inline"
      ]
    },
    {
      "cell_type": "markdown",
      "metadata": {
        "id": "nDjNx1aVBfGU"
      },
      "source": [
        "-----\n",
        "# Part 1: GridSearch Experiments\n",
        "\n",
        "The next set of experiments will involve gridsearching regularization parameter values.\n",
        "\n",
        "The rest of the notebook will actually require very little coding on your part. Instead, the focus is for you to run those gridsearches and answer the questions at the end of each experiment. Those questions are designed to help you capture the insights that there are to learn from each of the experiments.\n",
        "\n",
        "All of the following experiments are designed to help you better understand the relationship between the various regularization techniques and how they affect model performance.\n",
        "\n",
        "\n",
        "### Build Model\n",
        "\n",
        "Let's build out the model that we'll be using all throughout our experiments.\n",
        "\n",
        "Remember that **the whole point of regularization is to prevent overfitting.**\n",
        "\n",
        "\n",
        "![](https://hackernoon.com/hn-images/1*vuZxFMi5fODz2OEcpG-S1g.png)\n",
        "\n",
        "Overfitting happens when our models are too complex, so in order to see a benefit from the use of regularization techniques we need to build a relatively complex model.\n",
        "\n",
        "Having said that, you might not have the computational resource to be able to train a complex model in a reasonable amount of time. So if this describes you, then you might want to consider using `build_simple_model`. Otherwise, use `build_complex_model`.\n",
        "\n",
        "In this notebook, we'll use  `build_complex_model` to run our experiments.\n",
        "\n",
        "**NOTE:** Whichever function you end up using to build a model, take time to read through the code and make sure you understand what is happening."
      ]
    },
    {
      "cell_type": "markdown",
      "metadata": {
        "id": "BhyxXDgXfuHs"
      },
      "source": [
        "### Load the `quickdraw10` data set\n",
        "using code provided in the Module 3 assignment."
      ]
    },
    {
      "cell_type": "code",
      "execution_count": 2,
      "metadata": {
        "id": "9m7GEmeWfzYr"
      },
      "outputs": [],
      "source": [
        "# YOUR CODE HERE\n",
        "def load_quickdraw10():\n",
        "    \"\"\"\n",
        "    Fill out this doc string, and comment the code, for practice in writing the kind of code that will get you hired.\n",
        "    \"\"\"\n",
        "    #\n",
        "    URL_ = \"https://github.com/LambdaSchool/DS-Unit-4-Sprint-2-Neural-Networks/blob/main/quickdraw10.npz?raw=true\"\n",
        "\n",
        "    path_to_zip = get_file('./quickdraw10.npz', origin=URL_, extract=False)\n",
        "\n",
        "    data = np.load(path_to_zip)\n",
        "\n",
        "    # normalize your image data\n",
        "    max_pixel_value = 255\n",
        "    X = data['arr_0']/max_pixel_value\n",
        "    Y = data['arr_1']\n",
        "\n",
        "    return train_test_split(X, Y, shuffle=True)"
      ]
    },
    {
      "cell_type": "code",
      "source": [
        "X_train, X_test, y_train, y_test = load_quickdraw10()"
      ],
      "metadata": {
        "id": "Y9K9yUkDM5mD",
        "outputId": "b4bb7e97-6479-4a3b-98ac-2b6dbc4f4df9",
        "colab": {
          "base_uri": "https://localhost:8080/"
        }
      },
      "execution_count": 3,
      "outputs": [
        {
          "output_type": "stream",
          "name": "stdout",
          "text": [
            "Downloading data from https://github.com/LambdaSchool/DS-Unit-4-Sprint-2-Neural-Networks/blob/main/quickdraw10.npz?raw=true\n",
            "25421363/25421363 [==============================] - 0s 0us/step\n"
          ]
        }
      ]
    },
    {
      "cell_type": "markdown",
      "metadata": {
        "id": "X3qyAkpDf2Uz"
      },
      "source": [
        "### Build the model"
      ]
    },
    {
      "cell_type": "code",
      "execution_count": 4,
      "metadata": {
        "id": "Rl7fR1Vvqauv"
      },
      "outputs": [],
      "source": [
        "def build_complex_model(Lp_reg=None, reg_penalty=None, dropout_prob=0.0, maxnorm_wc=None):\n",
        "    \"\"\"\n",
        "    Build and return a regularized 3 hidden layer FCFF model\n",
        "\n",
        "    Parameters\n",
        "    ----------\n",
        "    Lp_reg: None or object\n",
        "        If object, Lp_reg is either l1 or l2 regularization\n",
        "        If None, that means that l1 or l2 regularization will not be used.\n",
        "\n",
        "    reg_penalty: None or float\n",
        "        If float, reg_penalty is a value typically between 1.0 and 0.0001\n",
        "        This is the regularization strength for l1 or l2\n",
        "\n",
        "\n",
        "    dropout_prob: float\n",
        "        This is the probability that dropout regularization will exclude a node from a training iteration.\n",
        "        If this value is 0.0, that means that dropout will not be used.\n",
        "\n",
        "    maxnorm_wc: None or float\n",
        "        If float, maxnorm_wc is the weight constraint that is used for Max Norm regularization\n",
        "        If None, that means that Max Norm regularization will not be used.\n",
        "\n",
        "\n",
        "    Return\n",
        "    ------\n",
        "    model: compiled Keras model\n",
        "    \"\"\"\n",
        "\n",
        "    # specify the input size\n",
        "    input_dim =  X_train.shape[1]\n",
        "\n",
        "    # specify the number of neurons in the output layer\n",
        "    n_output = len(np.unique(y_train))\n",
        "\n",
        "    # if reg_type is not None, then pass in the penalty strength to whatever form of Lp space regularization this is\n",
        "    if Lp_reg is not None:\n",
        "        Lp_regularizer = Lp_reg(reg_penalty)\n",
        "    else:\n",
        "        Lp_regularizer = None\n",
        "\n",
        "    if maxnorm_wc is not None:\n",
        "        wc = max_norm(maxnorm_wc)\n",
        "    else:\n",
        "        wc = None\n",
        "\n",
        "\n",
        "    # instantiate Sequential class\n",
        "    model = Sequential([\n",
        "\n",
        "    # hidden layer 1\n",
        "    Dense(500, kernel_regularizer=Lp_regularizer , kernel_constraint=wc, input_dim=input_dim), # remember that Keras refers to weight matrix as a kernel, i.e. weights = kernel\n",
        "    # act func 1\n",
        "    ReLU(negative_slope=0.01),\n",
        "    Dropout(dropout_prob),\n",
        "\n",
        "    # hidden layer 2\n",
        "    Dense(250, kernel_regularizer=Lp_regularizer, kernel_constraint=wc),\n",
        "    # act func 2\n",
        "    ReLU(negative_slope=0.01),\n",
        "    Dropout(dropout_prob),\n",
        "\n",
        "    # hidden layer 3\n",
        "    Dense(100, kernel_regularizer=Lp_regularizer, kernel_constraint=wc),\n",
        "    # act func 3\n",
        "    ReLU(negative_slope=0.01),\n",
        "    Dropout(dropout_prob),\n",
        "\n",
        "    # output layer\n",
        "    Dense(n_output, activation=\"softmax\")\n",
        "\n",
        "    ])\n",
        "    # compile model\n",
        "    model.compile(loss=\"sparse_categorical_crossentropy\",\n",
        "                 optimizer=\"adam\",\n",
        "                 metrics=[\"accuracy\"])\n",
        "\n",
        "    return model"
      ]
    },
    {
      "cell_type": "markdown",
      "metadata": {
        "id": "Tf7sg_qWBfGV"
      },
      "source": [
        "Again, only use `build_simple_model` instead of `build_complex_model` if you're working on a machine with very limited computational resources."
      ]
    },
    {
      "cell_type": "code",
      "execution_count": 5,
      "metadata": {
        "id": "2ZDOyeFUBfGV"
      },
      "outputs": [],
      "source": [
        "# def build_simple_model(Lp_reg=None, reg_penalty=None, dropout_prob=0, maxnorm_wc=None):\n",
        "#     \"\"\"\n",
        "#     Build and return a regularized 1 hidden layer FCFF model\n",
        "\n",
        "#     Parameters\n",
        "#     ----------\n",
        "#     Lp_reg: None or object\n",
        "#         If object, Lp_reg is either l1 or l2 regularization\n",
        "#         If None, that means that l1 or l2 regularization will not be used.\n",
        "\n",
        "#     reg_penalty: None or float\n",
        "#         If float, reg_penalty is a value typically between 1.0 and 0.0001\n",
        "#         This is the regularization strength for l1 or l2\n",
        "\n",
        "\n",
        "#     dropout_prob: float\n",
        "#         This is the probability that dropout regularization will exclude a node from a training iteration.\n",
        "#         If this value is 0.0, that means that dropout will not be used.\n",
        "\n",
        "#     maxnorm_wc: None or float\n",
        "#         If float, maxnorm_wc is the weight constraint that is used for Max Norm regularization\n",
        "#         If None, that means that Max Norm regularization will not be used.\n",
        "\n",
        "\n",
        "#     Return\n",
        "#     ------\n",
        "#     model: compiled Keras model\n",
        "#     \"\"\"\n",
        "\n",
        "#    # specify the input size\n",
        "    # input_dim = #YOUR CODE HERE\n",
        "\n",
        "#    # specify the number of neurons in the output layer\n",
        "    # n_output = #YOUR CODE HERE\n",
        "\n",
        "    # if Lp_reg is not None:\n",
        "    #     Lp_regularizer = Lp_reg(reg_penalty)\n",
        "    # else:\n",
        "    #     Lp_regularizer = None\n",
        "\n",
        "    # # instantiate Sequential class\n",
        "    # model = Sequential([\n",
        "\n",
        "    # # hidden layer 1\n",
        "    # Dense(128,  kernel_regularizer=Lp_regularizer, kernel_constraint=maxnorm_wc, input_dim=input_dim), # remember that Keras refers to weight matrix as a kernel, i.e. weights = kernel\n",
        "    # # act func 1\n",
        "    # ReLU(negative_slope=0.01),\n",
        "    # Dropout(p_dropout),\n",
        "\n",
        "    # # output layer\n",
        "    # Dense(n_output, activation=\"softmax\")\n",
        "\n",
        "    # ])\n",
        "    # compile model\n",
        "    # model.compile(loss=\"sparse_categorical_crossentropy\",\n",
        "    #              optimizer=\"adam\",\n",
        "    #              metrics=[\"accuracy\"])\n",
        "\n",
        "    # return model"
      ]
    },
    {
      "cell_type": "markdown",
      "metadata": {
        "id": "RIAKpcTEBfGW"
      },
      "source": [
        "Since we'll be using sklearn's `GridsearchCV` class, we need to wrap our Keras models in `KerasClassifier`"
      ]
    },
    {
      "cell_type": "code",
      "execution_count": 6,
      "metadata": {
        "colab": {
          "base_uri": "https://localhost:8080/"
        },
        "id": "IstAk4cgeOsX",
        "outputId": "34b49d7b-0bf4-425f-819e-8a7e12678330"
      },
      "outputs": [
        {
          "output_type": "stream",
          "name": "stderr",
          "text": [
            "<ipython-input-6-2d67b99a9966>:2: DeprecationWarning: KerasClassifier is deprecated, use Sci-Keras (https://github.com/adriangb/scikeras) instead. See https://www.adriangb.com/scikeras/stable/migration.html for help migrating.\n",
            "  model = KerasClassifier(build_fn = build_complex_model)\n"
          ]
        }
      ],
      "source": [
        "# wrap KerasClassifier around build_model for compatibility with sklearn GridsearchCV\n",
        "model = KerasClassifier(build_fn = build_complex_model)"
      ]
    },
    {
      "cell_type": "markdown",
      "metadata": {
        "id": "6LJi-YVMBfGW"
      },
      "source": [
        "-------\n",
        "\n",
        "# Experiment 1: Identify the relationship between model performance and L2 penalty strength\n",
        "\n",
        "![](https://www.researchgate.net/publication/334159821/figure/fig1/AS:776025558495234@1562030319993/Ridge-regression-variable-selection.png)\n",
        "\n",
        "_Note: <br>\n",
        "In the right panel of the above diagram, **SSE** <br>\n",
        "stands for \"Sum of Squared Errors\".<br>\n",
        "In the left panel, **ESS** is a typo that should read **SSE**._<br>\n",
        "\n",
        "We are going to run a gridsearch solely on the L2 regularization penalty value and see the effect this has on model performance.\n",
        "\n",
        "By running a gridseach on only a single hyperparameter (while using the same data and model) we can isolate the effect of that hyperparameter. <br><br>\n"
      ]
    },
    {
      "cell_type": "code",
      "execution_count": 7,
      "metadata": {
        "id": "dxJ5Bc6HF2C0"
      },
      "outputs": [],
      "source": [
        "# build out our hyperparameter dictionary\n",
        "hyper_parameters = {\n",
        "    # take note that Lp_reg penalty/strength values are in powers of 10\n",
        "    \"reg_penalty\": [10.0, 1.0, 0.1, 0.01, 0.001, 0.0001, 0.00001],\n",
        "    # Since we only want to test l2, provide l2 as the sole option\n",
        "    \"Lp_reg\": [l2],\n",
        "    # default is 1, in order to change it we must provide value here because we can't provide a parameter value for model.fit() directly when using gridsearch\n",
        "    # protip: consider changing epochs to 1 if the gridsearch run-time is too long for you\n",
        "    \"epochs\": [3]\n",
        "}"
      ]
    },
    {
      "cell_type": "code",
      "execution_count": 8,
      "metadata": {
        "id": "qMRyjO6Gbl5I",
        "outputId": "0a267d3b-0183-4182-85be-f6eec27d1440",
        "colab": {
          "base_uri": "https://localhost:8080/"
        }
      },
      "outputs": [
        {
          "output_type": "stream",
          "name": "stdout",
          "text": [
            "Fitting 3 folds for each of 7 candidates, totalling 21 fits\n",
            "Epoch 1/3\n",
            "1563/1563 [==============================] - 12s 3ms/step - loss: 165.4882 - accuracy: 0.1046\n",
            "Epoch 2/3\n",
            "1563/1563 [==============================] - 5s 3ms/step - loss: 2.3029 - accuracy: 0.1001\n",
            "Epoch 3/3\n",
            "1563/1563 [==============================] - 5s 3ms/step - loss: 2.3030 - accuracy: 0.0973\n",
            "782/782 [==============================] - 2s 2ms/step - loss: 2.3031 - accuracy: 0.0980\n",
            "Epoch 1/3\n",
            "1563/1563 [==============================] - 7s 4ms/step - loss: 166.1210 - accuracy: 0.1002\n",
            "Epoch 2/3\n",
            "1563/1563 [==============================] - 5s 3ms/step - loss: 2.3028 - accuracy: 0.1000\n",
            "Epoch 3/3\n",
            "1563/1563 [==============================] - 6s 4ms/step - loss: 2.3029 - accuracy: 0.0987\n",
            "782/782 [==============================] - 2s 2ms/step - loss: 2.3030 - accuracy: 0.1011\n",
            "Epoch 1/3\n",
            "1563/1563 [==============================] - 8s 4ms/step - loss: 165.9116 - accuracy: 0.1017\n",
            "Epoch 2/3\n",
            "1563/1563 [==============================] - 5s 3ms/step - loss: 2.3028 - accuracy: 0.0996\n",
            "Epoch 3/3\n",
            "1563/1563 [==============================] - 5s 3ms/step - loss: 2.3029 - accuracy: 0.0985\n",
            "782/782 [==============================] - 2s 3ms/step - loss: 2.3031 - accuracy: 0.0999\n",
            "Epoch 1/3\n",
            "1563/1563 [==============================] - 6s 3ms/step - loss: 18.6677 - accuracy: 0.0979\n",
            "Epoch 2/3\n",
            "1563/1563 [==============================] - 6s 4ms/step - loss: 2.3028 - accuracy: 0.0999\n",
            "Epoch 3/3\n",
            "1563/1563 [==============================] - 5s 3ms/step - loss: 2.3028 - accuracy: 0.0980\n",
            "782/782 [==============================] - 2s 2ms/step - loss: 2.3028 - accuracy: 0.0973\n",
            "Epoch 1/3\n",
            "1563/1563 [==============================] - 7s 3ms/step - loss: 18.6633 - accuracy: 0.1016\n",
            "Epoch 2/3\n",
            "1563/1563 [==============================] - 5s 3ms/step - loss: 2.3028 - accuracy: 0.0989\n",
            "Epoch 3/3\n",
            "1563/1563 [==============================] - 6s 4ms/step - loss: 2.3028 - accuracy: 0.0997\n",
            "782/782 [==============================] - 2s 2ms/step - loss: 2.3027 - accuracy: 0.0979\n",
            "Epoch 1/3\n",
            "1563/1563 [==============================] - 8s 4ms/step - loss: 18.6691 - accuracy: 0.1023\n",
            "Epoch 2/3\n",
            "1563/1563 [==============================] - 5s 3ms/step - loss: 2.3028 - accuracy: 0.1002\n",
            "Epoch 3/3\n",
            "1563/1563 [==============================] - 6s 4ms/step - loss: 2.3028 - accuracy: 0.0976\n",
            "782/782 [==============================] - 2s 2ms/step - loss: 2.3028 - accuracy: 0.0976\n",
            "Epoch 1/3\n",
            "1563/1563 [==============================] - 7s 4ms/step - loss: 3.6484 - accuracy: 0.3691\n",
            "Epoch 2/3\n",
            "1563/1563 [==============================] - 5s 3ms/step - loss: 1.7840 - accuracy: 0.4320\n",
            "Epoch 3/3\n",
            "1563/1563 [==============================] - 6s 4ms/step - loss: 1.7186 - accuracy: 0.4745\n",
            "782/782 [==============================] - 2s 2ms/step - loss: 1.6872 - accuracy: 0.4984\n",
            "Epoch 1/3\n",
            "1563/1563 [==============================] - 7s 4ms/step - loss: 3.6421 - accuracy: 0.3820\n",
            "Epoch 2/3\n",
            "1563/1563 [==============================] - 5s 3ms/step - loss: 1.7940 - accuracy: 0.4544\n",
            "Epoch 3/3\n",
            "1563/1563 [==============================] - 5s 3ms/step - loss: 1.7293 - accuracy: 0.4953\n",
            "782/782 [==============================] - 3s 3ms/step - loss: 1.6856 - accuracy: 0.5284\n",
            "Epoch 1/3\n",
            "1563/1563 [==============================] - 7s 3ms/step - loss: 3.6083 - accuracy: 0.4541\n",
            "Epoch 2/3\n",
            "1563/1563 [==============================] - 6s 4ms/step - loss: 1.6713 - accuracy: 0.5743\n",
            "Epoch 3/3\n",
            "1563/1563 [==============================] - 5s 3ms/step - loss: 1.5894 - accuracy: 0.5907\n",
            "782/782 [==============================] - 2s 3ms/step - loss: 1.5962 - accuracy: 0.5932\n",
            "Epoch 1/3\n",
            "1563/1563 [==============================] - 6s 3ms/step - loss: 1.6419 - accuracy: 0.7332\n",
            "Epoch 2/3\n",
            "1563/1563 [==============================] - 6s 4ms/step - loss: 1.0348 - accuracy: 0.7824\n",
            "Epoch 3/3\n",
            "1563/1563 [==============================] - 5s 3ms/step - loss: 0.9535 - accuracy: 0.7992\n",
            "782/782 [==============================] - 3s 3ms/step - loss: 0.9102 - accuracy: 0.8108\n",
            "Epoch 1/3\n",
            "1563/1563 [==============================] - 6s 3ms/step - loss: 1.6546 - accuracy: 0.7303\n",
            "Epoch 2/3\n",
            "1563/1563 [==============================] - 6s 4ms/step - loss: 1.0396 - accuracy: 0.7780\n",
            "Epoch 3/3\n",
            "1563/1563 [==============================] - 5s 3ms/step - loss: 0.9564 - accuracy: 0.7951\n",
            "782/782 [==============================] - 3s 3ms/step - loss: 0.9395 - accuracy: 0.8053\n",
            "Epoch 1/3\n",
            "1563/1563 [==============================] - 7s 3ms/step - loss: 1.6517 - accuracy: 0.7312\n",
            "Epoch 2/3\n",
            "1563/1563 [==============================] - 6s 4ms/step - loss: 1.0379 - accuracy: 0.7821\n",
            "Epoch 3/3\n",
            "1563/1563 [==============================] - 5s 3ms/step - loss: 0.9533 - accuracy: 0.7963\n",
            "782/782 [==============================] - 2s 3ms/step - loss: 0.9265 - accuracy: 0.8049\n",
            "Epoch 1/3\n",
            "1563/1563 [==============================] - 6s 3ms/step - loss: 1.1161 - accuracy: 0.7906\n",
            "Epoch 2/3\n",
            "1563/1563 [==============================] - 6s 4ms/step - loss: 0.7508 - accuracy: 0.8407\n",
            "Epoch 3/3\n",
            "1563/1563 [==============================] - 5s 3ms/step - loss: 0.6663 - accuracy: 0.8549\n",
            "782/782 [==============================] - 2s 2ms/step - loss: 0.6914 - accuracy: 0.8396\n",
            "Epoch 1/3\n",
            "1563/1563 [==============================] - 7s 3ms/step - loss: 1.1045 - accuracy: 0.7864\n",
            "Epoch 2/3\n",
            "1563/1563 [==============================] - 5s 3ms/step - loss: 0.7548 - accuracy: 0.8358\n",
            "Epoch 3/3\n",
            "1563/1563 [==============================] - 6s 4ms/step - loss: 0.6715 - accuracy: 0.8532\n",
            "782/782 [==============================] - 2s 2ms/step - loss: 0.6798 - accuracy: 0.8476\n",
            "Epoch 1/3\n",
            "1563/1563 [==============================] - 7s 3ms/step - loss: 1.1135 - accuracy: 0.7868\n",
            "Epoch 2/3\n",
            "1563/1563 [==============================] - 5s 3ms/step - loss: 0.7548 - accuracy: 0.8383\n",
            "Epoch 3/3\n",
            "1563/1563 [==============================] - 6s 4ms/step - loss: 0.6723 - accuracy: 0.8530\n",
            "782/782 [==============================] - 2s 2ms/step - loss: 0.7263 - accuracy: 0.8358\n",
            "Epoch 1/3\n",
            "1563/1563 [==============================] - 7s 4ms/step - loss: 0.7599 - accuracy: 0.7985\n",
            "Epoch 2/3\n",
            "1563/1563 [==============================] - 5s 3ms/step - loss: 0.5695 - accuracy: 0.8604\n",
            "Epoch 3/3\n",
            "1563/1563 [==============================] - 5s 3ms/step - loss: 0.5066 - accuracy: 0.8808\n",
            "782/782 [==============================] - 3s 3ms/step - loss: 0.5779 - accuracy: 0.8595\n",
            "Epoch 1/3\n",
            "1563/1563 [==============================] - 6s 3ms/step - loss: 0.7609 - accuracy: 0.7959\n",
            "Epoch 2/3\n",
            "1563/1563 [==============================] - 6s 4ms/step - loss: 0.5692 - accuracy: 0.8597\n",
            "Epoch 3/3\n",
            "1563/1563 [==============================] - 5s 3ms/step - loss: 0.5074 - accuracy: 0.8791\n",
            "782/782 [==============================] - 3s 3ms/step - loss: 0.5919 - accuracy: 0.8616\n",
            "Epoch 1/3\n",
            "1563/1563 [==============================] - 7s 3ms/step - loss: 0.7558 - accuracy: 0.7984\n",
            "Epoch 2/3\n",
            "1563/1563 [==============================] - 6s 4ms/step - loss: 0.5673 - accuracy: 0.8614\n",
            "Epoch 3/3\n",
            "1563/1563 [==============================] - 5s 3ms/step - loss: 0.5052 - accuracy: 0.8811\n",
            "782/782 [==============================] - 2s 2ms/step - loss: 0.5806 - accuracy: 0.8638\n",
            "Epoch 1/3\n",
            "1563/1563 [==============================] - 7s 4ms/step - loss: 0.6653 - accuracy: 0.8015\n",
            "Epoch 2/3\n",
            "1563/1563 [==============================] - 5s 3ms/step - loss: 0.4654 - accuracy: 0.8643\n",
            "Epoch 3/3\n",
            "1563/1563 [==============================] - 6s 4ms/step - loss: 0.3887 - accuracy: 0.8872\n",
            "782/782 [==============================] - 2s 2ms/step - loss: 0.4851 - accuracy: 0.8609\n",
            "Epoch 1/3\n",
            "1563/1563 [==============================] - 7s 4ms/step - loss: 0.6622 - accuracy: 0.7989\n",
            "Epoch 2/3\n",
            "1563/1563 [==============================] - 5s 3ms/step - loss: 0.4631 - accuracy: 0.8627\n",
            "Epoch 3/3\n",
            "1563/1563 [==============================] - 6s 4ms/step - loss: 0.3843 - accuracy: 0.8883\n",
            "782/782 [==============================] - 2s 2ms/step - loss: 0.5107 - accuracy: 0.8603\n",
            "Epoch 1/3\n",
            "1563/1563 [==============================] - 7s 4ms/step - loss: 0.6576 - accuracy: 0.8014\n",
            "Epoch 2/3\n",
            "1563/1563 [==============================] - 5s 3ms/step - loss: 0.4625 - accuracy: 0.8621\n",
            "Epoch 3/3\n",
            "1563/1563 [==============================] - 6s 4ms/step - loss: 0.3835 - accuracy: 0.8902\n",
            "782/782 [==============================] - 2s 2ms/step - loss: 0.4727 - accuracy: 0.8644\n",
            "Epoch 1/3\n",
            "2344/2344 [==============================] - 10s 4ms/step - loss: 0.6206 - accuracy: 0.8135\n",
            "Epoch 2/3\n",
            "2344/2344 [==============================] - 8s 3ms/step - loss: 0.4409 - accuracy: 0.8727\n",
            "Epoch 3/3\n",
            "2344/2344 [==============================] - 8s 4ms/step - loss: 0.3752 - accuracy: 0.8942\n"
          ]
        }
      ],
      "source": [
        "start=time()\n",
        "# takes about 7 min on Colab with GPU\n",
        "# Create and run Grid Search\n",
        "grid = GridSearchCV(estimator=model,\n",
        "                    param_grid=hyper_parameters,\n",
        "                    n_jobs=-3,\n",
        "                    verbose=1,\n",
        "                    cv=3)\n",
        "\n",
        "grid_result = grid.fit(X_train, y_train)\n",
        "end=time()"
      ]
    },
    {
      "cell_type": "code",
      "execution_count": 9,
      "metadata": {
        "id": "DZb-QpxvBfGX",
        "outputId": "792d32be-bd01-4bd9-ee15-76b427490ac1",
        "colab": {
          "base_uri": "https://localhost:8080/"
        }
      },
      "outputs": [
        {
          "output_type": "stream",
          "name": "stdout",
          "text": [
            "Gridsearch runtime 8.76 mins\n"
          ]
        }
      ],
      "source": [
        "print(\"Gridsearch runtime {0:.3} mins\".format( (end-start)/60 ))"
      ]
    },
    {
      "cell_type": "code",
      "execution_count": 10,
      "metadata": {
        "id": "FS1Vlh21BfGY",
        "outputId": "93a5e4cd-2a8f-4443-e297-070aef8ab38f",
        "colab": {
          "base_uri": "https://localhost:8080/",
          "height": 413
        }
      },
      "outputs": [
        {
          "output_type": "display_data",
          "data": {
            "text/plain": [
              "<Figure size 2000x600 with 1 Axes>"
            ],
            "image/png": "[encoded data removed]"
          },
          "metadata": {}
        }
      ],
      "source": [
        "# use the mean accuracy from the CV splits for determining best model score\n",
        "means = grid_result.cv_results_['mean_test_score']\n",
        "stds = grid_result.cv_results_['std_test_score']\n",
        "params = grid_result.cv_results_['params']\n",
        "\n",
        "# move l2 penalty values outside of dictionary and into a list\n",
        "param_values = [param_dict[\"reg_penalty\"] for param_dict in params]\n",
        "\n",
        "# plot accuracy vs l2_reg_penalty\n",
        "plt.figure(figsize=(20,6))\n",
        "plt.grid()\n",
        "\n",
        "# this plot is using the std of the CV splits to plot error bars however those values are so small that they aren't visable\n",
        "plt.errorbar(param_values, means, yerr=stds, ecolor=\"orange\")\n",
        "plt.xscale(\"log\") # use a log scale for ease of reading, recall that l2_reg_penalty were in powers of 10\n",
        "plt.title(\"L2 Regularization: Model Accuracy vs L2 Penalty Strength\")\n",
        "plt.ylabel(\"Validation Accuracy\", )\n",
        "plt.xlabel(\"L2 Penalty Strength usng a Log Scale\");"
      ]
    },
    {
      "cell_type": "markdown",
      "metadata": {
        "id": "Vc4hfY52BfGY"
      },
      "source": [
        "### Observations\n",
        "\n",
        "Write down some observations. What do you notice from the plot?"
      ]
    },
    {
      "cell_type": "markdown",
      "metadata": {
        "deletable": false,
        "id": "G0Z92bfrBfGY",
        "nbgrader": {
          "cell_type": "markdown",
          "checksum": "089b55b5a84d9c96c51fd341d9e6c74f",
          "grade": true,
          "grade_id": "cell-010212fc0915b976",
          "locked": false,
          "points": 0,
          "schema_version": 3,
          "solution": true,
          "task": false
        }
      },
      "source": [
        "YOUR ANSWER HERE"
      ]
    },
    {
      "cell_type": "markdown",
      "metadata": {
        "id": "qKoqryhBBfGZ"
      },
      "source": [
        "\n",
        "## Compare Weights between the Best Model and a Worse Model\n",
        "\n",
        "Next, we are going to compare the hidden layer weights between the best and worst performing model while taking note of the respective L2 penalty strengths."
      ]
    },
    {
      "cell_type": "code",
      "execution_count": 11,
      "metadata": {
        "id": "4Rb3l6GuBfGZ"
      },
      "outputs": [],
      "source": [
        "# get the best l2 penalty term\n",
        "best_lr_penalty = grid_result.best_params_[\"reg_penalty\"]\n",
        "\n",
        "# get the best trained model\n",
        "#     a model that is wrapped in the KerasClassifier wrapper doesn't have a .get_weights() method.\n",
        "#     So this is the workaround to generate a version of the model that does have a .get_weights() method\n",
        "best_model = grid_result.best_estimator_.build_fn(Lp_reg=l2, reg_penalty=best_lr_penalty)\n",
        "\n",
        "# get the weights from the best trained model\n",
        "best_weights = best_model.get_weights()"
      ]
    },
    {
      "cell_type": "code",
      "execution_count": 12,
      "metadata": {
        "id": "eFxgfRA4BfGZ",
        "outputId": "70acf362-f518-4b1a-f5b2-ceaa3ef12671",
        "colab": {
          "base_uri": "https://localhost:8080/"
        }
      },
      "outputs": [
        {
          "output_type": "stream",
          "name": "stdout",
          "text": [
            "2344/2344 [==============================] - 9s 3ms/step - loss: 111.8580 - accuracy: 0.0988\n"
          ]
        }
      ],
      "source": [
        "# train a model using the l2_reg_penalty value that scored the lowest\n",
        "worse_l2_reg_penalty = 10.0\n",
        "\n",
        "worse_model = build_complex_model(Lp_reg=l2, reg_penalty=worse_l2_reg_penalty)\n",
        "\n",
        "# fit model\n",
        "worse_model.fit(X_train, y_train, epochs=1)\n",
        "\n",
        "# get weights from worst performing model\n",
        "worse_weights = worse_model.get_weights()"
      ]
    },
    {
      "cell_type": "markdown",
      "metadata": {
        "id": "ZJHi51iABfGZ"
      },
      "source": [
        "-----\n",
        "## Understanding how Weights and Biases are stored"
      ]
    },
    {
      "cell_type": "markdown",
      "metadata": {
        "id": "dgo_lKxFBfGZ"
      },
      "source": [
        "Let's take a minute to understand that`.get_weights()` returns a list with 8 elements (if you're using `build_complex_model`)."
      ]
    },
    {
      "cell_type": "code",
      "execution_count": 13,
      "metadata": {
        "id": "TMdhtUWRBfGZ",
        "outputId": "eed54a05-d033-4aff-d4b4-ed451425ac39",
        "colab": {
          "base_uri": "https://localhost:8080/"
        }
      },
      "outputs": [
        {
          "output_type": "execute_result",
          "data": {
            "text/plain": [
              "8"
            ]
          },
          "metadata": {},
          "execution_count": 13
        }
      ],
      "source": [
        "len(best_weights)"
      ]
    },
    {
      "cell_type": "markdown",
      "metadata": {
        "id": "6raIvOpOBfGa"
      },
      "source": [
        "There are **weights matrices and bias vectors between each layer** and we have 5 layers. The last 4 layers are composed of neurons.\n",
        "\n",
        "- Input\n",
        "- Hidden 1\n",
        "- Hidden 2\n",
        "- Hidden 3\n",
        "- Output\n",
        "\n",
        "So we should have a weight matrix and a bias vector from each neuron layer, <br>which accounts for $4 + 4 = 8$ elements in the list.\n",
        "\n",
        "\n",
        "#### Index for Weight Matrices\n",
        "If you index for a weight matrix, you can see its shape and that they are indeed matrices.\n",
        "\n",
        "Notice how you can see the dims of the layers that the matrices are sandwiched between?\n",
        "\n",
        "The input layer has 784 dims and hidden layer 1 has 500 neurons. <br>\n",
        "So the first weight matrix should have a column of weights for each neuron; and each column has 784 weights.\n",
        "Given this understanding, the numbers you see in the shapes of the weight and bias arrays should make sense."
      ]
    },
    {
      "cell_type": "code",
      "execution_count": 14,
      "metadata": {
        "id": "p8Wmj_pjBfGa",
        "outputId": "36bc7881-a690-41eb-abbb-b2e1e1ae30b4",
        "colab": {
          "base_uri": "https://localhost:8080/"
        }
      },
      "outputs": [
        {
          "output_type": "execute_result",
          "data": {
            "text/plain": [
              "(784, 500)"
            ]
          },
          "metadata": {},
          "execution_count": 14
        }
      ],
      "source": [
        "# bewteen input and 1st hidden layer\n",
        "best_weights[0].shape"
      ]
    },
    {
      "cell_type": "code",
      "execution_count": 15,
      "metadata": {
        "id": "bRnY8DHHBfGa",
        "outputId": "ce82bb71-5ca7-4aa6-cb9e-e877b818156f",
        "colab": {
          "base_uri": "https://localhost:8080/"
        }
      },
      "outputs": [
        {
          "output_type": "execute_result",
          "data": {
            "text/plain": [
              "(500, 250)"
            ]
          },
          "metadata": {},
          "execution_count": 15
        }
      ],
      "source": [
        "# bewteen 1st and 2nd hidden layer\n",
        "best_weights[2].shape"
      ]
    },
    {
      "cell_type": "code",
      "execution_count": 16,
      "metadata": {
        "id": "aCQ-QZI4BfGb",
        "outputId": "95baf4fc-159f-4aeb-db7a-4e3d48ba63db",
        "colab": {
          "base_uri": "https://localhost:8080/"
        }
      },
      "outputs": [
        {
          "output_type": "execute_result",
          "data": {
            "text/plain": [
              "(250, 100)"
            ]
          },
          "metadata": {},
          "execution_count": 16
        }
      ],
      "source": [
        "# bewteen 2nd and 3rd hidden layer\n",
        "best_weights[4].shape"
      ]
    },
    {
      "cell_type": "code",
      "execution_count": 17,
      "metadata": {
        "id": "LiD6Ij2BBfGb",
        "outputId": "7e4d6840-670c-4e5b-8677-9555521bfe6b",
        "colab": {
          "base_uri": "https://localhost:8080/"
        }
      },
      "outputs": [
        {
          "output_type": "execute_result",
          "data": {
            "text/plain": [
              "(100, 10)"
            ]
          },
          "metadata": {},
          "execution_count": 17
        }
      ],
      "source": [
        "# bewteen 3rd hidden layer and output layer\n",
        "best_weights[6].shape"
      ]
    },
    {
      "cell_type": "markdown",
      "metadata": {
        "id": "v9rAIBBuBfGb"
      },
      "source": [
        "#### Index for the bias vectors\n",
        "\n",
        "The shapes of the bias vectors should exactly match up the dims/nodes of each layer (excluding the input layer)."
      ]
    },
    {
      "cell_type": "code",
      "execution_count": 18,
      "metadata": {
        "id": "j5c97T5NBfGb",
        "outputId": "42b3085b-de77-440b-a1a5-c2c1f0039753",
        "colab": {
          "base_uri": "https://localhost:8080/"
        }
      },
      "outputs": [
        {
          "output_type": "execute_result",
          "data": {
            "text/plain": [
              "(500,)"
            ]
          },
          "metadata": {},
          "execution_count": 18
        }
      ],
      "source": [
        "# for hidden layer 1\n",
        "best_weights[1].shape"
      ]
    },
    {
      "cell_type": "code",
      "execution_count": 19,
      "metadata": {
        "id": "YWABwgJgBfGc",
        "outputId": "f709e123-0f63-4f47-ab2b-acac753a1a1c",
        "colab": {
          "base_uri": "https://localhost:8080/"
        }
      },
      "outputs": [
        {
          "output_type": "execute_result",
          "data": {
            "text/plain": [
              "(250,)"
            ]
          },
          "metadata": {},
          "execution_count": 19
        }
      ],
      "source": [
        "# for hidden layer 2\n",
        "best_weights[3].shape"
      ]
    },
    {
      "cell_type": "code",
      "execution_count": 20,
      "metadata": {
        "id": "juFKoCftBfGc",
        "outputId": "8d175e91-17dc-4d44-f234-7603fcdb6db3",
        "colab": {
          "base_uri": "https://localhost:8080/"
        }
      },
      "outputs": [
        {
          "output_type": "execute_result",
          "data": {
            "text/plain": [
              "(100,)"
            ]
          },
          "metadata": {},
          "execution_count": 20
        }
      ],
      "source": [
        "# for hidden layer 3\n",
        "best_weights[5].shape"
      ]
    },
    {
      "cell_type": "code",
      "execution_count": 21,
      "metadata": {
        "id": "_uul71OiBfGc",
        "outputId": "98d0e316-69c2-4408-99e6-0a49940b736b",
        "colab": {
          "base_uri": "https://localhost:8080/"
        }
      },
      "outputs": [
        {
          "output_type": "execute_result",
          "data": {
            "text/plain": [
              "(10,)"
            ]
          },
          "metadata": {},
          "execution_count": 21
        }
      ],
      "source": [
        "# for output layer\n",
        "best_weights[7].shape"
      ]
    },
    {
      "cell_type": "markdown",
      "metadata": {
        "id": "7uwdFhiWBfGc"
      },
      "source": [
        "-----\n",
        "\n",
        "### Back to our Analysis of L2 space regularization (also known as Ridge)\n",
        "\n",
        "To gauge the performance effect of L2 regularization, we'll compare the weights for the 1st hidden layer from the best and worst performing models from our hyperparameter search space, as well as with the initial weight values that are randomly sampled from the GlorotUniform distribution.\n",
        "\n",
        "[**Check out the Keras docs for the Dense layer**](https://keras.io/api/layers/core_layers/dense/), you'll see that GlorotUniform is the default weight initializer.\n",
        "\n",
        "Read the docs to figure out how to get the weights from a Keras dense layer.\n",
        "Also have a look at this helpful post on StackOverflow: [**How to view initialized weights (i.e. before training)?**](https://stackoverflow.com/questions/46798708/how-to-view-initialized-weights-i-e-before-training)\n"
      ]
    },
    {
      "cell_type": "markdown",
      "metadata": {
        "id": "UdmuttujBfGd"
      },
      "source": [
        "Before we compare weights, let's take note of the following.\n",
        "\n",
        "Both `best_weights[0]` or `worse_weights[0]` are matrices with shape `(784, 500)`.\n",
        "\n",
        "If we flatten them, then we get `784 * 500 = 392000` weights. What does this mean exactly?\n",
        "\n",
        "Remember that we are working with the Fully Connected Feed-Forward model which looks something like this.\n",
        "\n",
        "![](https://pyimagesearch.com/wp-content/uploads/2016/08/simple_neural_network_header.jpg)\n",
        "\n",
        "In Fully Connected neural network models, the outputs from a layer become the inputs for the next layer. Each output from a layer is passed as an input to all the nodes in next layer.<br>\n",
        "Our input layer has $784$ output weights which are the pixel values in the image. Each neuron (or node) in hidden layer $1$ also has $784$ weights, one for each pixel input.  Hidden layer 1 has $500$ neurons. So the weights are conveniently represented as a **weights matrix** with $784$ rows (one row for each pixel in the input image) and $500$ columns (one column for each neuron in the layer). The $i$th column of the weights matrix holds the $784$ weights $\\textbf{w}_{i}$ belonging to the $i$th neuron in the layer.\n",
        "\n",
        "To keep our analysis simple, we are going to analyze only the weights corresponding to the first neuron in hidden layer $1$, whose weights $\\textbf{w}_{1}$ are the first column of the weight matrix.  <br><br>\n",
        "\n",
        "We will observe the effect of L2 regularization on neuron 1 in hidden layer 1.\n"
      ]
    },
    {
      "cell_type": "code",
      "execution_count": 33,
      "metadata": {
        "deletable": false,
        "id": "xomeoSW4BfGd",
        "nbgrader": {
          "cell_type": "code",
          "checksum": "a3f75126a80a74dd71fb0a9ab2b8b89f",
          "grade": false,
          "grade_id": "cell-7882876b8973bc7b",
          "locked": false,
          "schema_version": 3,
          "solution": true,
          "task": false
        }
      },
      "outputs": [],
      "source": [
        "# index for the 1st column (784 entries) in the 1st hidden layer weights in best_weights and save to best_hidden_weights\n",
        "best_hidden_weights = best_weights[0][0].flatten()\n",
        "\n",
        "# index for the 1st column (784 entries) in the 1st hidden layer weights in worse_weights and save to worse_hidden_weights\n",
        "worse_hidden_weights = worse_weights[0][0].flatten()\n",
        "\n",
        "# Keras models randomly samples from the GlorotUniform distribution for the initial values of model weights\n",
        "# instantiate GlorotUniform and sample 784 weights and save to initial_weight_values\n",
        "\n",
        "# Build a data frame with these 3 vectors as columns\n",
        "\n",
        "# YOUR CODE HERE\n",
        "initializer = GlorotUniform(seed=1234)\n",
        "initial_weight_values = initializer(shape=(500, 1)).numpy().flatten()"
      ]
    },
    {
      "cell_type": "code",
      "execution_count": 34,
      "metadata": {
        "id": "zaRHQzP2BfGe"
      },
      "outputs": [],
      "source": [
        "# move all weights to a dataframe for ease of analysis\n",
        "cols = [\"best_hidden_weights\", \"worse_hidden_weights\", \"initial_weight_values\"]\n",
        "data = [best_hidden_weights, worse_hidden_weights, initial_weight_values]\n",
        "df = pd.DataFrame(data=data).T\n",
        "df.columns = cols"
      ]
    },
    {
      "cell_type": "code",
      "execution_count": 35,
      "metadata": {
        "id": "GTxYblbIBfGe",
        "outputId": "4077a62e-8fa0-4f14-9257-2eaaae052a42",
        "colab": {
          "base_uri": "https://localhost:8080/",
          "height": 300
        }
      },
      "outputs": [
        {
          "output_type": "execute_result",
          "data": {
            "text/plain": [
              "       best_hidden_weights  worse_hidden_weights  initial_weight_values\n",
              "count           500.000000          5.000000e+02             500.000000\n",
              "mean             -0.001020          3.739398e-07               0.002079\n",
              "std               0.039974          7.844495e-06               0.061731\n",
              "min              -0.068114         -2.963147e-15              -0.109263\n",
              "25%              -0.036316         -5.383955e-39              -0.047005\n",
              "50%              -0.000074         -1.909129e-40               0.001182\n",
              "75%               0.034052          5.990082e-39               0.055509\n",
              "max               0.068289          1.750285e-04               0.109095"
            ],
            "text/html": [
              "\n",
              "  <div id=\"df-2484a628-ec74-4c02-85bb-e17a183c2277\">\n",
              "    <div class=\"colab-df-container\">\n",
              "      <div>\n",
              "<style scoped>\n",
              "    .dataframe tbody tr th:only-of-type {\n",
              "        vertical-align: middle;\n",
              "    }\n",
              "\n",
              "    .dataframe tbody tr th {\n",
              "        vertical-align: top;\n",
              "    }\n",
              "\n",
              "    .dataframe thead th {\n",
              "        text-align: right;\n",
              "    }\n",
              "</style>\n",
              "<table border=\"1\" class=\"dataframe\">\n",
              "  <thead>\n",
              "    <tr style=\"text-align: right;\">\n",
              "      <th></th>\n",
              "      <th>best_hidden_weights</th>\n",
              "      <th>worse_hidden_weights</th>\n",
              "      <th>initial_weight_values</th>\n",
              "    </tr>\n",
              "  </thead>\n",
              "  <tbody>\n",
              "    <tr>\n",
              "      <th>count</th>\n",
              "      <td>500.000000</td>\n",
              "      <td>5.000000e+02</td>\n",
              "      <td>500.000000</td>\n",
              "    </tr>\n",
              "    <tr>\n",
              "      <th>mean</th>\n",
              "      <td>-0.001020</td>\n",
              "      <td>3.739398e-07</td>\n",
              "      <td>0.002079</td>\n",
              "    </tr>\n",
              "    <tr>\n",
              "      <th>std</th>\n",
              "      <td>0.039974</td>\n",
              "      <td>7.844495e-06</td>\n",
              "      <td>0.061731</td>\n",
              "    </tr>\n",
              "    <tr>\n",
              "      <th>min</th>\n",
              "      <td>-0.068114</td>\n",
              "      <td>-2.963147e-15</td>\n",
              "      <td>-0.109263</td>\n",
              "    </tr>\n",
              "    <tr>\n",
              "      <th>25%</th>\n",
              "      <td>-0.036316</td>\n",
              "      <td>-5.383955e-39</td>\n",
              "      <td>-0.047005</td>\n",
              "    </tr>\n",
              "    <tr>\n",
              "      <th>50%</th>\n",
              "      <td>-0.000074</td>\n",
              "      <td>-1.909129e-40</td>\n",
              "      <td>0.001182</td>\n",
              "    </tr>\n",
              "    <tr>\n",
              "      <th>75%</th>\n",
              "      <td>0.034052</td>\n",
              "      <td>5.990082e-39</td>\n",
              "      <td>0.055509</td>\n",
              "    </tr>\n",
              "    <tr>\n",
              "      <th>max</th>\n",
              "      <td>0.068289</td>\n",
              "      <td>1.750285e-04</td>\n",
              "      <td>0.109095</td>\n",
              "    </tr>\n",
              "  </tbody>\n",
              "</table>\n",
              "</div>\n",
              "      <button class=\"colab-df-convert\" onclick=\"convertToInteractive('df-2484a628-ec74-4c02-85bb-e17a183c2277')\"\n",
              "              title=\"Convert this dataframe to an interactive table.\"\n",
              "              style=\"display:none;\">\n",
              "        \n",
              "  <svg xmlns=\"http://www.w3.org/2000/svg\" height=\"24px\"viewBox=\"0 0 24 24\"\n",
              "       width=\"24px\">\n",
              "    <path d=\"M0 0h24v24H0V0z\" fill=\"none\"/>\n",
              "    <path d=\"M18.56 5.44l.94 2.06.94-2.06 2.06-.94-2.06-.94-.94-2.06-.94 2.06-2.06.94zm-11 1L8.5 8.5l.94-2.06 2.06-.94-2.06-.94L8.5 2.5l-.94 2.06-2.06.94zm10 10l.94 2.06.94-2.06 2.06-.94-2.06-.94-.94-2.06-.94 2.06-2.06.94z\"/><path d=\"M17.41 7.96l-1.37-1.37c-.4-.4-.92-.59-1.43-.59-.52 0-1.04.2-1.43.59L10.3 9.45l-7.72 7.72c-.78.78-.78 2.05 0 2.83L4 21.41c.39.39.9.59 1.41.59.51 0 1.02-.2 1.41-.59l7.78-7.78 2.81-2.81c.8-.78.8-2.07 0-2.86zM5.41 20L4 18.59l7.72-7.72 1.47 1.35L5.41 20z\"/>\n",
              "  </svg>\n",
              "      </button>\n",
              "      \n",
              "  <style>\n",
              "    .colab-df-container {\n",
              "      display:flex;\n",
              "      flex-wrap:wrap;\n",
              "      gap: 12px;\n",
              "    }\n",
              "\n",
              "    .colab-df-convert {\n",
              "      background-color: #E8F0FE;\n",
              "      border: none;\n",
              "      border-radius: 50%;\n",
              "      cursor: pointer;\n",
              "      display: none;\n",
              "      fill: #1967D2;\n",
              "      height: 32px;\n",
              "      padding: 0 0 0 0;\n",
              "      width: 32px;\n",
              "    }\n",
              "\n",
              "    .colab-df-convert:hover {\n",
              "      background-color: #E2EBFA;\n",
              "      box-shadow: 0px 1px 2px rgba(60, 64, 67, 0.3), 0px 1px 3px 1px rgba(60, 64, 67, 0.15);\n",
              "      fill: #174EA6;\n",
              "    }\n",
              "\n",
              "    [theme=dark] .colab-df-convert {\n",
              "      background-color: #3B4455;\n",
              "      fill: #D2E3FC;\n",
              "    }\n",
              "\n",
              "    [theme=dark] .colab-df-convert:hover {\n",
              "      background-color: #434B5C;\n",
              "      box-shadow: 0px 1px 3px 1px rgba(0, 0, 0, 0.15);\n",
              "      filter: drop-shadow(0px 1px 2px rgba(0, 0, 0, 0.3));\n",
              "      fill: #FFFFFF;\n",
              "    }\n",
              "  </style>\n",
              "\n",
              "      <script>\n",
              "        const buttonEl =\n",
              "          document.querySelector('#df-2484a628-ec74-4c02-85bb-e17a183c2277 button.colab-df-convert');\n",
              "        buttonEl.style.display =\n",
              "          google.colab.kernel.accessAllowed ? 'block' : 'none';\n",
              "\n",
              "        async function convertToInteractive(key) {\n",
              "          const element = document.querySelector('#df-2484a628-ec74-4c02-85bb-e17a183c2277');\n",
              "          const dataTable =\n",
              "            await google.colab.kernel.invokeFunction('convertToInteractive',\n",
              "                                                     [key], {});\n",
              "          if (!dataTable) return;\n",
              "\n",
              "          const docLinkHtml = 'Like what you see? Visit the ' +\n",
              "            '<a target=\"_blank\" href=https://colab.research.google.com/notebooks/data_table.ipynb>data table notebook</a>'\n",
              "            + ' to learn more about interactive tables.';\n",
              "          element.innerHTML = '';\n",
              "          dataTable['output_type'] = 'display_data';\n",
              "          await google.colab.output.renderOutput(dataTable, element);\n",
              "          const docLink = document.createElement('div');\n",
              "          docLink.innerHTML = docLinkHtml;\n",
              "          element.appendChild(docLink);\n",
              "        }\n",
              "      </script>\n",
              "    </div>\n",
              "  </div>\n",
              "  "
            ]
          },
          "metadata": {},
          "execution_count": 35
        }
      ],
      "source": [
        "# check out the statistics for each weight column\n",
        "df.describe()"
      ]
    },
    {
      "cell_type": "code",
      "execution_count": 36,
      "metadata": {
        "id": "4Np8LOGIBfGe",
        "outputId": "dbba0f2e-5f92-4396-aaf9-c25437b94f74",
        "colab": {
          "base_uri": "https://localhost:8080/",
          "height": 736
        }
      },
      "outputs": [
        {
          "output_type": "display_data",
          "data": {
            "text/plain": [
              "<Figure size 2000x1200 with 4 Axes>"
            ],
            "image/png": "[encoded data removed]"
          },
          "metadata": {}
        }
      ],
      "source": [
        "# plot the distributions for each weight column\n",
        "df.hist(figsize=(20,12));"
      ]
    },
    {
      "cell_type": "markdown",
      "metadata": {
        "id": "PAtwX9QfBfGe"
      },
      "source": [
        "## Observations\n",
        "\n",
        "Take a look at the statistical table and the plots. Then answer the following questions.\n",
        "\n",
        "**How do the hidden layer weights from the best performing model compare to the initial weight values?**"
      ]
    },
    {
      "cell_type": "markdown",
      "metadata": {
        "deletable": false,
        "id": "GcB8C891BfGe",
        "nbgrader": {
          "cell_type": "markdown",
          "checksum": "5eacb66f89b216ae3b4bb3c4b7bd6d38",
          "grade": true,
          "grade_id": "cell-6add7cc400c4c716",
          "locked": false,
          "points": 0,
          "schema_version": 3,
          "solution": true,
          "task": false
        }
      },
      "source": [
        "YOUR ANSWER HERE"
      ]
    },
    {
      "cell_type": "markdown",
      "metadata": {
        "id": "6ssnJofqBfGf"
      },
      "source": [
        "**What was the effect of using a small L2 penalty value (regularization constant)?**"
      ]
    },
    {
      "cell_type": "markdown",
      "metadata": {
        "deletable": false,
        "id": "N3PyRkv_BfGf",
        "nbgrader": {
          "cell_type": "markdown",
          "checksum": "92ac1689b72d727ab7f4d261c5e76daa",
          "grade": true,
          "grade_id": "cell-5b4f11bba2d49639",
          "locked": false,
          "points": 0,
          "schema_version": 3,
          "solution": true,
          "task": false
        }
      },
      "source": [
        "YOUR ANSWER HERE"
      ]
    },
    {
      "cell_type": "markdown",
      "metadata": {
        "id": "_dIM4qL5BfGf"
      },
      "source": [
        "**What was the effect of using a large L2 penalty value?**"
      ]
    },
    {
      "cell_type": "markdown",
      "metadata": {
        "deletable": false,
        "id": "yhaLO6-CBfGf",
        "nbgrader": {
          "cell_type": "markdown",
          "checksum": "3048a6d2805f61d6fb58372c42c3ac54",
          "grade": true,
          "grade_id": "cell-0a30b62e5e119555",
          "locked": false,
          "points": 0,
          "schema_version": 3,
          "solution": true,
          "task": false
        }
      },
      "source": [
        "YOUR ANSWER HERE"
      ]
    },
    {
      "cell_type": "markdown",
      "metadata": {
        "id": "8rDYEPbsBfGg"
      },
      "source": [
        "**Given what you know about L2 regularization, are you surprised by these results?**"
      ]
    },
    {
      "cell_type": "markdown",
      "metadata": {
        "deletable": false,
        "id": "m3Nt5LmOBfGg",
        "nbgrader": {
          "cell_type": "markdown",
          "checksum": "d8a2034f67badfe53f601873f7026dc0",
          "grade": true,
          "grade_id": "cell-c04d067161064011",
          "locked": false,
          "points": 0,
          "schema_version": 3,
          "solution": true,
          "task": false
        }
      },
      "source": [
        "YOUR ANSWER HERE"
      ]
    },
    {
      "cell_type": "markdown",
      "metadata": {
        "id": "0SI5IBq8BfGg"
      },
      "source": [
        "----\n",
        "\n",
        "# Experiment 2: Identify the relationship between model performance and Max Norm Weight Constraint\n",
        "\n",
        "![](https://qph.fs.quoracdn.net/main-qimg-9d0dbf8074761b541ba80543ddfc9f73.webp)\n",
        "\n",
        "Recall from lecture that the **norm** of a vector is another word for the **length** of the vector.\n",
        "\n",
        "`MaxNorm` weight constraint puts a limit on the norm of the weight vector.\n",
        "\n",
        "The effect that Lp regularization and `MaxNorm` regularization have on the weights is similar, but they go about it in different ways.\n",
        "\n",
        "While Lp regularization (L1/Lasso and L2/Ridge) shrink the weight values by imposing constraints on their L1 and L2 norms, `MaxNorm` regularization shrinks the weight values by imposing a limit on the norm of a weight vector. Here's how it works: if an update would push the norm of a weight vector above MaxNorm, a scale factor is applied to all the weights so as to shrink the norm back to MaxNorm.\n",
        "\n",
        "In this experiment, we'll run another gridseach, similar to the one we ran for L2 regularization in the previous experiment. This time, we are going to gauge the effect of `MaxNorm` regularization on model performance and the distribution of the learned weights. As in the previous experiment, we will simplify our analysis by focusing on the weights for the first neuron in the first hidden layer."
      ]
    },
    {
      "cell_type": "markdown",
      "metadata": {
        "id": "ChP-sILzBfGg"
      },
      "source": [
        "Since we already built our model, we just need to update the `hyper_parameters` dictionary."
      ]
    },
    {
      "cell_type": "code",
      "execution_count": 37,
      "metadata": {
        "id": "5xdqcr6WBfGg",
        "outputId": "a8354a91-6e8a-4380-d6af-0d3da1a234d2",
        "colab": {
          "base_uri": "https://localhost:8080/"
        }
      },
      "outputs": [
        {
          "output_type": "execute_result",
          "data": {
            "text/plain": [
              "{'maxnorm_wc': array([ 0.5,  1. ,  1.5,  2. ,  2.5,  3. ,  3.5,  4. ,  4.5,  5. ,  5.5,\n",
              "         6. ,  6.5,  7. ,  7.5,  8. ,  8.5,  9. ,  9.5, 10. ]),\n",
              " 'epochs': [1]}"
            ]
          },
          "metadata": {},
          "execution_count": 37
        }
      ],
      "source": [
        "# build out our hyperparameter dictionary\n",
        "hyper_parameters = {\n",
        "\n",
        "    \"maxnorm_wc\": np.linspace(0.5, 10.0, num=20),\n",
        "    # default is 1, in order to change it we must provide value here because we can't provide a parameter value for model.fit() directly when using gridsearch\n",
        "    # protip: consider changing epochs to 1 if the gridsearche run-time are too long for you\n",
        "    \"epochs\": [1]\n",
        "}\n",
        "\n",
        "hyper_parameters"
      ]
    },
    {
      "cell_type": "code",
      "execution_count": 39,
      "metadata": {
        "id": "AGQiKwo0BfGh",
        "outputId": "c10653af-d15a-4bd2-d426-e4ff529d0417",
        "colab": {
          "base_uri": "https://localhost:8080/"
        }
      },
      "outputs": [
        {
          "output_type": "stream",
          "name": "stdout",
          "text": [
            "Fitting 3 folds for each of 20 candidates, totalling 60 fits\n",
            "1563/1563 [==============================] - 8s 4ms/step - loss: 0.7419 - accuracy: 0.7711\n",
            "782/782 [==============================] - 3s 3ms/step - loss: 0.6097 - accuracy: 0.8146\n",
            "1563/1563 [==============================] - 8s 4ms/step - loss: 0.7421 - accuracy: 0.7666\n",
            "782/782 [==============================] - 2s 2ms/step - loss: 0.6286 - accuracy: 0.8094\n",
            "1563/1563 [==============================] - 8s 4ms/step - loss: 0.7399 - accuracy: 0.7680\n",
            "782/782 [==============================] - 2s 2ms/step - loss: 0.6087 - accuracy: 0.8197\n",
            "1563/1563 [==============================] - 8s 4ms/step - loss: 0.6643 - accuracy: 0.7967\n",
            "782/782 [==============================] - 2s 3ms/step - loss: 0.5531 - accuracy: 0.8260\n",
            "1563/1563 [==============================] - 10s 5ms/step - loss: 0.6658 - accuracy: 0.7940\n",
            "782/782 [==============================] - 2s 2ms/step - loss: 0.5644 - accuracy: 0.8322\n",
            "1563/1563 [==============================] - 8s 4ms/step - loss: 0.6719 - accuracy: 0.7930\n",
            "782/782 [==============================] - 2s 2ms/step - loss: 0.5383 - accuracy: 0.8368\n",
            "1563/1563 [==============================] - 8s 4ms/step - loss: 0.6480 - accuracy: 0.8033\n",
            "782/782 [==============================] - 2s 2ms/step - loss: 0.5061 - accuracy: 0.8451\n",
            "1563/1563 [==============================] - 8s 4ms/step - loss: 0.6481 - accuracy: 0.8015\n",
            "782/782 [==============================] - 2s 2ms/step - loss: 0.5384 - accuracy: 0.8418\n",
            "1563/1563 [==============================] - 8s 4ms/step - loss: 0.6527 - accuracy: 0.7981\n",
            "782/782 [==============================] - 2s 2ms/step - loss: 0.5233 - accuracy: 0.8430\n",
            "1563/1563 [==============================] - 8s 4ms/step - loss: 0.6459 - accuracy: 0.8048\n",
            "782/782 [==============================] - 2s 2ms/step - loss: 0.5169 - accuracy: 0.8398\n",
            "1563/1563 [==============================] - 8s 4ms/step - loss: 0.6524 - accuracy: 0.7984\n",
            "782/782 [==============================] - 2s 2ms/step - loss: 0.5246 - accuracy: 0.8440\n",
            "1563/1563 [==============================] - 8s 4ms/step - loss: 0.6472 - accuracy: 0.7991\n",
            "782/782 [==============================] - 2s 2ms/step - loss: 0.5110 - accuracy: 0.8462\n",
            "1563/1563 [==============================] - 9s 4ms/step - loss: 0.6509 - accuracy: 0.8022\n",
            "782/782 [==============================] - 2s 3ms/step - loss: 0.5236 - accuracy: 0.8409\n",
            "1563/1563 [==============================] - 8s 4ms/step - loss: 0.6501 - accuracy: 0.7976\n",
            "782/782 [==============================] - 2s 2ms/step - loss: 0.5581 - accuracy: 0.8313\n",
            "1563/1563 [==============================] - 8s 4ms/step - loss: 0.6447 - accuracy: 0.8004\n",
            "782/782 [==============================] - 2s 2ms/step - loss: 0.5182 - accuracy: 0.8444\n",
            "1563/1563 [==============================] - 8s 4ms/step - loss: 0.6466 - accuracy: 0.8032\n",
            "782/782 [==============================] - 2s 2ms/step - loss: 0.5204 - accuracy: 0.8412\n",
            "1563/1563 [==============================] - 8s 4ms/step - loss: 0.6561 - accuracy: 0.7978\n",
            "782/782 [==============================] - 2s 2ms/step - loss: 0.5331 - accuracy: 0.8388\n",
            "1563/1563 [==============================] - 8s 4ms/step - loss: 0.6558 - accuracy: 0.7973\n",
            "782/782 [==============================] - 2s 2ms/step - loss: 0.5341 - accuracy: 0.8378\n",
            "1563/1563 [==============================] - 8s 4ms/step - loss: 0.6547 - accuracy: 0.7986\n",
            "782/782 [==============================] - 2s 2ms/step - loss: 0.5146 - accuracy: 0.8396\n",
            "1563/1563 [==============================] - 8s 4ms/step - loss: 0.6467 - accuracy: 0.8013\n",
            "782/782 [==============================] - 2s 2ms/step - loss: 0.5122 - accuracy: 0.8440\n",
            "1563/1563 [==============================] - 8s 4ms/step - loss: 0.6470 - accuracy: 0.8014\n",
            "782/782 [==============================] - 2s 2ms/step - loss: 0.5120 - accuracy: 0.8454\n",
            "1563/1563 [==============================] - 8s 4ms/step - loss: 0.6496 - accuracy: 0.8011\n",
            "782/782 [==============================] - 2s 2ms/step - loss: 0.5534 - accuracy: 0.8280\n",
            "1563/1563 [==============================] - 8s 4ms/step - loss: 0.6536 - accuracy: 0.7989\n",
            "782/782 [==============================] - 2s 3ms/step - loss: 0.5537 - accuracy: 0.8302\n",
            "1563/1563 [==============================] - 8s 4ms/step - loss: 0.6454 - accuracy: 0.8012\n",
            "782/782 [==============================] - 2s 2ms/step - loss: 0.5702 - accuracy: 0.8249\n",
            "1563/1563 [==============================] - 8s 4ms/step - loss: 0.6446 - accuracy: 0.8037\n",
            "782/782 [==============================] - 2s 2ms/step - loss: 0.5290 - accuracy: 0.8385\n",
            "1563/1563 [==============================] - 8s 4ms/step - loss: 0.6493 - accuracy: 0.7998\n",
            "782/782 [==============================] - 2s 3ms/step - loss: 0.5421 - accuracy: 0.8332\n",
            "1563/1563 [==============================] - 8s 4ms/step - loss: 0.6454 - accuracy: 0.8009\n",
            "782/782 [==============================] - 2s 2ms/step - loss: 0.5206 - accuracy: 0.8438\n",
            "1563/1563 [==============================] - 8s 4ms/step - loss: 0.6426 - accuracy: 0.8034\n",
            "782/782 [==============================] - 3s 3ms/step - loss: 0.5084 - accuracy: 0.8449\n",
            "1563/1563 [==============================] - 8s 4ms/step - loss: 0.6477 - accuracy: 0.7998\n",
            "782/782 [==============================] - 3s 3ms/step - loss: 0.5125 - accuracy: 0.8483\n",
            "1563/1563 [==============================] - 7s 4ms/step - loss: 0.6507 - accuracy: 0.7978\n",
            "782/782 [==============================] - 2s 2ms/step - loss: 0.5121 - accuracy: 0.8467\n",
            "1563/1563 [==============================] - 8s 4ms/step - loss: 0.6531 - accuracy: 0.8010\n",
            "782/782 [==============================] - 2s 3ms/step - loss: 0.5120 - accuracy: 0.8442\n",
            "1563/1563 [==============================] - 7s 4ms/step - loss: 0.6536 - accuracy: 0.7980\n",
            "782/782 [==============================] - 2s 2ms/step - loss: 0.5273 - accuracy: 0.8432\n",
            "1563/1563 [==============================] - 8s 4ms/step - loss: 0.6475 - accuracy: 0.8008\n",
            "782/782 [==============================] - 2s 2ms/step - loss: 0.5321 - accuracy: 0.8347\n",
            "1563/1563 [==============================] - 8s 4ms/step - loss: 0.6522 - accuracy: 0.7997\n",
            "782/782 [==============================] - 2s 2ms/step - loss: 0.5315 - accuracy: 0.8358\n",
            "1563/1563 [==============================] - 8s 4ms/step - loss: 0.6478 - accuracy: 0.7997\n",
            "782/782 [==============================] - 2s 2ms/step - loss: 0.5434 - accuracy: 0.8360\n",
            "1563/1563 [==============================] - 8s 4ms/step - loss: 0.6458 - accuracy: 0.8020\n",
            "782/782 [==============================] - 2s 2ms/step - loss: 0.5162 - accuracy: 0.8409\n",
            "1563/1563 [==============================] - 9s 4ms/step - loss: 0.6522 - accuracy: 0.8012\n",
            "782/782 [==============================] - 2s 3ms/step - loss: 0.5363 - accuracy: 0.8354\n",
            "1563/1563 [==============================] - 8s 4ms/step - loss: 0.6518 - accuracy: 0.7985\n",
            "782/782 [==============================] - 2s 2ms/step - loss: 0.5100 - accuracy: 0.8474\n",
            "1563/1563 [==============================] - 8s 4ms/step - loss: 0.6519 - accuracy: 0.7991\n",
            "782/782 [==============================] - 2s 2ms/step - loss: 0.5482 - accuracy: 0.8378\n",
            "1563/1563 [==============================] - 8s 4ms/step - loss: 0.6521 - accuracy: 0.8014\n",
            "782/782 [==============================] - 2s 2ms/step - loss: 0.5262 - accuracy: 0.8377\n",
            "1563/1563 [==============================] - 8s 4ms/step - loss: 0.6521 - accuracy: 0.7984\n",
            "782/782 [==============================] - 2s 2ms/step - loss: 0.5316 - accuracy: 0.8420\n",
            "1563/1563 [==============================] - 8s 4ms/step - loss: 0.6468 - accuracy: 0.8011\n",
            "782/782 [==============================] - 2s 2ms/step - loss: 0.5429 - accuracy: 0.8379\n",
            "1563/1563 [==============================] - 8s 4ms/step - loss: 0.6422 - accuracy: 0.8043\n",
            "782/782 [==============================] - 2s 3ms/step - loss: 0.5382 - accuracy: 0.8313\n",
            "1563/1563 [==============================] - 8s 4ms/step - loss: 0.6525 - accuracy: 0.7987\n",
            "782/782 [==============================] - 2s 2ms/step - loss: 0.5258 - accuracy: 0.8376\n",
            "1563/1563 [==============================] - 8s 4ms/step - loss: 0.6477 - accuracy: 0.8019\n",
            "782/782 [==============================] - 2s 3ms/step - loss: 0.5037 - accuracy: 0.8510\n",
            "1563/1563 [==============================] - 8s 4ms/step - loss: 0.6505 - accuracy: 0.8024\n",
            "782/782 [==============================] - 3s 3ms/step - loss: 0.5315 - accuracy: 0.8334\n",
            "1563/1563 [==============================] - 8s 4ms/step - loss: 0.6475 - accuracy: 0.7998\n",
            "782/782 [==============================] - 2s 3ms/step - loss: 0.5354 - accuracy: 0.8393\n",
            "1563/1563 [==============================] - 7s 4ms/step - loss: 0.6470 - accuracy: 0.8026\n",
            "782/782 [==============================] - 3s 3ms/step - loss: 0.5403 - accuracy: 0.8366\n",
            "1563/1563 [==============================] - 8s 4ms/step - loss: 0.6493 - accuracy: 0.8030\n",
            "782/782 [==============================] - 2s 2ms/step - loss: 0.5268 - accuracy: 0.8376\n",
            "1563/1563 [==============================] - 8s 4ms/step - loss: 0.6513 - accuracy: 0.7994\n",
            "782/782 [==============================] - 2s 3ms/step - loss: 0.5289 - accuracy: 0.8388\n",
            "1563/1563 [==============================] - 8s 4ms/step - loss: 0.6436 - accuracy: 0.8020\n",
            "782/782 [==============================] - 2s 3ms/step - loss: 0.5464 - accuracy: 0.8354\n",
            "1563/1563 [==============================] - 8s 4ms/step - loss: 0.6496 - accuracy: 0.8035\n",
            "782/782 [==============================] - 2s 3ms/step - loss: 0.5274 - accuracy: 0.8378\n",
            "1563/1563 [==============================] - 9s 5ms/step - loss: 0.6473 - accuracy: 0.8004\n",
            "782/782 [==============================] - 2s 3ms/step - loss: 0.5292 - accuracy: 0.8409\n",
            "1563/1563 [==============================] - 9s 5ms/step - loss: 0.6508 - accuracy: 0.7989\n",
            "782/782 [==============================] - 2s 3ms/step - loss: 0.5212 - accuracy: 0.8449\n",
            "1563/1563 [==============================] - 9s 5ms/step - loss: 0.6517 - accuracy: 0.8003\n",
            "782/782 [==============================] - 2s 3ms/step - loss: 0.5372 - accuracy: 0.8370\n",
            "1563/1563 [==============================] - 9s 5ms/step - loss: 0.6457 - accuracy: 0.8030\n",
            "782/782 [==============================] - 2s 3ms/step - loss: 0.5090 - accuracy: 0.8458\n",
            "1563/1563 [==============================] - 9s 5ms/step - loss: 0.6468 - accuracy: 0.8007\n",
            "782/782 [==============================] - 2s 3ms/step - loss: 0.5270 - accuracy: 0.8415\n",
            "1563/1563 [==============================] - 9s 4ms/step - loss: 0.6453 - accuracy: 0.8019\n",
            "782/782 [==============================] - 2s 3ms/step - loss: 0.5505 - accuracy: 0.8323\n",
            "1563/1563 [==============================] - 9s 4ms/step - loss: 0.6496 - accuracy: 0.8005\n",
            "782/782 [==============================] - 2s 3ms/step - loss: 0.5077 - accuracy: 0.8492\n",
            "1563/1563 [==============================] - 9s 4ms/step - loss: 0.6521 - accuracy: 0.8008\n",
            "782/782 [==============================] - 3s 3ms/step - loss: 0.5533 - accuracy: 0.8319\n",
            "2344/2344 [==============================] - 13s 5ms/step - loss: 0.5996 - accuracy: 0.8170\n"
          ]
        }
      ],
      "source": [
        "start=time()\n",
        "# Create and run Grid Search\n",
        "grid = GridSearchCV(estimator=model,\n",
        "                    param_grid=hyper_parameters,\n",
        "                    n_jobs=-2,\n",
        "                    verbose=1,\n",
        "                    cv=3)\n",
        "\n",
        "grid_result = grid.fit(X_train, y_train)\n",
        "end=time()"
      ]
    },
    {
      "cell_type": "code",
      "execution_count": null,
      "metadata": {
        "id": "pslQN3T-BfGh"
      },
      "outputs": [],
      "source": [
        "print(\"Gridsearch runtime {0:.3} mins\".format( (end-start)/60 ))"
      ]
    },
    {
      "cell_type": "code",
      "execution_count": null,
      "metadata": {
        "id": "cxaAl3cvBfGh"
      },
      "outputs": [],
      "source": [
        "# use the mean accuracy from the CV splits for determining best model score\n",
        "means = grid.cv_results_['mean_test_score']\n",
        "stds = grid.cv_results_['std_test_score']\n",
        "params = grid.cv_results_['params']\n",
        "\n",
        "# move l2 penalty values outside of dictionary and into a list\n",
        "param_values = [param_dict[\"maxnorm_wc\"] for param_dict in params]\n",
        "\n",
        "# plot accuracy vs l2_reg_penalty\n",
        "plt.figure(figsize=(20,6))\n",
        "plt.grid()\n",
        "plt.errorbar(param_values, means, yerr=stds, ecolor=\"orange\")\n",
        "plt.title(\"MaxNorm weight constraint: Model Accuracy vs MaxNorm\")\n",
        "plt.ylabel(\"Validation Accuracy\", )\n",
        "plt.xlabel(\"Max Norm for Weight Vector \");"
      ]
    },
    {
      "cell_type": "code",
      "execution_count": null,
      "metadata": {
        "deletable": false,
        "id": "D3aeaN_NBfGi",
        "nbgrader": {
          "cell_type": "code",
          "checksum": "cfe7bd54a7a14ba7ee63c88d6d1828b4",
          "grade": false,
          "grade_id": "cell-f67372e0b9b30614",
          "locked": false,
          "schema_version": 3,
          "solution": true,
          "task": false
        }
      },
      "outputs": [],
      "source": [
        "# get the best value of max norm from grid and save to best_max_norm_val\n",
        "\n",
        "# get the best trained model from grid and save to best_model\n",
        "\n",
        "# get the weights from the best trained model and save to best_weights\n",
        "\n",
        "# YOUR CODE HERE\n",
        "raise NotImplementedError()"
      ]
    },
    {
      "cell_type": "code",
      "execution_count": null,
      "metadata": {
        "id": "udo9kxwWBfGi"
      },
      "outputs": [],
      "source": [
        "best_max_norm_val"
      ]
    },
    {
      "cell_type": "code",
      "execution_count": null,
      "metadata": {
        "id": "aYdmRUJSBfGi"
      },
      "outputs": [],
      "source": [
        "# we can verify that the norm of our weights are indeed below the maximum allowed value\n",
        "np.linalg.norm(best_weights[0][0])"
      ]
    },
    {
      "cell_type": "code",
      "execution_count": null,
      "metadata": {
        "deletable": false,
        "id": "3ew76uwZBfGi",
        "nbgrader": {
          "cell_type": "code",
          "checksum": "67f65bd636e3b3b3bc7d20c02ba6b666",
          "grade": false,
          "grade_id": "cell-e752c1a8c853985d",
          "locked": false,
          "schema_version": 3,
          "solution": true,
          "task": false
        }
      },
      "outputs": [],
      "source": [
        "# train a model using the max_norm_val value that scored the lowest\n",
        "\n",
        "# build a model using build_complex_model and worse_max_norm_val and save it to worse_model\n",
        "\n",
        "# fit model\n",
        "\n",
        "# get weights from worse performing model\n",
        "\n",
        "\n",
        "# YOUR CODE HERE\n",
        "raise NotImplementedError()"
      ]
    },
    {
      "cell_type": "markdown",
      "metadata": {
        "id": "GgVx0Yg-7OwJ"
      },
      "source": [
        "Sample the initial weights from the `Glorot Uniform Weight Initializer`, for comparison"
      ]
    },
    {
      "cell_type": "code",
      "execution_count": null,
      "metadata": {
        "deletable": false,
        "id": "DEx3m9vVBfGj",
        "nbgrader": {
          "cell_type": "code",
          "checksum": "a38d5d4db707124b31a662fb4743b049",
          "grade": false,
          "grade_id": "cell-5c1aa4543e68487d",
          "locked": false,
          "schema_version": 3,
          "solution": true,
          "task": false
        }
      },
      "outputs": [],
      "source": [
        "# index for the 1st hidden layer weights in best_weights and save to best_hidden_weights\n",
        "\n",
        "# index for the 1st hidden layer weights in worse_weights and save to worse_hidden_weights\n",
        "\n",
        "# Keras models randomly samples from the GlorotUniform distribution for the initial values of model weights\n",
        "\n",
        "# instantiate GlorotUniform and sample 500 weights and save to initial_weight_values\n",
        "# hint: use shape=(1, 500)\n",
        "\n",
        "\n",
        "# YOUR CODE HERE\n",
        "raise NotImplementedError()"
      ]
    },
    {
      "cell_type": "code",
      "execution_count": null,
      "metadata": {
        "id": "Ck8kH2LeBfGk"
      },
      "outputs": [],
      "source": [
        "# move all weights to a dataframe for ease of analysis\n",
        "cols = [\"best_hidden_weights\", \"worse_hidden_weights\", \"initial_weight_values\"]\n",
        "data = [best_hidden_weights, worse_hidden_weights, initial_weight_values]\n",
        "df_maxnorm= pd.DataFrame(data=data).T\n",
        "df_maxnorm.columns = cols"
      ]
    },
    {
      "cell_type": "code",
      "execution_count": 1,
      "metadata": {
        "id": "jiT661fNBfGk",
        "outputId": "dc13256c-5bf4-471a-fab1-b0b56cb66024",
        "colab": {
          "base_uri": "https://localhost:8080/",
          "height": 165
        }
      },
      "outputs": [
        {
          "output_type": "error",
          "ename": "NameError",
          "evalue": "ignored",
          "traceback": [
            "\u001b[0;31m---------------------------------------------------------------------------\u001b[0m",
            "\u001b[0;31mNameError\u001b[0m                                 Traceback (most recent call last)",
            "\u001b[0;32m<ipython-input-1-69c5f9e925f0>\u001b[0m in \u001b[0;36m<cell line: 1>\u001b[0;34m()\u001b[0m\n\u001b[0;32m----> 1\u001b[0;31m \u001b[0mdf_maxnorm\u001b[0m\u001b[0;34m.\u001b[0m\u001b[0mdescribe\u001b[0m\u001b[0;34m(\u001b[0m\u001b[0;34m)\u001b[0m\u001b[0;34m\u001b[0m\u001b[0;34m\u001b[0m\u001b[0m\n\u001b[0m",
            "\u001b[0;31mNameError\u001b[0m: name 'df_maxnorm' is not defined"
          ]
        }
      ],
      "source": [
        "df_maxnorm.describe()"
      ]
    },
    {
      "cell_type": "code",
      "execution_count": null,
      "metadata": {
        "id": "N6HmKEFHBfGl"
      },
      "outputs": [],
      "source": [
        "# plot the distributions for each weight column\n",
        "df_maxnorm.hist(figsize=(20,12));"
      ]
    },
    {
      "cell_type": "markdown",
      "metadata": {
        "id": "GJLb71QuBfGm"
      },
      "source": [
        "## Observations\n",
        "\n",
        "Take a look at the statistical table and the plots. Then answer the following questions.\n",
        "\n",
        "**How do the hidden layer weights from the best performing model compare to the initial weight values?**"
      ]
    },
    {
      "cell_type": "markdown",
      "metadata": {
        "deletable": false,
        "id": "9Ow24epzBfGm",
        "nbgrader": {
          "cell_type": "markdown",
          "checksum": "f43fe1110cdcea8d1e4b432fe78d4e49",
          "grade": true,
          "grade_id": "cell-40a44d19694941b8",
          "locked": false,
          "points": 0,
          "schema_version": 3,
          "solution": true,
          "task": false
        }
      },
      "source": [
        "YOUR ANSWER HERE"
      ]
    },
    {
      "cell_type": "markdown",
      "metadata": {
        "id": "1C-q89taBfGm"
      },
      "source": [
        "**What was the effect of using the weight constraint value in MaxNorm in the best performing model?**"
      ]
    },
    {
      "cell_type": "markdown",
      "metadata": {
        "deletable": false,
        "id": "JEnRcaxEBfGm",
        "nbgrader": {
          "cell_type": "markdown",
          "checksum": "b1c59c58a5abdbc0b509983821198dba",
          "grade": true,
          "grade_id": "cell-4f9e1e134124e512",
          "locked": false,
          "points": 0,
          "schema_version": 3,
          "solution": true,
          "task": false
        }
      },
      "source": [
        "YOUR ANSWER HERE"
      ]
    },
    {
      "cell_type": "markdown",
      "metadata": {
        "id": "LY9joSwUBfGn"
      },
      "source": [
        "**What was the effect of using the weight constraint value in MaxNorm in the worse performing model?**"
      ]
    },
    {
      "cell_type": "markdown",
      "metadata": {
        "deletable": false,
        "id": "8_Pw4Jb1BfGn",
        "nbgrader": {
          "cell_type": "markdown",
          "checksum": "0062b4ddfad487c39633c37f4710b752",
          "grade": true,
          "grade_id": "cell-4c289ce70c34048a",
          "locked": false,
          "points": 0,
          "schema_version": 3,
          "solution": true,
          "task": false
        }
      },
      "source": [
        "YOUR ANSWER HERE"
      ]
    },
    {
      "cell_type": "markdown",
      "metadata": {
        "id": "fWmTydgiBfGn"
      },
      "source": [
        "**Given what you know about MaxNorm regularization, are you surprised by these results?**"
      ]
    },
    {
      "cell_type": "markdown",
      "metadata": {
        "deletable": false,
        "id": "EiAQlNHuBfGn",
        "nbgrader": {
          "cell_type": "markdown",
          "checksum": "3c36931d3532a8cbcb4ea0c956378728",
          "grade": true,
          "grade_id": "cell-77366a912217da5d",
          "locked": false,
          "points": 0,
          "schema_version": 3,
          "solution": true,
          "task": false
        }
      },
      "source": [
        "YOUR ANSWER HERE"
      ]
    },
    {
      "cell_type": "markdown",
      "metadata": {
        "id": "l_INtS2vBfGn"
      },
      "source": [
        "-----\n",
        "# Experiment 3: Identify the relationship between model performance and Dropout\n",
        "\n",
        "\n",
        "![](https://miro.medium.com/max/981/1*EinUlWw1n8vbcLyT0zx4gw.png)\n",
        "\n",
        "In the 3rd experiment, we will use gridsearch to see how varying the value of the the dropout probability affects model performance.\n",
        "\n",
        "Recall from lecture that dropout tends to perform best when used with `MaxNorm` regularization. Since this is the case, we will gridsearch both dropout probability and the weight constraint for `MaxNorm`.\n",
        "\n",
        "If interested, feel free to read (or just skim) through the original publication on [**Drop Out**](https://jmlr.org/papers/volume15/srivastava14a.old/srivastava14a.pdf).\n",
        "\n",
        "**Key Take aways:**\n",
        "\n",
        "1. During training, dropout will probabilistically \"turn off\" some neurons in the layer that dropout is implemented in.\n",
        "2. During inference (ie. making predictions on the test set) all neurons are used (i.e. no dropout is applied).\n",
        "3. Dropout works best when used with MaxNorm\n"
      ]
    },
    {
      "cell_type": "code",
      "execution_count": null,
      "metadata": {
        "id": "ce81CswWlP1N"
      },
      "outputs": [],
      "source": [
        "# build out our hyperparameter dictionary\n",
        "hyper_parameters = {\n",
        "    # for the sake of runtime, let's vary maxnorm_wc between 0.5 and 5.0\n",
        "    \"maxnorm_wc\": np.linspace(0.5, 5, num=5),\n",
        "    # take note that l1_reg_penalty values are in powers of 10\n",
        "    \"dropout_prob\": np.linspace(0.0, 0.6, num=5),\n",
        "    \"epochs\": [1] # default is 1, in order to change it we must provide value here because we can provide a parameter value for model.fit() directly when using gridsearch\n",
        "}\n",
        "\n",
        "hyper_parameters"
      ]
    },
    {
      "cell_type": "code",
      "execution_count": null,
      "metadata": {
        "id": "6CN5X-D2lTS4"
      },
      "outputs": [],
      "source": [
        "start=time()\n",
        "# Create and run Grid Search\n",
        "grid = GridSearchCV(estimator=model,\n",
        "                    param_grid=hyper_parameters,\n",
        "                    n_jobs=-2,\n",
        "                    verbose=1,\n",
        "                    cv=3)\n",
        "\n",
        "grid_result = grid.fit(X_train, y_train)\n",
        "end=time()"
      ]
    },
    {
      "cell_type": "code",
      "execution_count": null,
      "metadata": {
        "id": "Vg4ifWNtBfGo"
      },
      "outputs": [],
      "source": [
        "print(\"Gridsearch runtime {0:.3} mins\".format( (end-start)/60 ))"
      ]
    },
    {
      "cell_type": "code",
      "execution_count": null,
      "metadata": {
        "id": "CqO15wkmBfGo"
      },
      "outputs": [],
      "source": [
        "# use the mean accuracy from the CV splits for determining best model score\n",
        "means = grid.cv_results_['mean_test_score']\n",
        "stds = grid.cv_results_['std_test_score']\n",
        "params = grid.cv_results_['params']"
      ]
    },
    {
      "cell_type": "markdown",
      "metadata": {
        "id": "2-v92GwGBfGo"
      },
      "source": [
        "Since there are 2 independent hyperparameters which affect the validation accuracy (`dropout_prob` and `maxnorm_wc`), <br>\n",
        "we need a two-dimensional plot. A heat map will work."
      ]
    },
    {
      "cell_type": "code",
      "execution_count": null,
      "metadata": {
        "id": "I-W5UmNcBfGp"
      },
      "outputs": [],
      "source": [
        "dropout_prob_list = [  param_dict[\"dropout_prob\"]  for param_dict in params]\n",
        "maxnorm_wc_list = [  param_dict[\"maxnorm_wc\"]  for param_dict in params]\n",
        "data = [means, dropout_prob_list, maxnorm_wc_list ]\n",
        "\n",
        "cols = [\"val_acc\", \"dropout_prob\", \"maxnorm_wc\"]\n",
        "df_exp3 =pd.DataFrame(data=data).T\n",
        "df_exp3.columns = cols\n",
        "df_exp3.dropout_prob = df_exp3.dropout_prob.round(2)\n",
        "\n",
        "# pivot dataframe in preparation for heat map\n",
        "df_exp3 = df_exp3.pivot(\"maxnorm_wc\", \"dropout_prob\", \"val_acc\")"
      ]
    },
    {
      "cell_type": "code",
      "execution_count": null,
      "metadata": {
        "id": "FqilXbTYBfGp"
      },
      "outputs": [],
      "source": [
        "# Draw a heatmap with the val_acc values in each cell\n",
        "f, ax = plt.subplots(figsize=(18, 8))\n",
        "sns.heatmap(df_exp3, annot=True,  linewidths=.5, ax=ax);"
      ]
    },
    {
      "cell_type": "markdown",
      "metadata": {
        "id": "9dTgA0LEBfGp"
      },
      "source": [
        "### Observations\n",
        "\n",
        "We can see the dropout probabilities in the horizontal axis and the `MaxNorm` weight constraint values in the vertical axis. The values in the cells are the validation accuracy that corresponds to a pair of regularization values.\n",
        "\n",
        "Take a look at the heat map and answer the following questions. Note that depending on which model you used (the simple or complex one) your answers might be different from that of others."
      ]
    },
    {
      "cell_type": "markdown",
      "metadata": {
        "id": "uz1meXeiBfGp"
      },
      "source": [
        "**What range of dropout probability values tend to produce the highest validation accuracy?**"
      ]
    },
    {
      "cell_type": "markdown",
      "metadata": {
        "deletable": false,
        "id": "xjxa3AaoBfGp",
        "nbgrader": {
          "cell_type": "markdown",
          "checksum": "0f0013d4e07104a03b4d51664a308f53",
          "grade": true,
          "grade_id": "cell-4e0cb7a9240b1531",
          "locked": false,
          "points": 0,
          "schema_version": 3,
          "solution": true,
          "task": false
        }
      },
      "source": [
        "YOUR ANSWER HERE"
      ]
    },
    {
      "cell_type": "markdown",
      "metadata": {
        "id": "yiha7_G-BfGp"
      },
      "source": [
        "**What range of maxnorm weight constraints tend to produce the highest validation accuracy?**"
      ]
    },
    {
      "cell_type": "markdown",
      "metadata": {
        "deletable": false,
        "id": "ftoVpYqIBfGp",
        "nbgrader": {
          "cell_type": "markdown",
          "checksum": "9fd88f0bb870a910b925d60b38d17694",
          "grade": true,
          "grade_id": "cell-99539755d7d328f7",
          "locked": false,
          "points": 0,
          "schema_version": 3,
          "solution": true,
          "task": false
        }
      },
      "source": [
        "YOUR ANSWER HERE"
      ]
    },
    {
      "cell_type": "markdown",
      "metadata": {
        "id": "4M7ZARjJBfGp"
      },
      "source": [
        "**When taken together, what combinations of dropout probability and maxnorm weight constraints tend to produce the highest validation accuracy?**"
      ]
    },
    {
      "cell_type": "markdown",
      "metadata": {
        "deletable": false,
        "id": "rakqIiHNBfGq",
        "nbgrader": {
          "cell_type": "markdown",
          "checksum": "fee1e09ed8f6d354bd7b6e2986c2b811",
          "grade": true,
          "grade_id": "cell-5e19a56b4a2d975d",
          "locked": false,
          "points": 0,
          "schema_version": 3,
          "solution": true,
          "task": false
        }
      },
      "source": [
        "YOUR ANSWER HERE"
      ]
    },
    {
      "cell_type": "markdown",
      "metadata": {
        "id": "VnwcQRx3BfGr"
      },
      "source": [
        "**Do you think that using dropout was helpful in increasing model performance?**"
      ]
    },
    {
      "cell_type": "markdown",
      "metadata": {
        "deletable": false,
        "id": "mtdlzA8WBfGr",
        "nbgrader": {
          "cell_type": "markdown",
          "checksum": "de9c1bcff3c5eb6266cc80632d0956f0",
          "grade": true,
          "grade_id": "cell-d2a2f7b284c801dc",
          "locked": false,
          "points": 0,
          "schema_version": 3,
          "solution": true,
          "task": false
        }
      },
      "source": [
        "YOUR ANSWER HERE"
      ]
    },
    {
      "cell_type": "markdown",
      "metadata": {
        "id": "r3qKJpF_BfGs"
      },
      "source": [
        "_____\n",
        "\n",
        "#Part 2: Model Deployment\n",
        "# Experiment 4: Train, Save, and Load a Keras model\n",
        "\n",
        "Let's get some practice with how to save and load trained Keras models\n",
        "\n",
        "For this experiment, review the section on Saving and Loading models from the guided project, then:\n",
        "\n",
        "- Build a model of your choosing\n",
        "- Gridsearch the model with a method of your choosing\n",
        "- Save the trained model to a file\n",
        "- Load the trained model from the file\n",
        "- Just as we did in the Guided Project, evaluate the loaded model using a test set and verify that the results of the loaded model match that of the original model that was saved."
      ]
    },
    {
      "cell_type": "code",
      "execution_count": null,
      "metadata": {
        "id": "aki0LkDpBfGs"
      },
      "outputs": [],
      "source": [
        "# YOUR CODE HERE"
      ]
    }
  ],
  "metadata": {
    "accelerator": "GPU",
    "colab": {
      "name": "DS_424_Deploy_Assignment.ipynb",
      "provenance": [],
      "gpuType": "T4"
    },
    "kernelspec": {
      "display_name": "Python 3",
      "name": "python3"
    },
    "language_info": {
      "codemirror_mode": {
        "name": "ipython",
        "version": 3
      },
      "file_extension": ".py",
      "mimetype": "text/x-python",
      "name": "python",
      "nbconvert_exporter": "python",
      "pygments_lexer": "ipython3",
      "version": "3.10.8"
    },
    "nteract": {
      "version": "0.22.4"
    }
  },
  "nbformat": 4,
  "nbformat_minor": 0
}