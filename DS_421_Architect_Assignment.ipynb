{
  "nbformat": 4,
  "nbformat_minor": 0,
  "metadata": {
    "accelerator": "GPU",
    "colab": {
      "name": "DS_421_Architect_Assignment.ipynb",
      "provenance": []
    },
    "kernelspec": {
      "display_name": "Python 3",
      "language": "python",
      "name": "python3"
    },
    "language_info": {
      "codemirror_mode": {
        "name": "ipython",
        "version": 3
      },
      "file_extension": ".py",
      "mimetype": "text/x-python",
      "name": "python",
      "nbconvert_exporter": "python",
      "pygments_lexer": "ipython3",
      "version": "3.8.5"
    }
  },
  "cells": [
    {
      "cell_type": "markdown",
      "metadata": {
        "id": "ObyHCH8HvHSf"
      },
      "source": [
        "\n",
        "# *Data Science Unit 4 Sprint 2 Assignment 1*\n",
        "\n",
        "Use TensorFlow Keras and a sample of the [Quickdraw dataset](https://github.com/googlecreativelab/quickdraw-dataset) to build a sketch classification model. The dataset has been sampled to only 10 classes and 10000 observations per class. \n",
        "\n",
        "### Objective\n",
        "\n",
        "- Build a baseline classification model then, run a few experiments with different optimizers and learning rates. \n",
        "- Don't forget to [**switch to GPU if you're running your notebook on Colab!**](https://colab.research.google.com/notebooks/gpu.ipynb)"
      ]
    },
    {
      "cell_type": "markdown",
      "metadata": {
        "id": "s-Tc3ovEyQ9b"
      },
      "source": [
        "## Load Your Data"
      ]
    },
    {
      "cell_type": "code",
      "metadata": {
        "id": "CkU0pAYCvU8o"
      },
      "source": [
        "# imports in first cell \n",
        "import seaborn as sns\n",
        "import pandas as pd\n",
        "import numpy as np\n",
        "import tensorflow as tf \n",
        "import matplotlib.pyplot as plt\n",
        "from sklearn.utils import shuffle\n",
        "\n",
        "# use Sequential to build out your model\n",
        "from tensorflow.keras.models import Sequential\n",
        "\n",
        "# Dense layer is used for Fully Connected Forward Feeding networks\n",
        "from tensorflow.keras.layers import Dense"
      ],
      "execution_count": 1,
      "outputs": []
    },
    {
      "cell_type": "markdown",
      "metadata": {
        "id": "UT2HFvSgDlFQ"
      },
      "source": [
        "Note that the 28x28 quickdraw images have already been \"flattened\" into 784: dimensional vectors"
      ]
    },
    {
      "cell_type": "code",
      "metadata": {
        "id": "S1XYJRQKLj1B",
        "colab": {
          "base_uri": "https://localhost:8080/"
        },
        "outputId": "7128c0fc-dbfc-47ec-add0-a0fc6cdc594d"
      },
      "source": [
        "# load the quickdraw data set\n",
        "!git clone https://github.com/LambdaSchool/DS-Unit-4-Sprint-2-Neural-Networks\n",
        "data = np.load('/content/DS-Unit-4-Sprint-2-Neural-Networks/quickdraw10.npz')\n",
        "\n",
        "X = data['arr_0']\n",
        "y = data['arr_1']\n",
        "\n",
        "print(X.shape)\n",
        "print(y.shape)"
      ],
      "execution_count": 2,
      "outputs": [
        {
          "output_type": "stream",
          "name": "stdout",
          "text": [
            "Cloning into 'DS-Unit-4-Sprint-2-Neural-Networks'...\n",
            "remote: Enumerating objects: 527, done.\u001b[K\n",
            "remote: Counting objects: 100% (162/162), done.\u001b[K\n",
            "remote: Compressing objects: 100% (91/91), done.\u001b[K\n",
            "remote: Total 527 (delta 85), reused 132 (delta 70), pack-reused 365\u001b[K\n",
            "Receiving objects: 100% (527/527), 83.36 MiB | 11.22 MiB/s, done.\n",
            "Resolving deltas: 100% (269/269), done.\n",
            "Updating files: 100% (19/19), done.\n",
            "(100000, 784)\n",
            "(100000,)\n"
          ]
        }
      ]
    },
    {
      "cell_type": "markdown",
      "metadata": {
        "id": "mvMjoB_yDZTL"
      },
      "source": [
        "These are the names of the 10 image classes"
      ]
    },
    {
      "cell_type": "code",
      "metadata": {
        "id": "c8qsDqdqvHDd"
      },
      "source": [
        "class_names = ['apple',\n",
        "             'anvil',\n",
        "             'airplane',\n",
        "             'banana',\n",
        "             'The Eiffel Tower',\n",
        "             'The Mona Lisa',\n",
        "             'The Great Wall of China',\n",
        "             'alarm clock',\n",
        "             'ant',\n",
        "             'asparagus']"
      ],
      "execution_count": 3,
      "outputs": []
    },
    {
      "cell_type": "markdown",
      "metadata": {
        "id": "VxuY8RYXD9S4"
      },
      "source": [
        "We can explore the data a bit by reshaping the vectors back to images and displaying them with their labels. <br>\n",
        "Turns out the data has 10 blocks of 10,000 images of each of the above labels, in order. <br>\n",
        "So the code below displays the first image of each class."
      ]
    },
    {
      "cell_type": "code",
      "metadata": {
        "id": "Owbm1EbxvA5A",
        "colab": {
          "base_uri": "https://localhost:8080/",
          "height": 400
        },
        "outputId": "55337f61-8441-4f04-f727-98dd95b02217"
      },
      "source": [
        "# these are your 10 unique images\n",
        "plt.figure(figsize=(10,5))\n",
        "start = 0\n",
        "\n",
        "for num, name in enumerate(class_names):\n",
        "    plt.subplot(2,5, num+1)\n",
        "    plt.xticks([])\n",
        "    plt.yticks([])\n",
        "    plt.grid(False)\n",
        "    plt.imshow(X[start].reshape(28,28),cmap=plt.cm.binary)\n",
        "    plt.xlabel(name)\n",
        "    start += 10000\n",
        "plt.show()"
      ],
      "execution_count": 4,
      "outputs": [
        {
          "output_type": "display_data",
          "data": {
            "text/plain": [
              "<Figure size 1000x500 with 10 Axes>"
            ],
            "image/png": "[encoded data removed]"
          },
          "metadata": {}
        }
      ]
    },
    {
      "cell_type": "markdown",
      "metadata": {
        "id": "Av6i6t5QLj1D"
      },
      "source": [
        "Say hello to the Quickdraw dataset!\n",
        "\n",
        "You'll be using this dataset a lot this week as an alternative to the MNIST digits data set, which we'll use in the guided projects. The nice thing about this dataset is that it's simple, which allows us to focus on our model, its various components, and gradually come to a better understanding of how to build neural networks without worrying about cleaning and prepping our image data much."
      ]
    },
    {
      "cell_type": "code",
      "metadata": {
        "id": "c97_M1WNvTNY"
      },
      "source": [
        "# always a good idea to shuffle your dataset!\n",
        "X, y = shuffle(X, y)"
      ],
      "execution_count": 5,
      "outputs": []
    },
    {
      "cell_type": "markdown",
      "metadata": {
        "id": "jb70CbLVyK65"
      },
      "source": [
        "-----\n",
        "\n",
        "## Build Your Baseline Model\n",
        "\n",
        "Make sure that you\n",
        "\n",
        "- **Determine** the dimensionality of your input data by investigating **X**\n",
        "- **Normalize** your input data to values between 0 and 1 \n",
        "- **Determine** the number of neurons in your output layer by investigating **Y**\n",
        "- **Select** `sparse_categorical_crossentropy` as your loss function.\n",
        "- **Select** `sgd` as your optimizer.\n",
        "- **Add** 3 hidden layers to your model with the following number of nodes\n",
        "    - h1 has 500 nodes\n",
        "    - h2 has 250 nodes\n",
        "    - h3 has 100 nodes\n",
        "    \n",
        "- **Set** epochs to 20 \n",
        "- **Use** the `validation_split` keyword in `model.fit()` to automatically create a training / validation dataset from within the model. Specify a percentage, such as `validation_split = 0.2`\n",
        " \n",
        "Not sure what the various parameters are for or what values to assign to them?\n",
        "\n",
        "- Reference the guided project notebook for Sprint 2 Module 1\n",
        "- Reference the [**Keras documentation**](https://keras.io/api/)\n",
        "- Google other examples\n",
        "- Discuss your results with classmates "
      ]
    },
    {
      "cell_type": "code",
      "metadata": {
        "deletable": false,
        "nbgrader": {
          "cell_type": "code",
          "checksum": "ef20dd34df6998e0a50e394d59d58659",
          "grade": false,
          "grade_id": "cell-907b9348d7a2ebb3",
          "locked": false,
          "schema_version": 3,
          "solution": true,
          "task": false
        },
        "id": "f133nwpOLj1G"
      },
      "source": [
        "# get dim of image row vectors and save to input_dim\n",
        "input_dim = X.shape[1]\n",
        "\n",
        "# get number of unique labels and save to n_output_labels\n",
        "n_output_lables = len(np.unique(y))\n",
        "\n",
        "# normalize image data to values between 0 and 1 (by dividing by max pixel value)\n",
        "max_pixel_value = X.max()\n",
        "X_scaled = X/max_pixel_value\n",
        "\n",
        "# YOUR CODE HERE\n"
      ],
      "execution_count": 9,
      "outputs": []
    },
    {
      "cell_type": "code",
      "metadata": {
        "id": "vOufsWS3Lj1G"
      },
      "source": [
        "# a check on your data prep \n",
        "assert  X_scaled.max(), \"Max pixel value should be 1.0, make sure you normalize your data\""
      ],
      "execution_count": 8,
      "outputs": []
    },
    {
      "cell_type": "code",
      "metadata": {
        "deletable": false,
        "id": "zHWblzsMyNkU",
        "nbgrader": {
          "cell_type": "code",
          "checksum": "f0ba174cb72f491f73c3aa7df8ae7ac4",
          "grade": false,
          "grade_id": "cell-b7c96fc46d86725f",
          "locked": false,
          "schema_version": 3,
          "solution": true,
          "task": false
        }
      },
      "source": [
        "# instantiate a sequential object and call it model, then add the layers to your model\n",
        "\n",
        "# add a compile layer but don't fit your model yet \n",
        "\n",
        "# YOUR CODE HERE\n",
        "epochs = 20\n",
        "\n",
        "model = Sequential()\n",
        "\n",
        "model.add(\n",
        "    Dense(500, activation=\"sigmoid\", input_dim=input_dim)\n",
        ")\n",
        "\n",
        "model.add(\n",
        "    Dense(250, activation=\"sigmoid\")\n",
        ")\n",
        "\n",
        "model.add(\n",
        "    Dense(100, activation=\"sigmoid\")\n",
        ")\n",
        "\n",
        "model.add(\n",
        "    Dense(n_output_lables, activation=\"softmax\")          \n",
        ")\n",
        "\n",
        "model.compile(optimizer='sgd',\n",
        "              loss='sparse_categorical_crossentropy',\n",
        "              metrics=['accuracy'])"
      ],
      "execution_count": 21,
      "outputs": []
    },
    {
      "cell_type": "code",
      "metadata": {
        "id": "ojLnGDklLj1H"
      },
      "source": [
        "# a check on your model architecture \n",
        "n_layers = len(model.get_config()[\"layers\"])\n",
        "assert n_layers == 5, \"You should have 5 layers: input, h1, h2, h3, and output\""
      ],
      "execution_count": 22,
      "outputs": []
    },
    {
      "cell_type": "code",
      "metadata": {
        "id": "wMK2_DtJLj1I",
        "colab": {
          "base_uri": "https://localhost:8080/"
        },
        "outputId": "237a6ba8-e599-4646-f799-4414f8a5debd"
      },
      "source": [
        "# check out your model summary \n",
        "model.summary()"
      ],
      "execution_count": 23,
      "outputs": [
        {
          "output_type": "stream",
          "name": "stdout",
          "text": [
            "Model: \"sequential_3\"\n",
            "_________________________________________________________________\n",
            " Layer (type)                Output Shape              Param #   \n",
            "=================================================================\n",
            " dense_12 (Dense)            (None, 500)               392500    \n",
            "                                                                 \n",
            " dense_13 (Dense)            (None, 250)               125250    \n",
            "                                                                 \n",
            " dense_14 (Dense)            (None, 100)               25100     \n",
            "                                                                 \n",
            " dense_15 (Dense)            (None, 10)                1010      \n",
            "                                                                 \n",
            "=================================================================\n",
            "Total params: 543,860\n",
            "Trainable params: 543,860\n",
            "Non-trainable params: 0\n",
            "_________________________________________________________________\n"
          ]
        }
      ]
    },
    {
      "cell_type": "code",
      "metadata": {
        "id": "DXTSbEiyLj1I",
        "colab": {
          "base_uri": "https://localhost:8080/"
        },
        "outputId": "109037b8-3fc9-4bd8-9fa0-b14e1e057fbb"
      },
      "source": [
        "# fit your model and save training results to history \n",
        "history = model.fit(X_scaled, y, \n",
        "                    epochs=epochs, \n",
        "                    # a held-out validation set will be generated within the model\n",
        "                    validation_split=0.2\n",
        "                   )"
      ],
      "execution_count": 24,
      "outputs": [
        {
          "output_type": "stream",
          "name": "stdout",
          "text": [
            "Epoch 1/20\n",
            "2500/2500 [==============================] - 11s 4ms/step - loss: 2.2948 - accuracy: 0.1288 - val_loss: 2.2759 - val_accuracy: 0.3300\n",
            "Epoch 2/20\n",
            "2500/2500 [==============================] - 9s 4ms/step - loss: 2.2403 - accuracy: 0.2621 - val_loss: 2.1765 - val_accuracy: 0.3579\n",
            "Epoch 3/20\n",
            "2500/2500 [==============================] - 9s 3ms/step - loss: 1.9697 - accuracy: 0.4240 - val_loss: 1.7389 - val_accuracy: 0.4514\n",
            "Epoch 4/20\n",
            "2500/2500 [==============================] - 9s 4ms/step - loss: 1.5610 - accuracy: 0.5327 - val_loss: 1.4324 - val_accuracy: 0.5732\n",
            "Epoch 5/20\n",
            "2500/2500 [==============================] - 9s 4ms/step - loss: 1.3158 - accuracy: 0.6014 - val_loss: 1.2310 - val_accuracy: 0.6269\n",
            "Epoch 6/20\n",
            "2500/2500 [==============================] - 9s 4ms/step - loss: 1.1472 - accuracy: 0.6501 - val_loss: 1.0952 - val_accuracy: 0.6635\n",
            "Epoch 7/20\n",
            "2500/2500 [==============================] - 10s 4ms/step - loss: 1.0416 - accuracy: 0.6835 - val_loss: 1.0241 - val_accuracy: 0.6894\n",
            "Epoch 8/20\n",
            "2500/2500 [==============================] - 11s 4ms/step - loss: 0.9884 - accuracy: 0.6996 - val_loss: 0.9859 - val_accuracy: 0.7013\n",
            "Epoch 9/20\n",
            "2500/2500 [==============================] - 12s 5ms/step - loss: 0.9564 - accuracy: 0.7106 - val_loss: 0.9582 - val_accuracy: 0.7123\n",
            "Epoch 10/20\n",
            "2500/2500 [==============================] - 9s 4ms/step - loss: 0.9315 - accuracy: 0.7194 - val_loss: 0.9347 - val_accuracy: 0.7206\n",
            "Epoch 11/20\n",
            "2500/2500 [==============================] - 12s 5ms/step - loss: 0.9090 - accuracy: 0.7267 - val_loss: 0.9165 - val_accuracy: 0.7271\n",
            "Epoch 12/20\n",
            "2500/2500 [==============================] - 14s 5ms/step - loss: 0.8882 - accuracy: 0.7351 - val_loss: 0.8970 - val_accuracy: 0.7300\n",
            "Epoch 13/20\n",
            "2500/2500 [==============================] - 12s 5ms/step - loss: 0.8694 - accuracy: 0.7400 - val_loss: 0.8784 - val_accuracy: 0.7395\n",
            "Epoch 14/20\n",
            "2500/2500 [==============================] - 11s 4ms/step - loss: 0.8533 - accuracy: 0.7459 - val_loss: 0.8640 - val_accuracy: 0.7427\n",
            "Epoch 15/20\n",
            "2500/2500 [==============================] - 10s 4ms/step - loss: 0.8384 - accuracy: 0.7515 - val_loss: 0.8492 - val_accuracy: 0.7478\n",
            "Epoch 16/20\n",
            "2500/2500 [==============================] - 9s 4ms/step - loss: 0.8243 - accuracy: 0.7555 - val_loss: 0.8351 - val_accuracy: 0.7513\n",
            "Epoch 17/20\n",
            "2500/2500 [==============================] - 9s 3ms/step - loss: 0.8115 - accuracy: 0.7596 - val_loss: 0.8224 - val_accuracy: 0.7560\n",
            "Epoch 18/20\n",
            "2500/2500 [==============================] - 9s 4ms/step - loss: 0.7991 - accuracy: 0.7618 - val_loss: 0.8107 - val_accuracy: 0.7573\n",
            "Epoch 19/20\n",
            "2500/2500 [==============================] - 9s 4ms/step - loss: 0.7876 - accuracy: 0.7653 - val_loss: 0.8016 - val_accuracy: 0.7587\n",
            "Epoch 20/20\n",
            "2500/2500 [==============================] - 8s 3ms/step - loss: 0.7770 - accuracy: 0.7686 - val_loss: 0.7895 - val_accuracy: 0.7631\n"
          ]
        }
      ]
    },
    {
      "cell_type": "markdown",
      "metadata": {
        "id": "b0QJURWh-9uv"
      },
      "source": [
        "----\n",
        "### Visualize the Results\n",
        "\n",
        "- Move results in `history` to a dataframe. \n",
        "- Use [**Seaborn**](https://seaborn.pydata.org/generated/seaborn.lineplot.html) to create line plots for both loss and accuracy by epoch. \n",
        "- Analyze the results and write a couple of observations. \n",
        "\n",
        "At what point should we have stopped training the model and why? "
      ]
    },
    {
      "cell_type": "code",
      "metadata": {
        "deletable": false,
        "id": "ijAlzfYKAFaY",
        "nbgrader": {
          "cell_type": "code",
          "checksum": "6ef8cde40701c2ef57cf853b19455125",
          "grade": false,
          "grade_id": "cell-16e647cfc3291a01",
          "locked": false,
          "schema_version": 3,
          "solution": true,
          "task": false
        }
      },
      "source": [
        "# YOUR CODE HERE\n",
        "df = pd.DataFrame.from_records(history.history)\n",
        "n_rows = df.shape[0]\n",
        "df.index = [i for i in range(1, n_rows+1)]"
      ],
      "execution_count": 25,
      "outputs": []
    },
    {
      "cell_type": "code",
      "metadata": {
        "id": "jFTzaMcALj1J"
      },
      "source": [
        "# a check on our model training\n",
        "assert df.shape[0] == 20, \"df should have the training results from 20 epochs\""
      ],
      "execution_count": 26,
      "outputs": []
    },
    {
      "cell_type": "code",
      "metadata": {
        "deletable": false,
        "nbgrader": {
          "cell_type": "code",
          "checksum": "424d241660318a72ecda935be10485d7",
          "grade": false,
          "grade_id": "cell-96dba18873c4cffc",
          "locked": false,
          "schema_version": 3,
          "solution": true,
          "task": false
        },
        "id": "i6NnocuJLj1J",
        "colab": {
          "base_uri": "https://localhost:8080/",
          "height": 1000
        },
        "outputId": "630b018c-1947-4eb3-8b2c-eeb13479f307"
      },
      "source": [
        "# use seaborn to plot loss and accuracy metrics\n",
        "\n",
        "# YOUR CODE HERE\n",
        "plot_cols = [\"loss\", \"val_loss\"]\n",
        "df[plot_cols].plot(figsize=(20, 6), grid=True);\n",
        "plt.title(\"Model Loss vs Epoch\");\n",
        "plt.xlabel(\"Epochs\");\n",
        "plt.ylabel(\"Validation Loss\");\n",
        "plt.xticks(df.index)\n"
      ],
      "execution_count": 27,
      "outputs": [
        {
          "output_type": "execute_result",
          "data": {
            "text/plain": [
              "([<matplotlib.axis.XTick at 0x7f17446a7820>,\n",
              "  <matplotlib.axis.XTick at 0x7f17446a77f0>,\n",
              "  <matplotlib.axis.XTick at 0x7f17444abee0>,\n",
              "  <matplotlib.axis.XTick at 0x7f1744488670>,\n",
              "  <matplotlib.axis.XTick at 0x7f1744489a80>,\n",
              "  <matplotlib.axis.XTick at 0x7f174448a260>,\n",
              "  <matplotlib.axis.XTick at 0x7f174448aa40>,\n",
              "  <matplotlib.axis.XTick at 0x7f174448a0b0>,\n",
              "  <matplotlib.axis.XTick at 0x7f17b0204f70>,\n",
              "  <matplotlib.axis.XTick at 0x7f174448b490>,\n",
              "  <matplotlib.axis.XTick at 0x7f17446a7700>,\n",
              "  <matplotlib.axis.XTick at 0x7f174448bfa0>,\n",
              "  <matplotlib.axis.XTick at 0x7f174442c130>,\n",
              "  <matplotlib.axis.XTick at 0x7f17b02074c0>,\n",
              "  <matplotlib.axis.XTick at 0x7f174448ac80>,\n",
              "  <matplotlib.axis.XTick at 0x7f174448b730>,\n",
              "  <matplotlib.axis.XTick at 0x7f1744633a00>,\n",
              "  <matplotlib.axis.XTick at 0x7f1744631810>,\n",
              "  <matplotlib.axis.XTick at 0x7f1744632980>,\n",
              "  <matplotlib.axis.XTick at 0x7f174448b1f0>],\n",
              " [Text(1, 0, '1'),\n",
              "  Text(2, 0, '2'),\n",
              "  Text(3, 0, '3'),\n",
              "  Text(4, 0, '4'),\n",
              "  Text(5, 0, '5'),\n",
              "  Text(6, 0, '6'),\n",
              "  Text(7, 0, '7'),\n",
              "  Text(8, 0, '8'),\n",
              "  Text(9, 0, '9'),\n",
              "  Text(10, 0, '10'),\n",
              "  Text(11, 0, '11'),\n",
              "  Text(12, 0, '12'),\n",
              "  Text(13, 0, '13'),\n",
              "  Text(14, 0, '14'),\n",
              "  Text(15, 0, '15'),\n",
              "  Text(16, 0, '16'),\n",
              "  Text(17, 0, '17'),\n",
              "  Text(18, 0, '18'),\n",
              "  Text(19, 0, '19'),\n",
              "  Text(20, 0, '20')])"
            ]
          },
          "metadata": {},
          "execution_count": 27
        },
        {
          "output_type": "display_data",
          "data": {
            "text/plain": [
              "<Figure size 2000x600 with 1 Axes>"
            ],
            "image/png": "[encoded data removed]"
          },
          "metadata": {}
        }
      ]
    },
    {
      "cell_type": "markdown",
      "metadata": {
        "id": "GmjyuTlrLj1K"
      },
      "source": [
        "### Observations \n",
        "\n",
        "Based on the plot of the training and validation loss, answer the following questions. "
      ]
    },
    {
      "cell_type": "markdown",
      "metadata": {
        "id": "NF_mrNmPLj1K"
      },
      "source": [
        "**Was our model able to learn throughout the 20 epochs? Why or why not?**"
      ]
    },
    {
      "cell_type": "markdown",
      "metadata": {
        "deletable": false,
        "nbgrader": {
          "cell_type": "markdown",
          "checksum": "b7713eb32ad3a910a58dfdb9494a9db3",
          "grade": true,
          "grade_id": "cell-820990a8232a858a",
          "locked": false,
          "points": 0,
          "schema_version": 3,
          "solution": true,
          "task": false
        },
        "id": "yL42yLWELj1K"
      },
      "source": [
        "Yes it did, you can see the accuracy increase with every passing epoch."
      ]
    },
    {
      "cell_type": "markdown",
      "metadata": {
        "id": "_xKObFanLj1K"
      },
      "source": [
        "**Is our model overfitting? Why or why not?**"
      ]
    },
    {
      "cell_type": "markdown",
      "metadata": {
        "deletable": false,
        "nbgrader": {
          "cell_type": "markdown",
          "checksum": "1d30c64465cd35081d70578c20ecf96d",
          "grade": true,
          "grade_id": "cell-33868e7ef6e401b5",
          "locked": false,
          "points": 0,
          "schema_version": 3,
          "solution": true,
          "task": false
        },
        "id": "rx7xa4Z1Lj1L"
      },
      "source": [
        "Out model is not overfitting because it is not even getting a perfect score on the training what to speak of the validation data."
      ]
    },
    {
      "cell_type": "markdown",
      "metadata": {
        "id": "FIvb1mftLj1L"
      },
      "source": [
        "**Could the model score benefit from additional epochs? Why or why not?**"
      ]
    },
    {
      "cell_type": "markdown",
      "metadata": {
        "deletable": false,
        "nbgrader": {
          "cell_type": "markdown",
          "checksum": "0fc2208e2c78461578fc7a05224066b8",
          "grade": true,
          "grade_id": "cell-5c883f0a3161e469",
          "locked": false,
          "points": 0,
          "schema_version": 3,
          "solution": true,
          "task": false
        },
        "id": "Ww1hBmfMLj1L"
      },
      "source": [
        "No it will not benefit from more epochs. we can see that on the graph when the the curve flatens out at the end."
      ]
    },
    {
      "cell_type": "markdown",
      "metadata": {
        "id": "MAhBrcE4yOZe"
      },
      "source": [
        "-----\n",
        "## Change Optimizers\n",
        "\n",
        "Let's compare model performance between different optimizers. \n",
        "- Build a new model, identical to the last one but using `adam` for the optimizer. \n",
        "- Train (fit) the model\n",
        "- Save the modeling results to adam_history, so we don't erase the results from the previous model run\n",
        "- Visualize the training results just as we did for the last model. \n"
      ]
    },
    {
      "cell_type": "code",
      "metadata": {
        "deletable": false,
        "id": "jIW_spOZ0cxy",
        "nbgrader": {
          "cell_type": "code",
          "checksum": "6d30d8c6f4521861a77c9ef04dbde904",
          "grade": false,
          "grade_id": "cell-56663c8a5e75b71f",
          "locked": false,
          "schema_version": 3,
          "solution": true,
          "task": false
        },
        "colab": {
          "base_uri": "https://localhost:8080/"
        },
        "outputId": "89dbf0e9-e190-4652-f78a-6771d7de5e7c"
      },
      "source": [
        "# train the same model as above but use the sgd optimizer if you used adam previously (or use adam if you used sgd previously)\n",
        "\n",
        "# YOUR CODE HERE\n",
        "epochs = 20\n",
        "\n",
        "model = Sequential()\n",
        "\n",
        "model.add(\n",
        "    Dense(500, activation=\"sigmoid\", input_dim=input_dim)\n",
        ")\n",
        "\n",
        "model.add(\n",
        "    Dense(250, activation=\"sigmoid\")\n",
        ")\n",
        "\n",
        "model.add(\n",
        "    Dense(100, activation=\"sigmoid\")\n",
        ")\n",
        "\n",
        "model.add(\n",
        "    Dense(n_output_lables, activation=\"softmax\")          \n",
        ")\n",
        "\n",
        "model.compile(optimizer='adam',\n",
        "              loss='sparse_categorical_crossentropy',\n",
        "              metrics=['accuracy'])\n",
        "\n",
        "adam_history = model.fit(X_scaled, y, \n",
        "                    epochs=epochs, \n",
        "                    # a held-out validation set will be generated within the model\n",
        "                    validation_split=0.2\n",
        "                   )"
      ],
      "execution_count": 30,
      "outputs": [
        {
          "output_type": "stream",
          "name": "stdout",
          "text": [
            "Epoch 1/20\n",
            "2500/2500 [==============================] - 11s 4ms/step - loss: 0.7586 - accuracy: 0.7658 - val_loss: 0.5919 - val_accuracy: 0.8227\n",
            "Epoch 2/20\n",
            "2500/2500 [==============================] - 9s 3ms/step - loss: 0.5044 - accuracy: 0.8464 - val_loss: 0.4866 - val_accuracy: 0.8526\n",
            "Epoch 3/20\n",
            "2500/2500 [==============================] - 10s 4ms/step - loss: 0.4244 - accuracy: 0.8714 - val_loss: 0.4539 - val_accuracy: 0.8606\n",
            "Epoch 4/20\n",
            "2500/2500 [==============================] - 9s 4ms/step - loss: 0.3673 - accuracy: 0.8892 - val_loss: 0.4299 - val_accuracy: 0.8734\n",
            "Epoch 5/20\n",
            "2500/2500 [==============================] - 9s 4ms/step - loss: 0.3209 - accuracy: 0.9030 - val_loss: 0.4031 - val_accuracy: 0.8777\n",
            "Epoch 6/20\n",
            "2500/2500 [==============================] - 9s 3ms/step - loss: 0.2821 - accuracy: 0.9148 - val_loss: 0.4132 - val_accuracy: 0.8781\n",
            "Epoch 7/20\n",
            "2500/2500 [==============================] - 10s 4ms/step - loss: 0.2473 - accuracy: 0.9260 - val_loss: 0.4111 - val_accuracy: 0.8817\n",
            "Epoch 8/20\n",
            "2500/2500 [==============================] - 10s 4ms/step - loss: 0.2152 - accuracy: 0.9358 - val_loss: 0.4318 - val_accuracy: 0.8792\n",
            "Epoch 9/20\n",
            "2500/2500 [==============================] - 9s 4ms/step - loss: 0.1899 - accuracy: 0.9428 - val_loss: 0.4296 - val_accuracy: 0.8829\n",
            "Epoch 10/20\n",
            "2500/2500 [==============================] - 9s 3ms/step - loss: 0.1629 - accuracy: 0.9512 - val_loss: 0.4495 - val_accuracy: 0.8812\n",
            "Epoch 11/20\n",
            "2500/2500 [==============================] - 10s 4ms/step - loss: 0.1439 - accuracy: 0.9571 - val_loss: 0.4903 - val_accuracy: 0.8799\n",
            "Epoch 12/20\n",
            "2500/2500 [==============================] - 10s 4ms/step - loss: 0.1256 - accuracy: 0.9625 - val_loss: 0.4859 - val_accuracy: 0.8840\n",
            "Epoch 13/20\n",
            "2500/2500 [==============================] - 9s 4ms/step - loss: 0.1088 - accuracy: 0.9673 - val_loss: 0.5187 - val_accuracy: 0.8831\n",
            "Epoch 14/20\n",
            "2500/2500 [==============================] - 9s 3ms/step - loss: 0.0981 - accuracy: 0.9701 - val_loss: 0.5614 - val_accuracy: 0.8787\n",
            "Epoch 15/20\n",
            "2500/2500 [==============================] - 9s 4ms/step - loss: 0.0850 - accuracy: 0.9737 - val_loss: 0.5914 - val_accuracy: 0.8773\n",
            "Epoch 16/20\n",
            "2500/2500 [==============================] - 9s 4ms/step - loss: 0.0770 - accuracy: 0.9764 - val_loss: 0.6100 - val_accuracy: 0.8771\n",
            "Epoch 17/20\n",
            "2500/2500 [==============================] - 9s 4ms/step - loss: 0.0681 - accuracy: 0.9787 - val_loss: 0.6615 - val_accuracy: 0.8771\n",
            "Epoch 18/20\n",
            "2500/2500 [==============================] - 9s 3ms/step - loss: 0.0635 - accuracy: 0.9805 - val_loss: 0.6625 - val_accuracy: 0.8771\n",
            "Epoch 19/20\n",
            "2500/2500 [==============================] - 10s 4ms/step - loss: 0.0562 - accuracy: 0.9827 - val_loss: 0.6658 - val_accuracy: 0.8785\n",
            "Epoch 20/20\n",
            "2500/2500 [==============================] - 10s 4ms/step - loss: 0.0517 - accuracy: 0.9841 - val_loss: 0.7013 - val_accuracy: 0.8769\n"
          ]
        }
      ]
    },
    {
      "cell_type": "code",
      "metadata": {
        "id": "u9DQypQOLj1L"
      },
      "source": [
        "# a check that we're using the correct optimizer in this model\n",
        "opt_name = model.optimizer.get_config()[\"name\"]\n",
        "assert opt_name == \"Adam\", \"you need to use adam for the optimizer in this model.\""
      ],
      "execution_count": 31,
      "outputs": []
    },
    {
      "cell_type": "code",
      "metadata": {
        "deletable": false,
        "nbgrader": {
          "cell_type": "code",
          "checksum": "1a4c01aa7dbcc832d75b05bffaeaacc8",
          "grade": false,
          "grade_id": "cell-20118d1646215346",
          "locked": false,
          "schema_version": 3,
          "solution": true,
          "task": false
        },
        "id": "wBVj55zVLj1L",
        "colab": {
          "base_uri": "https://localhost:8080/",
          "height": 1000
        },
        "outputId": "00864eef-9004-456a-8a4e-1d1696f2ef1b"
      },
      "source": [
        "# YOUR CODE HERE\n",
        "adam_df = pd.DataFrame.from_records(adam_history.history)\n",
        "n_rows = adam_df.shape[0]\n",
        "adam_df.index = [i for i in range(1, n_rows+1)]\n",
        "\n",
        "\n",
        "\n",
        "plot_cols = [\"loss\", \"val_loss\"]\n",
        "adam_df[plot_cols].plot(figsize=(20, 6), grid=True);\n",
        "plt.title(\"Model Loss vs Epoch\");\n",
        "plt.xlabel(\"Epochs\");\n",
        "plt.ylabel(\"Validation Loss\");\n",
        "plt.xticks(adam_df.index)"
      ],
      "execution_count": 33,
      "outputs": [
        {
          "output_type": "execute_result",
          "data": {
            "text/plain": [
              "([<matplotlib.axis.XTick at 0x7f17431274c0>,\n",
              "  <matplotlib.axis.XTick at 0x7f1743127490>,\n",
              "  <matplotlib.axis.XTick at 0x7f17432034f0>,\n",
              "  <matplotlib.axis.XTick at 0x7f174310efe0>,\n",
              "  <matplotlib.axis.XTick at 0x7f174310e740>,\n",
              "  <matplotlib.axis.XTick at 0x7f174310e8f0>,\n",
              "  <matplotlib.axis.XTick at 0x7f174310d8a0>,\n",
              "  <matplotlib.axis.XTick at 0x7f174310db70>,\n",
              "  <matplotlib.axis.XTick at 0x7f174310d150>,\n",
              "  <matplotlib.axis.XTick at 0x7f174310cc70>,\n",
              "  <matplotlib.axis.XTick at 0x7f1743201210>,\n",
              "  <matplotlib.axis.XTick at 0x7f174310c550>,\n",
              "  <matplotlib.axis.XTick at 0x7f174310c6a0>,\n",
              "  <matplotlib.axis.XTick at 0x7f174310f970>,\n",
              "  <matplotlib.axis.XTick at 0x7f174310e4a0>,\n",
              "  <matplotlib.axis.XTick at 0x7f1734c98730>,\n",
              "  <matplotlib.axis.XTick at 0x7f1734c99090>,\n",
              "  <matplotlib.axis.XTick at 0x7f1734c99870>,\n",
              "  <matplotlib.axis.XTick at 0x7f174310cc10>,\n",
              "  <matplotlib.axis.XTick at 0x7f1734c98df0>],\n",
              " [Text(1, 0, '1'),\n",
              "  Text(2, 0, '2'),\n",
              "  Text(3, 0, '3'),\n",
              "  Text(4, 0, '4'),\n",
              "  Text(5, 0, '5'),\n",
              "  Text(6, 0, '6'),\n",
              "  Text(7, 0, '7'),\n",
              "  Text(8, 0, '8'),\n",
              "  Text(9, 0, '9'),\n",
              "  Text(10, 0, '10'),\n",
              "  Text(11, 0, '11'),\n",
              "  Text(12, 0, '12'),\n",
              "  Text(13, 0, '13'),\n",
              "  Text(14, 0, '14'),\n",
              "  Text(15, 0, '15'),\n",
              "  Text(16, 0, '16'),\n",
              "  Text(17, 0, '17'),\n",
              "  Text(18, 0, '18'),\n",
              "  Text(19, 0, '19'),\n",
              "  Text(20, 0, '20')])"
            ]
          },
          "metadata": {},
          "execution_count": 33
        },
        {
          "output_type": "display_data",
          "data": {
            "text/plain": [
              "<Figure size 2000x600 with 1 Axes>"
            ],
            "image/png": "[encoded data removed]"
          },
          "metadata": {}
        }
      ]
    },
    {
      "cell_type": "markdown",
      "metadata": {
        "id": "XECc5OtzLj1M"
      },
      "source": [
        "### Observations \n",
        "\n",
        "This plot should look very different from the previous plot. Based on the plot of the training and validation loss, answer the following questions. "
      ]
    },
    {
      "cell_type": "markdown",
      "metadata": {
        "id": "tK8B5CszLj1M"
      },
      "source": [
        "**Is our model overfitting? Why or why not?**"
      ]
    },
    {
      "cell_type": "markdown",
      "metadata": {
        "deletable": false,
        "nbgrader": {
          "cell_type": "markdown",
          "checksum": "fa4141497af675d227aa510feb8db732",
          "grade": true,
          "grade_id": "cell-7e524ccac970c33e",
          "locked": false,
          "points": 0,
          "schema_version": 3,
          "solution": true,
          "task": false
        },
        "id": "Fn6C8NWTLj1M"
      },
      "source": [
        "Gap between the training an validation curves grows after the third epoch"
      ]
    },
    {
      "cell_type": "markdown",
      "metadata": {
        "id": "ygXQYH8ILj1M"
      },
      "source": [
        "**Could our model's performance improve by training on more than 20 epochs? Why or why not?**"
      ]
    },
    {
      "cell_type": "markdown",
      "metadata": {
        "deletable": false,
        "nbgrader": {
          "cell_type": "markdown",
          "checksum": "ae03b8b897eb5d052590574ab3bba839",
          "grade": true,
          "grade_id": "cell-456c40e885652955",
          "locked": false,
          "points": 0,
          "schema_version": 3,
          "solution": true,
          "task": false
        },
        "id": "Sa5SRkB1Lj1M"
      },
      "source": [
        "No the model would just continue to overfit even more."
      ]
    },
    {
      "cell_type": "markdown",
      "metadata": {
        "id": "bNxtLggeLj1M"
      },
      "source": [
        "**Assuming that you want to stick to this model architecture, what can you do to avoid overfitting?**"
      ]
    },
    {
      "cell_type": "markdown",
      "metadata": {
        "deletable": false,
        "nbgrader": {
          "cell_type": "markdown",
          "checksum": "9f5a9393314231d3ce253363c1df1223",
          "grade": true,
          "grade_id": "cell-74d7def19c66702b",
          "locked": false,
          "points": 0,
          "schema_version": 3,
          "solution": true,
          "task": false
        },
        "id": "tfztMm3rLj1M"
      },
      "source": [
        "Use 3 epochs only. With three epochs it still has a better accuracy than the sgd model."
      ]
    },
    {
      "cell_type": "markdown",
      "metadata": {
        "id": "ViaTP68cLj1M"
      },
      "source": [
        "------\n",
        "# Conclusion \n",
        "\n",
        "You have observed by comparing the two models that are identical except for the optimizer, that the choice of the optimizer can considerably influence the performance of a neural network. \n",
        "\n",
        "You might not know \n",
        "\n",
        "- why changing the optimizer from Stochastic Gradient Descent over to Adam made a difference.\n",
        "- how Gradient Descent works \n",
        "- or that Adam is known as Adaptive Gradient Descent (i.e., is it a different version of ordinary Gradient Descent). \n",
        "\n",
        "But that's ok - tomorrow's lesson will be a deep dive into Gradient Descent. You'll learn the theory of Gradient Descent, we'll code up Gradient Descent from scratch, and we'll talk about how Adam is different from ordinary Gradient Descent. "
      ]
    },
    {
      "cell_type": "markdown",
      "metadata": {
        "id": "8v_TuVH5Lj1N"
      },
      "source": [
        "-----\n",
        "# Preparation for Tomorrow \n",
        "\n",
        "In preparation for tomorrow, you might need to watch a few videos. I say it might because you may or may not already be comfortable with multi-variate calculus. \n",
        "\n",
        "### Theory of Calculus \n",
        "The theory of Gradient Descent rests on [**the derivative from Calculus**](https://www.youtube.com/watch?v=WUvTyaaNkzM). If you've never taken a Calculus course before, or are a bit rusty, definitely watch this video in preparation for tomorrow's lesson. The takeaway here is to understand the derivative conceptually; you won't be asked to calculate any derivatives by hand. \n",
        "\n",
        "### The Gradient - a Multi-Dimensional Derivative\n",
        "Once you've watched the previous video, you will be ready to understand how to conceptualize a derivative in an N-dimensional space (where N is any number ranging from 2, 3, 4, ..., all the way to a very large number of dimensions N ). [**This video visually explains the multi-dimensional derivative called the Gradient visually**](https://www.youtube.com/watch?v=GkB4vW16QHI) - and that's the takeaway. The point of this video is to help you understand the Gradient visually using 3D surfaces. You should also know that the Gradient is made up of partial derivatives, more on this tomorrow. \n",
        "\n",
        "### Contour Maps \n",
        "It is very common to visual 3D surfaces as 2D contour maps - and we'll be making a lot of use of contour maps to understand Gradient Descent. Watch this video to [**understand the relationship between 3D surfaces and 2D contour maps.**](https://www.youtube.com/watch?v=acdX4YamDtU)\n",
        "\n",
        "### The Calculus of Backpropagation \n",
        "\n",
        "Unlike standard Sklearn ML models, neural networks use Gradient Descent and something called Backpropagatin to learn from the data. [**In order to understand how backpropagation works, you need to understand the Chain Rule in Calculus**](https://www.youtube.com/watch?v=acdX4YamDtU). The takeaway here is to understand how a partial derivative can be decomposed into a product of multiple derivatives. "
      ]
    },
    {
      "cell_type": "markdown",
      "metadata": {
        "id": "XCjBp0vTLj1N"
      },
      "source": [
        "------\n",
        "# Stretch Goals\n",
        "\n",
        "### This Section is Optional!\n",
        "\n",
        "Only after you've completed the above work and watched the recommended videos are you then encouraged to experiment with building a few more models and analyze their results. \n",
        "\n",
        "Here are some suggestions to help you get started. \n",
        "\n",
        "- Train the same model using the Sigmoid and Relu activation functions and note the difference in their learning outcomes. [**Keras docs on activation functions**](https://keras.io/api/layers/activations/). We'll cover the Relu activation function in Sprint 2 Module 3.\n",
        "- Train the same model using normalized and non-normalized data and note the difference in their learning outcomes. \n",
        "\n",
        "\n",
        "The objective here is to get more practice with the Keras API (i.e., building models) and run a couple of experiments to help set you up for future lessons. In order words, we'll be discussing different activation functions and the effect of normalized data on model training."
      ]
    },
    {
      "cell_type": "code",
      "metadata": {
        "id": "5F1VQLmALj1N"
      },
      "source": [],
      "execution_count": null,
      "outputs": []
    }
  ]
}