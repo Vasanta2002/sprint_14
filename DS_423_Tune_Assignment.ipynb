{
  "cells": [
    {
      "cell_type": "markdown",
      "metadata": {
        "id": "NGGrt9EYlCqY"
      },
      "source": [
        "\n",
        "\n",
        "# Hyperparameter Tuning Practice\n",
        "\n",
        "## *Data Science Unit 4 Sprint 2 Assignment 3*\n",
        "\n",
        "# Gridsearch Hyperparameters\n",
        "\n",
        "In the guided project, you learned how to use sklearn's `GridsearchCV` and `keras-tuner` libraries to tune the hyperparameters of a neural network model. For your module project you'll continue using these two libraries, however we are going to make things a little more interesting for you.\n",
        "\n",
        "Continue to use TensorFlow Keras & a sample of the [Quickdraw dataset](https://github.com/googlecreativelab/quickdraw-dataset) to build a sketch classification model. The dataset has been sampled to only 10 classes and 10000 observations per class.\n",
        "\n",
        "\n",
        "\n",
        "**Don't forget to switch to GPU on Colab!**"
      ]
    },
    {
      "cell_type": "markdown",
      "metadata": {
        "id": "C7oEgGCV3_hY"
      },
      "source": [
        "## 0.1 Imports and installs"
      ]
    },
    {
      "cell_type": "code",
      "execution_count": 1,
      "metadata": {
        "colab": {
          "base_uri": "https://localhost:8080/"
        },
        "id": "DxctNMPb7mNY",
        "outputId": "5f8799d7-aa89-4dc6-dae0-6f94ab297739"
      },
      "outputs": [
        {
          "output_type": "stream",
          "name": "stdout",
          "text": [
            "Looking in indexes: https://pypi.org/simple, https://us-python.pkg.dev/colab-wheels/public/simple/\n",
            "Collecting keras-tuner\n",
            "  Downloading keras_tuner-1.3.5-py3-none-any.whl (176 kB)\n",
            "\u001b[2K     \u001b[90m━━━━━━━━━━━━━━━━━━━━━━━━━━━━━━━━━━━━━━━\u001b[0m \u001b[32m176.1/176.1 kB\u001b[0m \u001b[31m4.3 MB/s\u001b[0m eta \u001b[36m0:00:00\u001b[0m\n",
            "\u001b[?25hRequirement already satisfied: packaging in /usr/local/lib/python3.10/dist-packages (from keras-tuner) (23.1)\n",
            "Requirement already satisfied: requests in /usr/local/lib/python3.10/dist-packages (from keras-tuner) (2.27.1)\n",
            "Collecting kt-legacy (from keras-tuner)\n",
            "  Downloading kt_legacy-1.0.5-py3-none-any.whl (9.6 kB)\n",
            "Requirement already satisfied: urllib3<1.27,>=1.21.1 in /usr/local/lib/python3.10/dist-packages (from requests->keras-tuner) (1.26.15)\n",
            "Requirement already satisfied: certifi>=2017.4.17 in /usr/local/lib/python3.10/dist-packages (from requests->keras-tuner) (2022.12.7)\n",
            "Requirement already satisfied: charset-normalizer~=2.0.0 in /usr/local/lib/python3.10/dist-packages (from requests->keras-tuner) (2.0.12)\n",
            "Requirement already satisfied: idna<4,>=2.5 in /usr/local/lib/python3.10/dist-packages (from requests->keras-tuner) (3.4)\n",
            "Installing collected packages: kt-legacy, keras-tuner\n",
            "Successfully installed keras-tuner-1.3.5 kt-legacy-1.0.5\n"
          ]
        },
        {
          "output_type": "stream",
          "name": "stderr",
          "text": [
            "<ipython-input-1-96cd3167a526>:25: DeprecationWarning: `import kerastuner` is deprecated, please use `import keras_tuner`.\n",
            "  from kerastuner.tuners import RandomSearch, BayesianOptimization\n"
          ]
        }
      ],
      "source": [
        "# native python libraries imports\n",
        "import math\n",
        "from time import time\n",
        "import numpy as np\n",
        "import pandas as pd\n",
        "import matplotlib.pyplot as plt\n",
        "\n",
        "# sklearn imports\n",
        "import sklearn\n",
        "from sklearn.model_selection import train_test_split\n",
        "from sklearn.model_selection import GridSearchCV\n",
        "\n",
        "# keras imports\n",
        "from tensorflow.keras import Sequential\n",
        "from tensorflow.keras.layers import Dense\n",
        "from tensorflow.keras.activations import relu, sigmoid\n",
        "from tensorflow.keras.optimizers import Adam, SGD\n",
        "from tensorflow.keras.utils import get_file\n",
        "\n",
        "# required for compatibility between sklearn and keras\n",
        "from tensorflow.keras.wrappers.scikit_learn import KerasClassifier\n",
        "\n",
        "# install keras-tuner\n",
        "!pip install keras-tuner\n",
        "from kerastuner.tuners import RandomSearch, BayesianOptimization\n",
        "from kerastuner.engine.hyperparameters import HyperParameters"
      ]
    },
    {
      "cell_type": "markdown",
      "metadata": {
        "id": "YMBS8CRBzYqB"
      },
      "source": [
        "## 0.2 Load quickdraw data"
      ]
    },
    {
      "cell_type": "code",
      "execution_count": 2,
      "metadata": {
        "id": "Kr8w6IX37mNa"
      },
      "outputs": [],
      "source": [
        "def load_quickdraw10():\n",
        "    \"\"\"\n",
        "    Fill out this doc string, and comment the code, for practice in writing the kind of code that will get you hired.\n",
        "    \"\"\"\n",
        "\n",
        "    URL_ = \"https://github.com/LambdaSchool/DS-Unit-4-Sprint-2-Neural-Networks/blob/main/quickdraw10.npz?raw=true\"\n",
        "\n",
        "    path_to_zip = get_file('./quickdraw10.npz', origin=URL_, extract=False)\n",
        "\n",
        "    data = np.load(path_to_zip)\n",
        "\n",
        "    # normalize your image data\n",
        "    max_pixel_value = 255\n",
        "    X = data['arr_0']/max_pixel_value\n",
        "    Y = data['arr_1']\n",
        "\n",
        "    return train_test_split(X, Y, shuffle=True)"
      ]
    },
    {
      "cell_type": "code",
      "execution_count": 3,
      "metadata": {
        "colab": {
          "base_uri": "https://localhost:8080/"
        },
        "id": "UjU5nY3e7mNc",
        "outputId": "8af76abd-fd27-470b-9131-bf3b67cd4fb9"
      },
      "outputs": [
        {
          "output_type": "stream",
          "name": "stdout",
          "text": [
            "Downloading data from https://github.com/LambdaSchool/DS-Unit-4-Sprint-2-Neural-Networks/blob/main/quickdraw10.npz?raw=true\n",
            "25421363/25421363 [==============================] - 0s 0us/step\n"
          ]
        }
      ],
      "source": [
        "X_train, X_test, y_train, y_test = load_quickdraw10()"
      ]
    },
    {
      "cell_type": "code",
      "execution_count": 4,
      "metadata": {
        "id": "qkvBPoUy7mNd",
        "outputId": "cab70011-6a80-4157-ea04-2eb5664eb3f0",
        "colab": {
          "base_uri": "https://localhost:8080/"
        }
      },
      "outputs": [
        {
          "output_type": "execute_result",
          "data": {
            "text/plain": [
              "(75000, 784)"
            ]
          },
          "metadata": {},
          "execution_count": 4
        }
      ],
      "source": [
        "X_train.shape"
      ]
    },
    {
      "cell_type": "code",
      "execution_count": 5,
      "metadata": {
        "id": "e4dx6VA07mNe",
        "outputId": "3d475b3b-ba20-4f93-807b-27972ef42b44",
        "colab": {
          "base_uri": "https://localhost:8080/"
        }
      },
      "outputs": [
        {
          "output_type": "execute_result",
          "data": {
            "text/plain": [
              "(75000,)"
            ]
          },
          "metadata": {},
          "execution_count": 5
        }
      ],
      "source": [
        "y_train.shape"
      ]
    },
    {
      "cell_type": "markdown",
      "metadata": {
        "id": "bXsWtj8Z7mNf"
      },
      "source": [
        "_____\n",
        "\n",
        "# Experiment 1\n",
        "\n",
        "## Tune Hyperperameters using Enhanced GridsearchCV\n",
        "\n",
        "We are going to use GridsearchCV again to tune a deep learning model however we are going to add some additional functionality to our gridsearch.\n",
        "\n",
        "Specifically, we are going to automate the generation of how many nodes to use in a layer and how many layers to use in a model!\n",
        "\n",
        "By the way, yes, there is a function within a function. Try to not let that bother you. An alternative to this would be to create a class. If you're up for the challenge give it a shot. However, consider this a stretch goal that you come back to after you finish going through this assignment.\n",
        "\n",
        "\n",
        "### Objective\n",
        "\n",
        "The objective of this experiment is to show you how to automate the generation of layers and layer nodes for the purposes of gridsearch. <br>\n",
        "Up until now, we've been manually selecting the number of layers and layer nodes."
      ]
    },
    {
      "cell_type": "code",
      "execution_count": 6,
      "metadata": {
        "id": "USXjs7Hk71Hy"
      },
      "outputs": [],
      "source": [
        "# Function to create model, required for KerasClassifier\n",
        "def create_model(n_layers,  first_layer_nodes, last_layer_nodes, act_funct =\"relu\", negative_node_incrementation=True):\n",
        "    \"\"\"\"\n",
        "    Returns a compiled keras model\n",
        "\n",
        "    Parameters\n",
        "    ----------\n",
        "    n_layers: int\n",
        "        number of hidden layers in model\n",
        "        To be clear, this excludes the input and output layer.\n",
        "\n",
        "    first_layer_nodes: int\n",
        "        Number of nodes in the first hidden layer\n",
        "\n",
        "    last_layer_nodes: int\n",
        "        Number of nodes in the last hidden layer (this is the layer just prior to the output layer)\n",
        "\n",
        "     act_funct: string\n",
        "         Name of activation function to use in hidden layers (this excludes the output layer)\n",
        "\n",
        "    Returns\n",
        "    -------\n",
        "    model: keras object\n",
        "    \"\"\"\n",
        "\n",
        "    def gen_layer_nodes(n_layers, first_layer_nodes, last_layer_nodes, negative_node_incrementation=True):\n",
        "        \"\"\"\n",
        "        Generates and returns the number of nodes in each hidden layer.\n",
        "        To be clear, this excludes the input and output layer.\n",
        "\n",
        "        Note\n",
        "        ----\n",
        "        Number of nodes in each layer is linearly incremented.\n",
        "        For example, gen_layer_nodes(5, 500, 100) will generate [500, 400, 300, 200, 100]\n",
        "\n",
        "        Parameters\n",
        "        ----------\n",
        "        n_layers: int\n",
        "            Number of hidden layers\n",
        "            This values should be 2 or greater\n",
        "\n",
        "        first_layer_nodes: int\n",
        "\n",
        "        last_layer_nodes: int\n",
        "\n",
        "        Returns\n",
        "        -------\n",
        "        layers: list of ints\n",
        "            Contains number of nodes for each layer\n",
        "        \"\"\"\n",
        "\n",
        "        # throws an error if n_layers is less than 2\n",
        "        assert n_layers >= 2, \"n_layers must be 2 or greater\"\n",
        "\n",
        "        layers = []\n",
        "\n",
        "        # PROTIP: IF YOU WANT THE NODE INCREMENTATION TO BE SPACED DIFFERENTLY\n",
        "        # THEN YOU'LL NEED TO CHANGE THE WAY THAT IT'S CALCULATED - HAVE FUN!\n",
        "        # when set to True number of nodes are decreased for subsequent layers\n",
        "        # NOTE: the order of the number of nodes doesn't matter\n",
        "        if negative_node_incrementation:\n",
        "            # subtract this amount from previous layer's nodes in order to increment towards smaller numbers\n",
        "            nodes_increment = (last_layer_nodes - first_layer_nodes)/ (n_layers-1)\n",
        "\n",
        "        # when set to False number of nodes are increased for subsequent layers\n",
        "        else:\n",
        "            # add this amount from previous layer's nodes in order to increment towards larger numbers\n",
        "            nodes_increment = (last_layer_nodes + first_layer_nodes)/ (n_layers-1)\n",
        "\n",
        "        nodes = first_layer_nodes\n",
        "\n",
        "        for i in range(1, n_layers+1):\n",
        "\n",
        "            layers.append(math.ceil(nodes))\n",
        "\n",
        "            # increment nodes for next layer\n",
        "            nodes = nodes + nodes_increment\n",
        "\n",
        "        return layers\n",
        "\n",
        "    # create model\n",
        "    model = Sequential()\n",
        "\n",
        "    n_nodes = gen_layer_nodes(n_layers, first_layer_nodes, last_layer_nodes, negative_node_incrementation)\n",
        "\n",
        "    for i in range(1, n_layers+1):\n",
        "        if i==1:\n",
        "            model.add(Dense(first_layer_nodes, input_dim=X_train.shape[1], activation=act_funct))\n",
        "        else:\n",
        "            model.add(Dense(n_nodes[i-1], activation=act_funct))\n",
        "\n",
        "\n",
        "    # output layer\n",
        "    model.add(Dense(10, # 10 unit/neurons in output layer because we have 10 possible labels to predict\n",
        "                    activation='softmax')) # use softmax for a label set greater than 2\n",
        "\n",
        "    # Compile model\n",
        "    model.compile(loss='sparse_categorical_crossentropy',\n",
        "                  optimizer='adam', # adam is a good default optimizer\n",
        "                  metrics=['accuracy'])\n",
        "\n",
        "    # do not include model.fit() inside the create_model function\n",
        "    # KerasClassifier is expecting a complied model\n",
        "    return model\n"
      ]
    },
    {
      "cell_type": "markdown",
      "metadata": {
        "id": "YO-x0nqt7mNh"
      },
      "source": [
        "## 1.1 Explore `create_model`\n",
        "\n"
      ]
    },
    {
      "cell_type": "markdown",
      "metadata": {
        "id": "-1hnjQHKW19w"
      },
      "source": [
        "The helper function `gen_layer_nodes()` which is contained inside `create_model()` <br>\n",
        "returns a list containing the number of nodes for each successive layer.<br>\n",
        "\n",
        "Let's check that `gen_layer_nodes()` behaves as expected. <br>\n",
        "In other words, we'll perform a **Unit Test!**"
      ]
    },
    {
      "cell_type": "code",
      "execution_count": 7,
      "metadata": {
        "id": "YiPXu0p_Qco_"
      },
      "outputs": [],
      "source": [
        "    def gen_layer_nodes(n_layers, first_layer_nodes, last_layer_nodes, negative_node_incrementation=True):\n",
        "        \"\"\"\n",
        "        Generates and returns the number of nodes in each hidden layer.\n",
        "        To be clear, this excludes the input and output layer.\n",
        "\n",
        "        Note\n",
        "        ----\n",
        "        Number of nodes in each layer is linearly incremented.\n",
        "        For example, gen_layer_nodes(5, 500, 100) will generate [500, 400, 300, 200, 100]\n",
        "\n",
        "        Parameters\n",
        "        ----------\n",
        "        n_layers: int\n",
        "            Number of hidden layers\n",
        "            This values should be 2 or greater\n",
        "\n",
        "        first_layer_nodes: int\n",
        "\n",
        "        last_layer_nodes: int\n",
        "\n",
        "        Returns\n",
        "        -------\n",
        "        layers: list of ints\n",
        "            Contains number of nodes for each layer\n",
        "        \"\"\"\n",
        "\n",
        "        # throws an error if n_layers is less than 2\n",
        "        assert n_layers >= 2, \"n_layers must be 2 or greater\"\n",
        "\n",
        "        # save the number if nodes for each layer here\n",
        "        layers = []\n",
        "\n",
        "        # PROTIP: IF YOU WANT THE NODE INCREMENTATION TO BE SPACED DIFFERENTLY\n",
        "        # THEN YOU'LL NEED TO CHANGE THE WAY THAT IT'S CALCULATED - HAVE FUN!\n",
        "        # when set to True number of nodes are decreased for subsequent layers\n",
        "        # NOTE: the order of the number of nodes doesn't matter\n",
        "        if negative_node_incrementation:\n",
        "            # subtract this amount from previous layer's nodes in order to increment towards smaller numbers\n",
        "            nodes_increment = (last_layer_nodes - first_layer_nodes)/ (n_layers-1)\n",
        "            #print(f'nodes increment = {nodes_increment}')\n",
        "\n",
        "        # when set to False number of nodes are increased for subsequent layers\n",
        "        else:\n",
        "            # add this amount from previous layer's nodes in order to increment towards larger numbers\n",
        "            nodes_increment = (last_layer_nodes - first_layer_nodes)/ (n_layers-1)\n",
        "            #print(f'nodes increment = {nodes_increment}')\n",
        "\n",
        "        nodes = first_layer_nodes\n",
        "\n",
        "        for i in range(1, n_layers+1):\n",
        "\n",
        "            layers.append(math.ceil(nodes))\n",
        "\n",
        "            # increment nodes for next layer\n",
        "            nodes = nodes + nodes_increment\n",
        "\n",
        "        return layers\n",
        "\n",
        "\n"
      ]
    },
    {
      "cell_type": "markdown",
      "metadata": {
        "id": "Mj3MrB6jXUMG"
      },
      "source": [
        "### `negative_node_incrementation = True`\n",
        "For this case we want the number of nodes to _decrease_ by a constant number for successive layers. <br>So `first_layer_nodes` must be _larger_ than `last_layer_nodes`"
      ]
    },
    {
      "cell_type": "code",
      "execution_count": 8,
      "metadata": {
        "colab": {
          "base_uri": "https://localhost:8080/"
        },
        "id": "4m4jRNllXPPG",
        "outputId": "7ebf73ff-3543-48e9-ade1-429a869d67f1"
      },
      "outputs": [
        {
          "output_type": "stream",
          "name": "stdout",
          "text": [
            "Number of nodes in successive layers: [500, 400, 300, 200, 100]\n"
          ]
        }
      ],
      "source": [
        "n_layers = 5\n",
        "first_layer_nodes = 500\n",
        "last_layer_nodes = 100\n",
        "negative_node_incrementation = True\n",
        "n_nodes = gen_layer_nodes(n_layers, first_layer_nodes, last_layer_nodes, negative_node_incrementation)\n",
        "print(f'Number of nodes in successive layers: {n_nodes}')"
      ]
    },
    {
      "cell_type": "markdown",
      "metadata": {
        "id": "ttkaf3g9XhGr"
      },
      "source": [
        "### `negative_node_incrementation = False`\n",
        "For this case we want the number of nodes to _increase_ by a constant number for successive layers. <br>So `first_layer_nodes` must be _smaller_ than `last_layer_nodes`"
      ]
    },
    {
      "cell_type": "code",
      "execution_count": 9,
      "metadata": {
        "colab": {
          "base_uri": "https://localhost:8080/"
        },
        "id": "0fkrMS8bXQUo",
        "outputId": "aca7113d-b443-4b8e-b863-bff2b74de486"
      },
      "outputs": [
        {
          "output_type": "stream",
          "name": "stdout",
          "text": [
            "Number of nodes in successive layers: [100, 200, 300, 400, 500]\n"
          ]
        }
      ],
      "source": [
        "n_layers = 5\n",
        "first_layer_nodes = 100\n",
        "last_layer_nodes = 500\n",
        "negative_node_incrementation = False\n",
        "n_nodes = gen_layer_nodes(n_layers, first_layer_nodes, last_layer_nodes, negative_node_incrementation)\n",
        "print(f'Number of nodes in successive layers: {n_nodes}')"
      ]
    },
    {
      "cell_type": "markdown",
      "metadata": {
        "id": "FHuB-bm5Wkpq"
      },
      "source": [
        "### OK, the Unit Test is passed!"
      ]
    },
    {
      "cell_type": "markdown",
      "metadata": {
        "id": "qO3AjVWOZ6SA"
      },
      "source": [
        "### Let's build a few models<br>\n",
        "in order to understand how `create_model()` works in practice."
      ]
    },
    {
      "cell_type": "markdown",
      "metadata": {
        "id": "95E85Ug07mNh"
      },
      "source": [
        "### Build a model, setting `negative_node_incrementation = True`\n",
        "\n",
        "Use `create_model` to build a model.\n",
        "\n",
        "- Set `n_layers = 10`\n",
        "- Set `first_layer_nodes = 500`\n",
        "- Set `last_layer_nodes = 100`\n",
        "- Set `act_funct = \"relu\"`\n"
      ]
    },
    {
      "cell_type": "code",
      "execution_count": 10,
      "metadata": {
        "deletable": false,
        "id": "x_1REOCY7mNi",
        "nbgrader": {
          "cell_type": "code",
          "checksum": "5dcf5c585f07629a03086cf57ba53615",
          "grade": false,
          "grade_id": "cell-86d63e89a21223de",
          "locked": false,
          "schema_version": 3,
          "solution": true,
          "task": false
        }
      },
      "outputs": [],
      "source": [
        "# use create_model to create a model\n",
        "\n",
        "# YOUR CODE HERE\n",
        "model = create_model(n_layers=10,\n",
        "                     first_layer_nodes= 500,\n",
        "                     last_layer_nodes=100,\n",
        "                     act_funct=\"relu\",\n",
        "                     negative_node_incrementation= True)"
      ]
    },
    {
      "cell_type": "code",
      "execution_count": 11,
      "metadata": {
        "id": "sYMwZQ7k7mNi",
        "outputId": "e19c1b85-32a9-40b1-81a3-9ac45a3dbab4",
        "colab": {
          "base_uri": "https://localhost:8080/"
        }
      },
      "outputs": [
        {
          "output_type": "stream",
          "name": "stdout",
          "text": [
            "Model: \"sequential\"\n",
            "_________________________________________________________________\n",
            " Layer (type)                Output Shape              Param #   \n",
            "=================================================================\n",
            " dense (Dense)               (None, 500)               392500    \n",
            "                                                                 \n",
            " dense_1 (Dense)             (None, 456)               228456    \n",
            "                                                                 \n",
            " dense_2 (Dense)             (None, 412)               188284    \n",
            "                                                                 \n",
            " dense_3 (Dense)             (None, 367)               151571    \n",
            "                                                                 \n",
            " dense_4 (Dense)             (None, 323)               118864    \n",
            "                                                                 \n",
            " dense_5 (Dense)             (None, 278)               90072     \n",
            "                                                                 \n",
            " dense_6 (Dense)             (None, 234)               65286     \n",
            "                                                                 \n",
            " dense_7 (Dense)             (None, 189)               44415     \n",
            "                                                                 \n",
            " dense_8 (Dense)             (None, 145)               27550     \n",
            "                                                                 \n",
            " dense_9 (Dense)             (None, 100)               14600     \n",
            "                                                                 \n",
            " dense_10 (Dense)            (None, 10)                1010      \n",
            "                                                                 \n",
            "=================================================================\n",
            "Total params: 1,322,608\n",
            "Trainable params: 1,322,608\n",
            "Non-trainable params: 0\n",
            "_________________________________________________________________\n"
          ]
        }
      ],
      "source": [
        "# run model.summary() and make sure that you understand the model architecture that you just built\n",
        "# Notice in the model summary how the number of nodes have been linearly incremented in decreasing values.\n",
        "model.summary()"
      ]
    },
    {
      "cell_type": "markdown",
      "metadata": {
        "id": "ZUc0jfnRm-uh"
      },
      "source": [
        "### Build a model, setting `negative_node_incrementation = False`\n",
        "\n",
        "Use `create_model` to build a model.\n",
        "\n",
        "- Set `n_layers = 10`\n",
        "- Set `first_layer_nodes = 100`\n",
        "- Set `last_layer_nodes = 500`\n",
        "- Set `act_funct = \"relu\"`"
      ]
    },
    {
      "cell_type": "code",
      "execution_count": 12,
      "metadata": {
        "deletable": false,
        "id": "3_-kqHQtm-ui",
        "nbgrader": {
          "cell_type": "code",
          "checksum": "5dcf5c585f07629a03086cf57ba53615",
          "grade": false,
          "grade_id": "cell-86d63e89a21223de",
          "locked": false,
          "schema_version": 3,
          "solution": true,
          "task": false
        }
      },
      "outputs": [],
      "source": [
        "# use create_model to create a model\n",
        "\n",
        "# YOUR CODE HERE\n",
        "model = create_model(n_layers=10,\n",
        "                     first_layer_nodes= 100,\n",
        "                     last_layer_nodes=500,\n",
        "                     act_funct=\"relu\",\n",
        "                     negative_node_incrementation= False)"
      ]
    },
    {
      "cell_type": "code",
      "execution_count": 13,
      "metadata": {
        "id": "piboKWsNm-uj",
        "outputId": "eed9fc6a-2f58-48ed-a85c-307f68ca1c1d",
        "colab": {
          "base_uri": "https://localhost:8080/"
        }
      },
      "outputs": [
        {
          "output_type": "stream",
          "name": "stdout",
          "text": [
            "Model: \"sequential_1\"\n",
            "_________________________________________________________________\n",
            " Layer (type)                Output Shape              Param #   \n",
            "=================================================================\n",
            " dense_11 (Dense)            (None, 100)               78500     \n",
            "                                                                 \n",
            " dense_12 (Dense)            (None, 167)               16867     \n",
            "                                                                 \n",
            " dense_13 (Dense)            (None, 234)               39312     \n",
            "                                                                 \n",
            " dense_14 (Dense)            (None, 301)               70735     \n",
            "                                                                 \n",
            " dense_15 (Dense)            (None, 367)               110834    \n",
            "                                                                 \n",
            " dense_16 (Dense)            (None, 434)               159712    \n",
            "                                                                 \n",
            " dense_17 (Dense)            (None, 501)               217935    \n",
            "                                                                 \n",
            " dense_18 (Dense)            (None, 567)               284634    \n",
            "                                                                 \n",
            " dense_19 (Dense)            (None, 634)               360112    \n",
            "                                                                 \n",
            " dense_20 (Dense)            (None, 700)               444500    \n",
            "                                                                 \n",
            " dense_21 (Dense)            (None, 10)                7010      \n",
            "                                                                 \n",
            "=================================================================\n",
            "Total params: 1,790,151\n",
            "Trainable params: 1,790,151\n",
            "Non-trainable params: 0\n",
            "_________________________________________________________________\n"
          ]
        }
      ],
      "source": [
        "# run model.summary() and make sure that you understand the model architecture that you just built\n",
        "# Notice in the model summary how the number of nodes have been linearly incremented in decreasing values.\n",
        "model.summary()"
      ]
    },
    {
      "cell_type": "markdown",
      "metadata": {
        "id": "OBH7AR9p0OXi"
      },
      "source": [
        "## 1.2 Create a grid search using `sklearn`"
      ]
    },
    {
      "cell_type": "markdown",
      "metadata": {
        "id": "veloj7Nnlttf"
      },
      "source": [
        "### Hyperparameter search"
      ]
    },
    {
      "cell_type": "code",
      "execution_count": 14,
      "metadata": {
        "id": "3e2lhZqP7mNn"
      },
      "outputs": [],
      "source": [
        "# define the grid search parameters\n",
        "param_grid = {'n_layers': [2, 3],\n",
        "              'epochs': [3],\n",
        "              \"first_layer_nodes\": [500, 300],\n",
        "              \"last_layer_nodes\": [100, 50]\n",
        "             }"
      ]
    },
    {
      "cell_type": "code",
      "execution_count": 15,
      "metadata": {
        "id": "2Ks_MLPB7mNn",
        "outputId": "d4696820-161a-4efa-d4b8-60422a79c741",
        "colab": {
          "base_uri": "https://localhost:8080/"
        }
      },
      "outputs": [
        {
          "output_type": "stream",
          "name": "stderr",
          "text": [
            "<ipython-input-15-22e3fde777af>:1: DeprecationWarning: KerasClassifier is deprecated, use Sci-Keras (https://github.com/adriangb/scikeras) instead. See https://www.adriangb.com/scikeras/stable/migration.html for help migrating.\n",
            "  model = KerasClassifier(create_model)\n"
          ]
        }
      ],
      "source": [
        "model = KerasClassifier(create_model)"
      ]
    },
    {
      "cell_type": "code",
      "execution_count": 16,
      "metadata": {
        "colab": {
          "base_uri": "https://localhost:8080/"
        },
        "id": "m8GKbLJ_7mNn",
        "outputId": "112ce164-0491-4f10-b466-f0ef018ebc89"
      },
      "outputs": [
        {
          "output_type": "stream",
          "name": "stdout",
          "text": [
            "Fitting 3 folds for each of 8 candidates, totalling 24 fits\n",
            "Epoch 1/3\n",
            "1563/1563 [==============================] - 20s 12ms/step - loss: 0.6463 - accuracy: 0.8036\n",
            "Epoch 2/3\n",
            "1563/1563 [==============================] - 13s 9ms/step - loss: 0.4406 - accuracy: 0.8663\n",
            "Epoch 3/3\n",
            "1563/1563 [==============================] - 14s 9ms/step - loss: 0.3561 - accuracy: 0.8915\n",
            "782/782 [==============================] - 2s 3ms/step - loss: 0.4521 - accuracy: 0.8685\n",
            "Epoch 1/3\n",
            "1563/1563 [==============================] - 14s 8ms/step - loss: 0.6454 - accuracy: 0.8018\n",
            "Epoch 2/3\n",
            "1563/1563 [==============================] - 15s 9ms/step - loss: 0.4378 - accuracy: 0.8673\n",
            "Epoch 3/3\n",
            "1563/1563 [==============================] - 14s 9ms/step - loss: 0.3515 - accuracy: 0.8912\n",
            "782/782 [==============================] - 3s 3ms/step - loss: 0.4631 - accuracy: 0.8622\n",
            "Epoch 1/3\n",
            "1563/1563 [==============================] - 14s 9ms/step - loss: 0.6539 - accuracy: 0.8018\n",
            "Epoch 2/3\n",
            "1563/1563 [==============================] - 14s 9ms/step - loss: 0.4416 - accuracy: 0.8660\n",
            "Epoch 3/3\n",
            "1563/1563 [==============================] - 14s 9ms/step - loss: 0.3542 - accuracy: 0.8913\n",
            "782/782 [==============================] - 3s 4ms/step - loss: 0.4811 - accuracy: 0.8590\n",
            "Epoch 1/3\n",
            "1563/1563 [==============================] - 18s 11ms/step - loss: 0.6401 - accuracy: 0.8035\n",
            "Epoch 2/3\n",
            "1563/1563 [==============================] - 18s 12ms/step - loss: 0.4399 - accuracy: 0.8660\n",
            "Epoch 3/3\n",
            "1563/1563 [==============================] - 17s 11ms/step - loss: 0.3586 - accuracy: 0.8899\n",
            "782/782 [==============================] - 3s 3ms/step - loss: 0.4651 - accuracy: 0.8618\n",
            "Epoch 1/3\n",
            "1563/1563 [==============================] - 18s 11ms/step - loss: 0.6340 - accuracy: 0.8039\n",
            "Epoch 2/3\n",
            "1563/1563 [==============================] - 16s 11ms/step - loss: 0.4361 - accuracy: 0.8662\n",
            "Epoch 3/3\n",
            "1563/1563 [==============================] - 16s 11ms/step - loss: 0.3516 - accuracy: 0.8909\n",
            "782/782 [==============================] - 3s 4ms/step - loss: 0.4596 - accuracy: 0.8656\n",
            "Epoch 1/3\n",
            "1563/1563 [==============================] - 20s 12ms/step - loss: 0.6443 - accuracy: 0.8012\n",
            "Epoch 2/3\n",
            "1563/1563 [==============================] - 17s 11ms/step - loss: 0.4430 - accuracy: 0.8642\n",
            "Epoch 3/3\n",
            "1563/1563 [==============================] - 16s 10ms/step - loss: 0.3570 - accuracy: 0.8902\n",
            "782/782 [==============================] - 3s 4ms/step - loss: 0.4456 - accuracy: 0.8661\n",
            "Epoch 1/3\n",
            "1563/1563 [==============================] - 13s 8ms/step - loss: 0.6611 - accuracy: 0.7999\n",
            "Epoch 2/3\n",
            "1563/1563 [==============================] - 13s 8ms/step - loss: 0.4450 - accuracy: 0.8665\n",
            "Epoch 3/3\n",
            "1563/1563 [==============================] - 13s 8ms/step - loss: 0.3590 - accuracy: 0.8910\n",
            "782/782 [==============================] - 2s 3ms/step - loss: 0.4614 - accuracy: 0.8638\n",
            "Epoch 1/3\n",
            "1563/1563 [==============================] - 14s 8ms/step - loss: 0.6503 - accuracy: 0.8030\n",
            "Epoch 2/3\n",
            "1563/1563 [==============================] - 13s 8ms/step - loss: 0.4393 - accuracy: 0.8673\n",
            "Epoch 3/3\n",
            "1563/1563 [==============================] - 13s 8ms/step - loss: 0.3518 - accuracy: 0.8915\n",
            "782/782 [==============================] - 3s 3ms/step - loss: 0.4634 - accuracy: 0.8643\n",
            "Epoch 1/3\n",
            "1563/1563 [==============================] - 14s 8ms/step - loss: 0.6614 - accuracy: 0.8014\n",
            "Epoch 2/3\n",
            "1563/1563 [==============================] - 13s 8ms/step - loss: 0.4465 - accuracy: 0.8646\n",
            "Epoch 3/3\n",
            "1563/1563 [==============================] - 12s 8ms/step - loss: 0.3584 - accuracy: 0.8907\n",
            "782/782 [==============================] - 3s 3ms/step - loss: 0.4416 - accuracy: 0.8718\n",
            "Epoch 1/3\n",
            "1563/1563 [==============================] - 18s 11ms/step - loss: 0.6535 - accuracy: 0.8001\n",
            "Epoch 2/3\n",
            "1563/1563 [==============================] - 16s 10ms/step - loss: 0.4443 - accuracy: 0.8638\n",
            "Epoch 3/3\n",
            "1563/1563 [==============================] - 17s 11ms/step - loss: 0.3597 - accuracy: 0.8885\n",
            "782/782 [==============================] - 3s 4ms/step - loss: 0.4645 - accuracy: 0.8632\n",
            "Epoch 1/3\n",
            "1563/1563 [==============================] - 17s 10ms/step - loss: 0.6504 - accuracy: 0.7995\n",
            "Epoch 2/3\n",
            "1563/1563 [==============================] - 16s 10ms/step - loss: 0.4417 - accuracy: 0.8646\n",
            "Epoch 3/3\n",
            "1563/1563 [==============================] - 16s 10ms/step - loss: 0.3599 - accuracy: 0.8893\n",
            "782/782 [==============================] - 3s 3ms/step - loss: 0.4667 - accuracy: 0.8608\n",
            "Epoch 1/3\n",
            "1563/1563 [==============================] - 17s 10ms/step - loss: 0.6568 - accuracy: 0.7991\n",
            "Epoch 2/3\n",
            "1563/1563 [==============================] - 17s 11ms/step - loss: 0.4459 - accuracy: 0.8647\n",
            "Epoch 3/3\n",
            "1563/1563 [==============================] - 15s 10ms/step - loss: 0.3595 - accuracy: 0.8891\n",
            "782/782 [==============================] - 3s 3ms/step - loss: 0.4502 - accuracy: 0.8636\n",
            "Epoch 1/3\n",
            "1563/1563 [==============================] - 10s 6ms/step - loss: 0.6656 - accuracy: 0.7971\n",
            "Epoch 2/3\n",
            "1563/1563 [==============================] - 10s 6ms/step - loss: 0.4529 - accuracy: 0.8621\n",
            "Epoch 3/3\n",
            "1563/1563 [==============================] - 10s 6ms/step - loss: 0.3720 - accuracy: 0.8870\n",
            "782/782 [==============================] - 3s 3ms/step - loss: 0.4662 - accuracy: 0.8619\n",
            "Epoch 1/3\n",
            "1563/1563 [==============================] - 14s 8ms/step - loss: 0.6575 - accuracy: 0.7989\n",
            "Epoch 2/3\n",
            "1563/1563 [==============================] - 10s 7ms/step - loss: 0.4503 - accuracy: 0.8630\n",
            "Epoch 3/3\n",
            "1563/1563 [==============================] - 10s 6ms/step - loss: 0.3647 - accuracy: 0.8896\n",
            "782/782 [==============================] - 3s 3ms/step - loss: 0.4707 - accuracy: 0.8630\n",
            "Epoch 1/3\n",
            "1563/1563 [==============================] - 11s 7ms/step - loss: 0.6636 - accuracy: 0.7965\n",
            "Epoch 2/3\n",
            "1563/1563 [==============================] - 9s 6ms/step - loss: 0.4550 - accuracy: 0.8624\n",
            "Epoch 3/3\n",
            "1563/1563 [==============================] - 10s 7ms/step - loss: 0.3693 - accuracy: 0.8888\n",
            "782/782 [==============================] - 2s 3ms/step - loss: 0.4728 - accuracy: 0.8571\n",
            "Epoch 1/3\n",
            "1563/1563 [==============================] - 12s 7ms/step - loss: 0.6589 - accuracy: 0.7971\n",
            "Epoch 2/3\n",
            "1563/1563 [==============================] - 12s 8ms/step - loss: 0.4527 - accuracy: 0.8625\n",
            "Epoch 3/3\n",
            "1563/1563 [==============================] - 13s 8ms/step - loss: 0.3721 - accuracy: 0.8862\n",
            "782/782 [==============================] - 2s 3ms/step - loss: 0.4611 - accuracy: 0.8620\n",
            "Epoch 1/3\n",
            "1563/1563 [==============================] - 13s 7ms/step - loss: 0.6559 - accuracy: 0.7979\n",
            "Epoch 2/3\n",
            "1563/1563 [==============================] - 12s 8ms/step - loss: 0.4467 - accuracy: 0.8624\n",
            "Epoch 3/3\n",
            "1563/1563 [==============================] - 12s 8ms/step - loss: 0.3655 - accuracy: 0.8871\n",
            "782/782 [==============================] - 2s 3ms/step - loss: 0.4598 - accuracy: 0.8658\n",
            "Epoch 1/3\n",
            "1563/1563 [==============================] - 12s 7ms/step - loss: 0.6560 - accuracy: 0.7986\n",
            "Epoch 2/3\n",
            "1563/1563 [==============================] - 12s 7ms/step - loss: 0.4537 - accuracy: 0.8615\n",
            "Epoch 3/3\n",
            "1563/1563 [==============================] - 12s 7ms/step - loss: 0.3699 - accuracy: 0.8870\n",
            "782/782 [==============================] - 2s 3ms/step - loss: 0.4624 - accuracy: 0.8618\n",
            "Epoch 1/3\n",
            "1563/1563 [==============================] - 10s 6ms/step - loss: 0.6728 - accuracy: 0.7975\n",
            "Epoch 2/3\n",
            "1563/1563 [==============================] - 10s 6ms/step - loss: 0.4604 - accuracy: 0.8618\n",
            "Epoch 3/3\n",
            "1563/1563 [==============================] - 10s 6ms/step - loss: 0.3798 - accuracy: 0.8851\n",
            "782/782 [==============================] - 2s 3ms/step - loss: 0.4825 - accuracy: 0.8564\n",
            "Epoch 1/3\n",
            "1563/1563 [==============================] - 11s 6ms/step - loss: 0.6682 - accuracy: 0.7983\n",
            "Epoch 2/3\n",
            "1563/1563 [==============================] - 9s 6ms/step - loss: 0.4552 - accuracy: 0.8630\n",
            "Epoch 3/3\n",
            "1563/1563 [==============================] - 11s 7ms/step - loss: 0.3760 - accuracy: 0.8850\n",
            "782/782 [==============================] - 2s 3ms/step - loss: 0.4643 - accuracy: 0.8648\n",
            "Epoch 1/3\n",
            "1563/1563 [==============================] - 11s 6ms/step - loss: 0.6716 - accuracy: 0.7987\n",
            "Epoch 2/3\n",
            "1563/1563 [==============================] - 10s 6ms/step - loss: 0.4574 - accuracy: 0.8614\n",
            "Epoch 3/3\n",
            "1563/1563 [==============================] - 10s 6ms/step - loss: 0.3780 - accuracy: 0.8868\n",
            "782/782 [==============================] - 2s 3ms/step - loss: 0.4691 - accuracy: 0.8612\n",
            "Epoch 1/3\n",
            "1563/1563 [==============================] - 12s 7ms/step - loss: 0.6665 - accuracy: 0.7972\n",
            "Epoch 2/3\n",
            "1563/1563 [==============================] - 11s 7ms/step - loss: 0.4546 - accuracy: 0.8628\n",
            "Epoch 3/3\n",
            "1563/1563 [==============================] - 11s 7ms/step - loss: 0.3720 - accuracy: 0.8862\n",
            "782/782 [==============================] - 2s 3ms/step - loss: 0.4826 - accuracy: 0.8556\n",
            "Epoch 1/3\n",
            "1563/1563 [==============================] - 12s 7ms/step - loss: 0.6606 - accuracy: 0.7960\n",
            "Epoch 2/3\n",
            "1563/1563 [==============================] - 11s 7ms/step - loss: 0.4543 - accuracy: 0.8605\n",
            "Epoch 3/3\n",
            "1563/1563 [==============================] - 11s 7ms/step - loss: 0.3751 - accuracy: 0.8853\n",
            "782/782 [==============================] - 2s 3ms/step - loss: 0.4617 - accuracy: 0.8620\n",
            "Epoch 1/3\n",
            "1563/1563 [==============================] - 12s 7ms/step - loss: 0.6703 - accuracy: 0.7959\n",
            "Epoch 2/3\n",
            "1563/1563 [==============================] - 11s 7ms/step - loss: 0.4544 - accuracy: 0.8627\n",
            "Epoch 3/3\n",
            "1563/1563 [==============================] - 11s 7ms/step - loss: 0.3719 - accuracy: 0.8853\n",
            "782/782 [==============================] - 2s 3ms/step - loss: 0.4875 - accuracy: 0.8546\n",
            "Epoch 1/3\n",
            "2344/2344 [==============================] - 22s 9ms/step - loss: 0.6024 - accuracy: 0.8173\n",
            "Epoch 2/3\n",
            "2344/2344 [==============================] - 19s 8ms/step - loss: 0.4176 - accuracy: 0.8743\n",
            "Epoch 3/3\n",
            "2344/2344 [==============================] - 20s 8ms/step - loss: 0.3433 - accuracy: 0.8966\n",
            "Best: 0.8666133284568787 using {'epochs': 3, 'first_layer_nodes': 500, 'last_layer_nodes': 50, 'n_layers': 2}\n",
            "Means: 0.8632400234540304, Stdev: 0.003955483564225023 with: {'epochs': 3, 'first_layer_nodes': 500, 'last_layer_nodes': 100, 'n_layers': 2}\n",
            "Means: 0.8645066618919373, Stdev: 0.0018994159551199046 with: {'epochs': 3, 'first_layer_nodes': 500, 'last_layer_nodes': 100, 'n_layers': 3}\n",
            "Means: 0.8666133284568787, Stdev: 0.003646427449009441 with: {'epochs': 3, 'first_layer_nodes': 500, 'last_layer_nodes': 50, 'n_layers': 2}\n",
            "Means: 0.8625200192133585, Stdev: 0.001199108810961008 with: {'epochs': 3, 'first_layer_nodes': 500, 'last_layer_nodes': 50, 'n_layers': 3}\n",
            "Means: 0.8606666525204977, Stdev: 0.0025435629172349625 with: {'epochs': 3, 'first_layer_nodes': 300, 'last_layer_nodes': 100, 'n_layers': 2}\n",
            "Means: 0.8632000088691711, Stdev: 0.001840299391704616 with: {'epochs': 3, 'first_layer_nodes': 300, 'last_layer_nodes': 100, 'n_layers': 3}\n",
            "Means: 0.8607999881108602, Stdev: 0.0034734605286481485 with: {'epochs': 3, 'first_layer_nodes': 300, 'last_layer_nodes': 50, 'n_layers': 2}\n",
            "Means: 0.8573866685231527, Stdev: 0.003263746893481526 with: {'epochs': 3, 'first_layer_nodes': 300, 'last_layer_nodes': 50, 'n_layers': 3}\n",
            "CPU times: user 21min 28s, sys: 1min 23s, total: 22min 52s\n",
            "Wall time: 22min 15s\n"
          ]
        }
      ],
      "source": [
        "%%time\n",
        "# Create Grid Search\n",
        "grid = GridSearchCV(estimator=model,\n",
        "                    param_grid=param_grid,\n",
        "                    n_jobs=-2,\n",
        "                    verbose=1,\n",
        "                    cv=3)\n",
        "\n",
        "grid_result = grid.fit(X_train, y_train)\n",
        "\n",
        "# Report Results\n",
        "print(f\"Best: {grid_result.best_score_} using {grid_result.best_params_}\")\n",
        "\n",
        "means = grid_result.cv_results_['mean_test_score']\n",
        "stds = grid_result.cv_results_['std_test_score']\n",
        "params = grid_result.cv_results_['params']\n",
        "\n",
        "for mean, stdev, param in zip(means, stds, params):\n",
        "    print(f\"Means: {mean}, Stdev: {stdev} with: {param}\")"
      ]
    },
    {
      "cell_type": "code",
      "execution_count": 17,
      "metadata": {
        "id": "OfH6okqe7mNo"
      },
      "outputs": [],
      "source": [
        "best_model = grid_result.best_estimator_"
      ]
    },
    {
      "cell_type": "code",
      "execution_count": 18,
      "metadata": {
        "id": "Inlda_0w7mNo",
        "outputId": "1e097749-f289-4b71-c383-3d8fae3fc5ca",
        "colab": {
          "base_uri": "https://localhost:8080/"
        }
      },
      "outputs": [
        {
          "output_type": "execute_result",
          "data": {
            "text/plain": [
              "{'epochs': 3,\n",
              " 'first_layer_nodes': 500,\n",
              " 'last_layer_nodes': 50,\n",
              " 'n_layers': 2,\n",
              " 'build_fn': <function __main__.create_model(n_layers, first_layer_nodes, last_layer_nodes, act_funct='relu', negative_node_incrementation=True)>}"
            ]
          },
          "metadata": {},
          "execution_count": 18
        }
      ],
      "source": [
        "best_model.get_params()"
      ]
    },
    {
      "cell_type": "markdown",
      "metadata": {
        "id": "vrs3Yib17mNl"
      },
      "source": [
        "Ok, now that we've played around a bit with  `create_model`, let's build a  simpler model that we'll use to run gridsearches."
      ]
    },
    {
      "cell_type": "markdown",
      "metadata": {
        "id": "jvegpS1-5yYX"
      },
      "source": [
        "### Build model\n",
        "\n",
        "Use `create_model` to build a model.\n",
        "\n",
        "- Set `n_layers = 2`\n",
        "- Set `first_layer_nodes = 500`\n",
        "- Set `last_layer_nodes = 100`\n",
        "- Set `act_funct = \"relu\"`\n",
        "- Make sure that `negative_node_incrementation = True`"
      ]
    },
    {
      "cell_type": "code",
      "execution_count": 19,
      "metadata": {
        "id": "p-NcKYRr5yYX",
        "nbgrader": {
          "grade": false,
          "grade_id": "cell-4ca6c5e51302fd10",
          "locked": false,
          "schema_version": 3,
          "solution": true,
          "task": false
        }
      },
      "outputs": [],
      "source": [
        "# use create_model to create a model\n",
        "\n",
        "###BEGIN SOLUTION\n",
        "# use create_model to create a model\n",
        "model = create_model(n_layers=2,\n",
        "                     first_layer_nodes= 500,\n",
        "                     last_layer_nodes=100,\n",
        "                     act_funct=\"relu\",\n",
        "                     negative_node_incrementation= True)\n",
        "###END SOLUTION"
      ]
    },
    {
      "cell_type": "code",
      "execution_count": 20,
      "metadata": {
        "colab": {
          "base_uri": "https://localhost:8080/"
        },
        "id": "ICLd6cYN5yYY",
        "outputId": "d15897a7-cb84-4daa-b507-a077f717ed30"
      },
      "outputs": [
        {
          "output_type": "stream",
          "name": "stdout",
          "text": [
            "Model: \"sequential_27\"\n",
            "_________________________________________________________________\n",
            " Layer (type)                Output Shape              Param #   \n",
            "=================================================================\n",
            " dense_109 (Dense)           (None, 500)               392500    \n",
            "                                                                 \n",
            " dense_110 (Dense)           (None, 100)               50100     \n",
            "                                                                 \n",
            " dense_111 (Dense)           (None, 10)                1010      \n",
            "                                                                 \n",
            "=================================================================\n",
            "Total params: 443,610\n",
            "Trainable params: 443,610\n",
            "Non-trainable params: 0\n",
            "_________________________________________________________________\n"
          ]
        }
      ],
      "source": [
        "# run model.summary() and make sure that you understand the model architecture that you just built\n",
        "model.summary()"
      ]
    },
    {
      "cell_type": "code",
      "execution_count": 21,
      "metadata": {
        "id": "KwY6GFo85yYY"
      },
      "outputs": [],
      "source": [
        "# define the grid search parameters\n",
        "param_grid = {'n_layers': [2, 3],\n",
        "              'epochs': [3],\n",
        "              \"first_layer_nodes\": [500, 300],\n",
        "              \"last_layer_nodes\": [100, 50]\n",
        "             }"
      ]
    },
    {
      "cell_type": "code",
      "execution_count": 22,
      "metadata": {
        "id": "8a0iHBqJ5yYY",
        "outputId": "6c685c39-6802-49fd-dcf2-8075102b97bd",
        "colab": {
          "base_uri": "https://localhost:8080/"
        }
      },
      "outputs": [
        {
          "output_type": "stream",
          "name": "stderr",
          "text": [
            "<ipython-input-22-22e3fde777af>:1: DeprecationWarning: KerasClassifier is deprecated, use Sci-Keras (https://github.com/adriangb/scikeras) instead. See https://www.adriangb.com/scikeras/stable/migration.html for help migrating.\n",
            "  model = KerasClassifier(create_model)\n"
          ]
        }
      ],
      "source": [
        "model = KerasClassifier(create_model)"
      ]
    },
    {
      "cell_type": "code",
      "execution_count": 23,
      "metadata": {
        "colab": {
          "base_uri": "https://localhost:8080/"
        },
        "id": "kxpuM3g15yYZ",
        "outputId": "6647abda-86eb-4489-bb49-ed7dd2dc403e"
      },
      "outputs": [
        {
          "output_type": "stream",
          "name": "stdout",
          "text": [
            "Fitting 3 folds for each of 8 candidates, totalling 24 fits\n",
            "Epoch 1/3\n",
            "1563/1563 [==============================] - 14s 9ms/step - loss: 0.6415 - accuracy: 0.8048\n",
            "Epoch 2/3\n",
            "1563/1563 [==============================] - 13s 8ms/step - loss: 0.4352 - accuracy: 0.8672\n",
            "Epoch 3/3\n",
            "1563/1563 [==============================] - 13s 8ms/step - loss: 0.3510 - accuracy: 0.8921\n",
            "782/782 [==============================] - 3s 3ms/step - loss: 0.4642 - accuracy: 0.8636\n",
            "Epoch 1/3\n",
            "1563/1563 [==============================] - 15s 9ms/step - loss: 0.6484 - accuracy: 0.8017\n",
            "Epoch 2/3\n",
            "1563/1563 [==============================] - 15s 10ms/step - loss: 0.4413 - accuracy: 0.8646\n",
            "Epoch 3/3\n",
            "1563/1563 [==============================] - 15s 10ms/step - loss: 0.3533 - accuracy: 0.8933\n",
            "782/782 [==============================] - 3s 3ms/step - loss: 0.4565 - accuracy: 0.8665\n",
            "Epoch 1/3\n",
            "1563/1563 [==============================] - 14s 9ms/step - loss: 0.6507 - accuracy: 0.8018\n",
            "Epoch 2/3\n",
            "1563/1563 [==============================] - 17s 11ms/step - loss: 0.4394 - accuracy: 0.8679\n",
            "Epoch 3/3\n",
            "1563/1563 [==============================] - 14s 9ms/step - loss: 0.3517 - accuracy: 0.8934\n",
            "782/782 [==============================] - 3s 4ms/step - loss: 0.4528 - accuracy: 0.8664\n",
            "Epoch 1/3\n",
            "1563/1563 [==============================] - 17s 11ms/step - loss: 0.6397 - accuracy: 0.8039\n",
            "Epoch 2/3\n",
            "1563/1563 [==============================] - 17s 11ms/step - loss: 0.4387 - accuracy: 0.8656\n",
            "Epoch 3/3\n",
            "1563/1563 [==============================] - 18s 11ms/step - loss: 0.3587 - accuracy: 0.8909\n",
            "782/782 [==============================] - 3s 4ms/step - loss: 0.4438 - accuracy: 0.8690\n",
            "Epoch 1/3\n",
            "1563/1563 [==============================] - 18s 11ms/step - loss: 0.6357 - accuracy: 0.8041\n",
            "Epoch 2/3\n",
            "1563/1563 [==============================] - 18s 12ms/step - loss: 0.4380 - accuracy: 0.8658\n",
            "Epoch 3/3\n",
            "1563/1563 [==============================] - 18s 12ms/step - loss: 0.3545 - accuracy: 0.8921\n",
            "782/782 [==============================] - 3s 3ms/step - loss: 0.4840 - accuracy: 0.8599\n",
            "Epoch 1/3\n",
            "1563/1563 [==============================] - 19s 11ms/step - loss: 0.6468 - accuracy: 0.8022\n",
            "Epoch 2/3\n",
            "1563/1563 [==============================] - 17s 11ms/step - loss: 0.4369 - accuracy: 0.8661\n",
            "Epoch 3/3\n",
            "1563/1563 [==============================] - 17s 11ms/step - loss: 0.3571 - accuracy: 0.8897\n",
            "782/782 [==============================] - 3s 4ms/step - loss: 0.4420 - accuracy: 0.8693\n",
            "Epoch 1/3\n",
            "1563/1563 [==============================] - 14s 8ms/step - loss: 0.6501 - accuracy: 0.8057\n",
            "Epoch 2/3\n",
            "1563/1563 [==============================] - 13s 8ms/step - loss: 0.4443 - accuracy: 0.8656\n",
            "Epoch 3/3\n",
            "1563/1563 [==============================] - 13s 8ms/step - loss: 0.3603 - accuracy: 0.8900\n",
            "782/782 [==============================] - 3s 3ms/step - loss: 0.4585 - accuracy: 0.8656\n",
            "Epoch 1/3\n",
            "1563/1563 [==============================] - 14s 8ms/step - loss: 0.6617 - accuracy: 0.8000\n",
            "Epoch 2/3\n",
            "1563/1563 [==============================] - 13s 8ms/step - loss: 0.4465 - accuracy: 0.8653\n",
            "Epoch 3/3\n",
            "1563/1563 [==============================] - 13s 8ms/step - loss: 0.3594 - accuracy: 0.8909\n",
            "782/782 [==============================] - 2s 3ms/step - loss: 0.4636 - accuracy: 0.8679\n",
            "Epoch 1/3\n",
            "1563/1563 [==============================] - 14s 8ms/step - loss: 0.6549 - accuracy: 0.8006\n",
            "Epoch 2/3\n",
            "1563/1563 [==============================] - 14s 9ms/step - loss: 0.4413 - accuracy: 0.8673\n",
            "Epoch 3/3\n",
            "1563/1563 [==============================] - 13s 8ms/step - loss: 0.3539 - accuracy: 0.8918\n",
            "782/782 [==============================] - 2s 3ms/step - loss: 0.4622 - accuracy: 0.8644\n",
            "Epoch 1/3\n",
            "1563/1563 [==============================] - 17s 10ms/step - loss: 0.6494 - accuracy: 0.8004\n",
            "Epoch 2/3\n",
            "1563/1563 [==============================] - 16s 11ms/step - loss: 0.4402 - accuracy: 0.8659\n",
            "Epoch 3/3\n",
            "1563/1563 [==============================] - 17s 11ms/step - loss: 0.3588 - accuracy: 0.8899\n",
            "782/782 [==============================] - 3s 3ms/step - loss: 0.4536 - accuracy: 0.8670\n",
            "Epoch 1/3\n",
            "1563/1563 [==============================] - 17s 10ms/step - loss: 0.6418 - accuracy: 0.8017\n",
            "Epoch 2/3\n",
            "1563/1563 [==============================] - 17s 11ms/step - loss: 0.4410 - accuracy: 0.8658\n",
            "Epoch 3/3\n",
            "1563/1563 [==============================] - 16s 10ms/step - loss: 0.3574 - accuracy: 0.8903\n",
            "782/782 [==============================] - 3s 3ms/step - loss: 0.4674 - accuracy: 0.8652\n",
            "Epoch 1/3\n",
            "1563/1563 [==============================] - 17s 10ms/step - loss: 0.6494 - accuracy: 0.8017\n",
            "Epoch 2/3\n",
            "1563/1563 [==============================] - 17s 11ms/step - loss: 0.4434 - accuracy: 0.8652\n",
            "Epoch 3/3\n",
            "1563/1563 [==============================] - 17s 11ms/step - loss: 0.3584 - accuracy: 0.8899\n",
            "782/782 [==============================] - 3s 3ms/step - loss: 0.4579 - accuracy: 0.8630\n",
            "Epoch 1/3\n",
            "1563/1563 [==============================] - 11s 6ms/step - loss: 0.6588 - accuracy: 0.7996\n",
            "Epoch 2/3\n",
            "1563/1563 [==============================] - 10s 6ms/step - loss: 0.4490 - accuracy: 0.8646\n",
            "Epoch 3/3\n",
            "1563/1563 [==============================] - 10s 7ms/step - loss: 0.3681 - accuracy: 0.8883\n",
            "782/782 [==============================] - 2s 3ms/step - loss: 0.4489 - accuracy: 0.8679\n",
            "Epoch 1/3\n",
            "1563/1563 [==============================] - 11s 6ms/step - loss: 0.6578 - accuracy: 0.8001\n",
            "Epoch 2/3\n",
            "1563/1563 [==============================] - 9s 6ms/step - loss: 0.4482 - accuracy: 0.8644\n",
            "Epoch 3/3\n",
            "1563/1563 [==============================] - 10s 6ms/step - loss: 0.3672 - accuracy: 0.8884\n",
            "782/782 [==============================] - 2s 3ms/step - loss: 0.4717 - accuracy: 0.8636\n",
            "Epoch 1/3\n",
            "1563/1563 [==============================] - 12s 7ms/step - loss: 0.6592 - accuracy: 0.7993\n",
            "Epoch 2/3\n",
            "1563/1563 [==============================] - 11s 7ms/step - loss: 0.4464 - accuracy: 0.8663\n",
            "Epoch 3/3\n",
            "1563/1563 [==============================] - 11s 7ms/step - loss: 0.3672 - accuracy: 0.8889\n",
            "782/782 [==============================] - 2s 3ms/step - loss: 0.4437 - accuracy: 0.8692\n",
            "Epoch 1/3\n",
            "1563/1563 [==============================] - 13s 8ms/step - loss: 0.6621 - accuracy: 0.7960\n",
            "Epoch 2/3\n",
            "1563/1563 [==============================] - 12s 8ms/step - loss: 0.4534 - accuracy: 0.8608\n",
            "Epoch 3/3\n",
            "1563/1563 [==============================] - 13s 8ms/step - loss: 0.3750 - accuracy: 0.8851\n",
            "782/782 [==============================] - 3s 3ms/step - loss: 0.4567 - accuracy: 0.8652\n",
            "Epoch 1/3\n",
            "1563/1563 [==============================] - 13s 8ms/step - loss: 0.6559 - accuracy: 0.7973\n",
            "Epoch 2/3\n",
            "1563/1563 [==============================] - 12s 8ms/step - loss: 0.4518 - accuracy: 0.8609\n",
            "Epoch 3/3\n",
            "1563/1563 [==============================] - 12s 8ms/step - loss: 0.3709 - accuracy: 0.8853\n",
            "782/782 [==============================] - 2s 3ms/step - loss: 0.4788 - accuracy: 0.8572\n",
            "Epoch 1/3\n",
            "1563/1563 [==============================] - 13s 8ms/step - loss: 0.6649 - accuracy: 0.7942\n",
            "Epoch 2/3\n",
            "1563/1563 [==============================] - 12s 8ms/step - loss: 0.4520 - accuracy: 0.8620\n",
            "Epoch 3/3\n",
            "1563/1563 [==============================] - 12s 8ms/step - loss: 0.3729 - accuracy: 0.8863\n",
            "782/782 [==============================] - 2s 3ms/step - loss: 0.4482 - accuracy: 0.8660\n",
            "Epoch 1/3\n",
            "1563/1563 [==============================] - 11s 7ms/step - loss: 0.6861 - accuracy: 0.7928\n",
            "Epoch 2/3\n",
            "1563/1563 [==============================] - 11s 7ms/step - loss: 0.4635 - accuracy: 0.8598\n",
            "Epoch 3/3\n",
            "1563/1563 [==============================] - 11s 7ms/step - loss: 0.3785 - accuracy: 0.8856\n",
            "782/782 [==============================] - 3s 3ms/step - loss: 0.4848 - accuracy: 0.8584\n",
            "Epoch 1/3\n",
            "1563/1563 [==============================] - 10s 6ms/step - loss: 0.6722 - accuracy: 0.7962\n",
            "Epoch 2/3\n",
            "1563/1563 [==============================] - 10s 6ms/step - loss: 0.4603 - accuracy: 0.8616\n",
            "Epoch 3/3\n",
            "1563/1563 [==============================] - 10s 7ms/step - loss: 0.3761 - accuracy: 0.8847\n",
            "782/782 [==============================] - 2s 3ms/step - loss: 0.4708 - accuracy: 0.8609\n",
            "Epoch 1/3\n",
            "1563/1563 [==============================] - 12s 7ms/step - loss: 0.6796 - accuracy: 0.7964\n",
            "Epoch 2/3\n",
            "1563/1563 [==============================] - 11s 7ms/step - loss: 0.4636 - accuracy: 0.8607\n",
            "Epoch 3/3\n",
            "1563/1563 [==============================] - 10s 6ms/step - loss: 0.3804 - accuracy: 0.8862\n",
            "782/782 [==============================] - 2s 3ms/step - loss: 0.4886 - accuracy: 0.8598\n",
            "Epoch 1/3\n",
            "1563/1563 [==============================] - 12s 7ms/step - loss: 0.6742 - accuracy: 0.7955\n",
            "Epoch 2/3\n",
            "1563/1563 [==============================] - 12s 7ms/step - loss: 0.4557 - accuracy: 0.8606\n",
            "Epoch 3/3\n",
            "1563/1563 [==============================] - 12s 7ms/step - loss: 0.3772 - accuracy: 0.8846\n",
            "782/782 [==============================] - 2s 3ms/step - loss: 0.4859 - accuracy: 0.8554\n",
            "Epoch 1/3\n",
            "1563/1563 [==============================] - 12s 7ms/step - loss: 0.6598 - accuracy: 0.7961\n",
            "Epoch 2/3\n",
            "1563/1563 [==============================] - 11s 7ms/step - loss: 0.4528 - accuracy: 0.8616\n",
            "Epoch 3/3\n",
            "1563/1563 [==============================] - 11s 7ms/step - loss: 0.3699 - accuracy: 0.8871\n",
            "782/782 [==============================] - 2s 3ms/step - loss: 0.4711 - accuracy: 0.8642\n",
            "Epoch 1/3\n",
            "1563/1563 [==============================] - 12s 7ms/step - loss: 0.6647 - accuracy: 0.7958\n",
            "Epoch 2/3\n",
            "1563/1563 [==============================] - 12s 7ms/step - loss: 0.4527 - accuracy: 0.8624\n",
            "Epoch 3/3\n",
            "1563/1563 [==============================] - 11s 7ms/step - loss: 0.3720 - accuracy: 0.8861\n",
            "782/782 [==============================] - 2s 3ms/step - loss: 0.4956 - accuracy: 0.8517\n",
            "Epoch 1/3\n",
            "2344/2344 [==============================] - 16s 7ms/step - loss: 0.6168 - accuracy: 0.8131\n",
            "Epoch 2/3\n",
            "2344/2344 [==============================] - 16s 7ms/step - loss: 0.4286 - accuracy: 0.8704\n",
            "Epoch 3/3\n",
            "2344/2344 [==============================] - 15s 6ms/step - loss: 0.3554 - accuracy: 0.8923\n",
            "Best: 0.866919994354248 using {'epochs': 3, 'first_layer_nodes': 300, 'last_layer_nodes': 100, 'n_layers': 2}\n",
            "Means: 0.865506668885549, Stdev: 0.001349096981290396 with: {'epochs': 3, 'first_layer_nodes': 500, 'last_layer_nodes': 100, 'n_layers': 2}\n",
            "Means: 0.8660666743914286, Stdev: 0.00434784008141017 with: {'epochs': 3, 'first_layer_nodes': 500, 'last_layer_nodes': 100, 'n_layers': 3}\n",
            "Means: 0.8659600019454956, Stdev: 0.0014433139413963952 with: {'epochs': 3, 'first_layer_nodes': 500, 'last_layer_nodes': 50, 'n_layers': 2}\n",
            "Means: 0.8650799791018168, Stdev: 0.0016043350222458678 with: {'epochs': 3, 'first_layer_nodes': 500, 'last_layer_nodes': 50, 'n_layers': 3}\n",
            "Means: 0.866919994354248, Stdev: 0.0023774394496244677 with: {'epochs': 3, 'first_layer_nodes': 300, 'last_layer_nodes': 100, 'n_layers': 2}\n",
            "Means: 0.8628133336702982, Stdev: 0.003954437515409463 with: {'epochs': 3, 'first_layer_nodes': 300, 'last_layer_nodes': 100, 'n_layers': 3}\n",
            "Means: 0.8597066601117452, Stdev: 0.0010309098977901662 with: {'epochs': 3, 'first_layer_nodes': 300, 'last_layer_nodes': 50, 'n_layers': 2}\n",
            "Means: 0.8570799827575684, Stdev: 0.005253984163484794 with: {'epochs': 3, 'first_layer_nodes': 300, 'last_layer_nodes': 50, 'n_layers': 3}\n",
            "CPU times: user 21min 44s, sys: 1min 15s, total: 22min 59s\n",
            "Wall time: 19min 56s\n"
          ]
        }
      ],
      "source": [
        "%%time\n",
        "# Create Grid Search\n",
        "grid = GridSearchCV(estimator=model,\n",
        "                    param_grid=param_grid,\n",
        "                    n_jobs=-2,\n",
        "                    verbose=1,\n",
        "                    cv=3)\n",
        "\n",
        "grid_result = grid.fit(X_train, y_train)\n",
        "\n",
        "# Report Results\n",
        "print(f\"Best: {grid_result.best_score_} using {grid_result.best_params_}\")\n",
        "\n",
        "means = grid_result.cv_results_['mean_test_score']\n",
        "stds = grid_result.cv_results_['std_test_score']\n",
        "params = grid_result.cv_results_['params']\n",
        "\n",
        "for mean, stdev, param in zip(means, stds, params):\n",
        "    print(f\"Means: {mean}, Stdev: {stdev} with: {param}\")"
      ]
    },
    {
      "cell_type": "code",
      "execution_count": 24,
      "metadata": {
        "id": "TIlpwjag5yYZ"
      },
      "outputs": [],
      "source": [
        "best_model = grid_result.best_estimator_"
      ]
    },
    {
      "cell_type": "code",
      "execution_count": 25,
      "metadata": {
        "colab": {
          "base_uri": "https://localhost:8080/"
        },
        "id": "MFvMxmr85yYZ",
        "outputId": "920fdec4-3911-4851-8043-4be1f025d5c9"
      },
      "outputs": [
        {
          "output_type": "execute_result",
          "data": {
            "text/plain": [
              "{'epochs': 3,\n",
              " 'first_layer_nodes': 300,\n",
              " 'last_layer_nodes': 100,\n",
              " 'n_layers': 2,\n",
              " 'build_fn': <function __main__.create_model(n_layers, first_layer_nodes, last_layer_nodes, act_funct='relu', negative_node_incrementation=True)>}"
            ]
          },
          "metadata": {},
          "execution_count": 25
        }
      ],
      "source": [
        "best_model.get_params()"
      ]
    },
    {
      "cell_type": "markdown",
      "metadata": {
        "id": "6azV65Nb7mNo"
      },
      "source": [
        "-----\n",
        "\n",
        "# Experiment 2: Run the Gridsearch Algorithms\n",
        "\n",
        "In this section, we are going to use the same model and dataset in order to benchmark 3 different gridsearch approaches:\n",
        "\n",
        "- Gridsearch\n",
        "- Random Search\n",
        "- Bayesian Optimization.\n",
        "\n",
        "\n",
        "Our goal in this experiment is two-fold. We want to see which appraoch\n",
        "\n",
        "- Scores the highest accuracy\n",
        "- Has the shortest run time\n",
        "\n",
        "We want to see how these 3 gridsearch approaches handle these trade-offs and to give you a sense of those trades offs.\n",
        "\n",
        "### Trade-offs\n",
        "\n",
        "`Gridsearch` will train a model on every single unique hyperparameter combination, this guarantees that you'll get the highest possible accuracy from your parameter set but your gridsearch might have a very long run-time.\n",
        "\n",
        "`Random Search` will randomly sample from your parameter set which, depending on how many samples, the run-time might be significantly cut down but you might or might not sample the parameters that correspond to the heightest possible accuracies.\n",
        "\n",
        "`Bayesian Optimization` has a bit of intelligence built into it's search algorithm but you do need to manually select some parameters which may greatly influence the model learning outcomes."
      ]
    },
    {
      "cell_type": "markdown",
      "metadata": {
        "id": "X41u_hls7mNp"
      },
      "source": [
        "-------\n",
        "### Build our hyperparameter dictionary"
      ]
    },
    {
      "cell_type": "code",
      "execution_count": 26,
      "metadata": {
        "colab": {
          "base_uri": "https://localhost:8080/",
          "height": 35
        },
        "id": "PYE7rTku7mNp",
        "outputId": "909a166e-400b-4001-be55-4f43a6422c2b"
      },
      "outputs": [
        {
          "output_type": "execute_result",
          "data": {
            "text/plain": [
              "'relu'"
            ],
            "application/vnd.google.colaboratory.intrinsic+json": {
              "type": "string"
            }
          },
          "metadata": {},
          "execution_count": 26
        }
      ],
      "source": [
        "# build out our hyperparameter dictionary\n",
        "hp = HyperParameters()\n",
        "hp.Int('units', min_value=32, max_value=512, step=32)\n",
        "hp.Choice('learning_rate',values=[1e-1, 1e-2, 1e-3])\n",
        "hp.Choice('activation',values=[\"relu\", \"sigmoid\"])"
      ]
    },
    {
      "cell_type": "markdown",
      "metadata": {
        "id": "zqjp2kHD7mNu"
      },
      "source": [
        "---------\n",
        "## 2.1 Gridsearch Optimization\n"
      ]
    },
    {
      "cell_type": "markdown",
      "metadata": {
        "id": "KsNW4rJp7mNu"
      },
      "source": [
        "### Populate a `sklearn` compatible parameter dictionary"
      ]
    },
    {
      "cell_type": "code",
      "execution_count": 27,
      "metadata": {
        "id": "vJQFKoyL7mNu"
      },
      "outputs": [],
      "source": [
        "# build out our hyperparameter dictionary\n",
        "hyper_parameters = {\n",
        "    # BUG Fix: cast array as list otherwise GridSearchCV will throw error\n",
        "    \"units\": np.arange(32, 512, 32).tolist(),\n",
        "    \"learning_rate\": [1e-1, 1e-2, 1e-3],\n",
        "    \"activation\":[\"relu\", \"sigmoid\"]\n",
        "}"
      ]
    },
    {
      "cell_type": "code",
      "execution_count": 28,
      "metadata": {
        "id": "RcxV58iC7mNu",
        "outputId": "cd0488e2-5c15-4eb0-f280-9af39b1c683a",
        "colab": {
          "base_uri": "https://localhost:8080/"
        }
      },
      "outputs": [
        {
          "output_type": "execute_result",
          "data": {
            "text/plain": [
              "{'units': [32,\n",
              "  64,\n",
              "  96,\n",
              "  128,\n",
              "  160,\n",
              "  192,\n",
              "  224,\n",
              "  256,\n",
              "  288,\n",
              "  320,\n",
              "  352,\n",
              "  384,\n",
              "  416,\n",
              "  448,\n",
              "  480],\n",
              " 'learning_rate': [0.1, 0.01, 0.001],\n",
              " 'activation': ['relu', 'sigmoid']}"
            ]
          },
          "metadata": {},
          "execution_count": 28
        }
      ],
      "source": [
        "hyper_parameters"
      ]
    },
    {
      "cell_type": "markdown",
      "metadata": {
        "id": "rOoMg9Ao7mNv"
      },
      "source": [
        "### Build a `sklearn` compatible model function"
      ]
    },
    {
      "cell_type": "code",
      "execution_count": 29,
      "metadata": {
        "id": "EZFVl-I-7mNv"
      },
      "outputs": [],
      "source": [
        "def build_model(units, learning_rate, activation):\n",
        "\n",
        "    \"\"\"\n",
        "    Returns a complie keras model ready for keras-tuner gridsearch algorithms\n",
        "    \"\"\"\n",
        "\n",
        "    model = Sequential()\n",
        "\n",
        "    # hidden layer\n",
        "    model.add(Dense(units, activation=activation))\n",
        "\n",
        "    # output layer\n",
        "    model.add(Dense(10, activation='softmax'))\n",
        "\n",
        "    model.compile(\n",
        "        optimizer=Adam(learning_rate),\n",
        "        loss='sparse_categorical_crossentropy',\n",
        "        metrics=['accuracy'])\n",
        "\n",
        "    return model"
      ]
    },
    {
      "cell_type": "markdown",
      "metadata": {
        "id": "uqYmn3QFsqZ_"
      },
      "source": [
        "### Apply the \"wrapper\" to make the model compatible with `sklearn`"
      ]
    },
    {
      "cell_type": "code",
      "execution_count": 30,
      "metadata": {
        "id": "ABSzrTrH7mNw",
        "outputId": "d2d94999-0d2c-44ee-e0bd-3708d3f90cdd",
        "colab": {
          "base_uri": "https://localhost:8080/"
        }
      },
      "outputs": [
        {
          "output_type": "stream",
          "name": "stderr",
          "text": [
            "<ipython-input-30-a93dc876c14b>:1: DeprecationWarning: KerasClassifier is deprecated, use Sci-Keras (https://github.com/adriangb/scikeras) instead. See https://www.adriangb.com/scikeras/stable/migration.html for help migrating.\n",
            "  model = KerasClassifier(build_fn = build_model)\n"
          ]
        }
      ],
      "source": [
        "model = KerasClassifier(build_fn = build_model)"
      ]
    },
    {
      "cell_type": "code",
      "execution_count": null,
      "metadata": {
        "id": "tTawllrN7mNw",
        "jupyter": {
          "outputs_hidden": true
        },
        "outputId": "f95f341b-af15-4afd-9a7b-3e23b2694edc",
        "colab": {
          "base_uri": "https://localhost:8080/"
        }
      },
      "outputs": [
        {
          "output_type": "stream",
          "name": "stdout",
          "text": [
            "Fitting 3 folds for each of 90 candidates, totalling 270 fits\n",
            "1563/1563 [==============================] - 19s 9ms/step - loss: 1.7684 - accuracy: 0.3659\n",
            "782/782 [==============================] - 6s 6ms/step - loss: 1.8820 - accuracy: 0.3280\n",
            "1563/1563 [==============================] - 18s 11ms/step - loss: 1.8900 - accuracy: 0.2870\n",
            "782/782 [==============================] - 7s 9ms/step - loss: 1.8187 - accuracy: 0.2924\n",
            "1563/1563 [==============================] - 18s 10ms/step - loss: 2.0361 - accuracy: 0.2479\n",
            "782/782 [==============================] - 7s 8ms/step - loss: 2.0542 - accuracy: 0.2578\n",
            "1563/1563 [==============================] - 20s 11ms/step - loss: 1.8427 - accuracy: 0.3250\n",
            "782/782 [==============================] - 6s 8ms/step - loss: 1.9224 - accuracy: 0.2668\n",
            "1563/1563 [==============================] - 24s 14ms/step - loss: 1.9526 - accuracy: 0.2829\n",
            "782/782 [==============================] - 8s 10ms/step - loss: 1.9896 - accuracy: 0.2466\n",
            "1563/1563 [==============================] - 23s 14ms/step - loss: 2.0361 - accuracy: 0.2548\n",
            "782/782 [==============================] - 7s 9ms/step - loss: 1.9582 - accuracy: 0.2513\n",
            "1563/1563 [==============================] - 24s 14ms/step - loss: 1.9422 - accuracy: 0.3007\n",
            "782/782 [==============================] - 7s 9ms/step - loss: 1.8740 - accuracy: 0.2894\n",
            "1563/1563 [==============================] - 23s 13ms/step - loss: 2.0566 - accuracy: 0.2718\n",
            "782/782 [==============================] - 8s 10ms/step - loss: 2.0335 - accuracy: 0.2190\n",
            "1563/1563 [==============================] - 19s 11ms/step - loss: 2.0256 - accuracy: 0.2679\n",
            "782/782 [==============================] - 6s 7ms/step - loss: 1.9681 - accuracy: 0.2382\n",
            "1563/1563 [==============================] - 13s 8ms/step - loss: 1.9739 - accuracy: 0.3176\n",
            "782/782 [==============================] - 2s 2ms/step - loss: 1.8102 - accuracy: 0.3304\n",
            "1563/1563 [==============================] - 9s 6ms/step - loss: 1.8759 - accuracy: 0.3528\n",
            "782/782 [==============================] - 2s 2ms/step - loss: 1.8441 - accuracy: 0.3114\n",
            "1563/1563 [==============================] - 8s 5ms/step - loss: 2.0018 - accuracy: 0.2826\n",
            "782/782 [==============================] - 2s 2ms/step - loss: 1.9981 - accuracy: 0.2593\n",
            "1563/1563 [==============================] - 9s 5ms/step - loss: 2.0790 - accuracy: 0.2561\n",
            "782/782 [==============================] - 2s 2ms/step - loss: 2.0138 - accuracy: 0.2629\n",
            "1563/1563 [==============================] - 8s 5ms/step - loss: 1.9115 - accuracy: 0.3291\n",
            "782/782 [==============================] - 2s 3ms/step - loss: 1.7486 - accuracy: 0.3291\n",
            "1563/1563 [==============================] - 7s 4ms/step - loss: 1.9149 - accuracy: 0.3363\n",
            "782/782 [==============================] - 2s 2ms/step - loss: 1.9163 - accuracy: 0.2790\n",
            "1563/1563 [==============================] - 7s 4ms/step - loss: 2.0807 - accuracy: 0.2471\n",
            "782/782 [==============================] - 2s 2ms/step - loss: 2.0794 - accuracy: 0.2407\n",
            "1563/1563 [==============================] - 8s 5ms/step - loss: 1.9669 - accuracy: 0.3114\n",
            "782/782 [==============================] - 2s 2ms/step - loss: 2.1232 - accuracy: 0.2206\n",
            "1563/1563 [==============================] - 7s 4ms/step - loss: 1.9203 - accuracy: 0.3306\n",
            "782/782 [==============================] - 2s 2ms/step - loss: 1.7931 - accuracy: 0.3531\n",
            "1563/1563 [==============================] - 10s 5ms/step - loss: 1.9019 - accuracy: 0.4008\n",
            "782/782 [==============================] - 3s 3ms/step - loss: 1.7663 - accuracy: 0.3708\n",
            "1563/1563 [==============================] - 8s 5ms/step - loss: 1.9965 - accuracy: 0.3424\n",
            "782/782 [==============================] - 3s 3ms/step - loss: 1.9737 - accuracy: 0.2662\n",
            "1563/1563 [==============================] - 8s 5ms/step - loss: 1.9646 - accuracy: 0.3395\n",
            "782/782 [==============================] - 2s 2ms/step - loss: 1.9276 - accuracy: 0.2946\n",
            "1563/1563 [==============================] - 10s 6ms/step - loss: 2.0220 - accuracy: 0.3280\n",
            "782/782 [==============================] - 2s 2ms/step - loss: 1.9377 - accuracy: 0.2989\n",
            "1563/1563 [==============================] - 10s 6ms/step - loss: 2.2362 - accuracy: 0.2156\n",
            "782/782 [==============================] - 2s 2ms/step - loss: 2.1606 - accuracy: 0.1677\n",
            "1563/1563 [==============================] - 10s 6ms/step - loss: 2.0890 - accuracy: 0.3076\n",
            "782/782 [==============================] - 2s 2ms/step - loss: 1.9440 - accuracy: 0.3384\n",
            "1563/1563 [==============================] - 10s 6ms/step - loss: 2.1504 - accuracy: 0.2480\n",
            "782/782 [==============================] - 2s 2ms/step - loss: 2.1838 - accuracy: 0.1897\n",
            "1563/1563 [==============================] - 10s 6ms/step - loss: 2.2068 - accuracy: 0.2850\n",
            "782/782 [==============================] - 2s 2ms/step - loss: 2.0434 - accuracy: 0.2281\n",
            "1563/1563 [==============================] - 10s 6ms/step - loss: 2.1097 - accuracy: 0.2720\n",
            "782/782 [==============================] - 2s 2ms/step - loss: 2.0535 - accuracy: 0.2716\n",
            "1563/1563 [==============================] - 10s 6ms/step - loss: 2.1383 - accuracy: 0.3130\n",
            "782/782 [==============================] - 2s 2ms/step - loss: 1.9995 - accuracy: 0.2481\n",
            "1563/1563 [==============================] - 12s 7ms/step - loss: 2.1978 - accuracy: 0.3009\n",
            "782/782 [==============================] - 2s 2ms/step - loss: 1.9178 - accuracy: 0.2653\n",
            "1563/1563 [==============================] - 10s 6ms/step - loss: 2.1487 - accuracy: 0.3245\n",
            "782/782 [==============================] - 2s 3ms/step - loss: 1.9346 - accuracy: 0.3154\n",
            "1563/1563 [==============================] - 11s 7ms/step - loss: 2.0439 - accuracy: 0.3381\n",
            "782/782 [==============================] - 2s 3ms/step - loss: 1.9186 - accuracy: 0.2937\n",
            "1563/1563 [==============================] - 11s 6ms/step - loss: 2.1333 - accuracy: 0.2997\n",
            "782/782 [==============================] - 2s 2ms/step - loss: 1.9546 - accuracy: 0.3084\n",
            "1563/1563 [==============================] - 10s 6ms/step - loss: 2.1636 - accuracy: 0.3063\n",
            "782/782 [==============================] - 2s 3ms/step - loss: 1.9972 - accuracy: 0.3213\n",
            "1563/1563 [==============================] - 11s 7ms/step - loss: 2.0445 - accuracy: 0.3367\n",
            "782/782 [==============================] - 2s 3ms/step - loss: 2.1631 - accuracy: 0.2170\n",
            "1563/1563 [==============================] - 11s 7ms/step - loss: 2.1011 - accuracy: 0.3516\n",
            "782/782 [==============================] - 2s 2ms/step - loss: 1.8768 - accuracy: 0.3238\n",
            "1563/1563 [==============================] - 11s 7ms/step - loss: 2.2034 - accuracy: 0.2667\n",
            "782/782 [==============================] - 2s 3ms/step - loss: 1.9881 - accuracy: 0.2455\n",
            "1563/1563 [==============================] - 11s 7ms/step - loss: 2.1305 - accuracy: 0.3079\n",
            "782/782 [==============================] - 2s 3ms/step - loss: 2.0755 - accuracy: 0.2566\n",
            "1563/1563 [==============================] - 12s 7ms/step - loss: 2.0939 - accuracy: 0.3424\n",
            "782/782 [==============================] - 2s 3ms/step - loss: 1.9531 - accuracy: 0.2853\n",
            "1563/1563 [==============================] - 12s 7ms/step - loss: 2.1629 - accuracy: 0.3147\n",
            "782/782 [==============================] - 2s 3ms/step - loss: 1.8232 - accuracy: 0.3307\n",
            "1563/1563 [==============================] - 12s 7ms/step - loss: 2.1630 - accuracy: 0.3565\n",
            "782/782 [==============================] - 2s 3ms/step - loss: 1.8800 - accuracy: 0.3323\n",
            "1563/1563 [==============================] - 12s 8ms/step - loss: 2.1787 - accuracy: 0.3304\n",
            "782/782 [==============================] - 2s 3ms/step - loss: 1.9694 - accuracy: 0.3117\n",
            "1563/1563 [==============================] - 12s 7ms/step - loss: 2.2329 - accuracy: 0.3391\n",
            "782/782 [==============================] - 2s 3ms/step - loss: 1.9073 - accuracy: 0.2844\n",
            "1563/1563 [==============================] - 13s 8ms/step - loss: 2.0801 - accuracy: 0.3634\n",
            "782/782 [==============================] - 2s 3ms/step - loss: 2.0202 - accuracy: 0.2891\n",
            "1563/1563 [==============================] - 12s 7ms/step - loss: 2.0782 - accuracy: 0.3312\n",
            "782/782 [==============================] - 2s 3ms/step - loss: 1.9034 - accuracy: 0.3121\n",
            "1563/1563 [==============================] - 12s 7ms/step - loss: 2.1417 - accuracy: 0.3096\n",
            "782/782 [==============================] - 3s 4ms/step - loss: 1.8949 - accuracy: 0.2946\n",
            "1563/1563 [==============================] - 4s 2ms/step - loss: 0.7962 - accuracy: 0.7578\n",
            "782/782 [==============================] - 1s 2ms/step - loss: 0.7333 - accuracy: 0.7791\n",
            "1563/1563 [==============================] - 5s 3ms/step - loss: 0.8170 - accuracy: 0.7487\n",
            "782/782 [==============================] - 1s 2ms/step - loss: 0.7406 - accuracy: 0.7754\n",
            "1563/1563 [==============================] - 4s 2ms/step - loss: 0.8090 - accuracy: 0.7557\n",
            "782/782 [==============================] - 1s 2ms/step - loss: 0.7276 - accuracy: 0.7809\n",
            "1563/1563 [==============================] - 5s 3ms/step - loss: 0.7823 - accuracy: 0.7609\n",
            "782/782 [==============================] - 2s 2ms/step - loss: 0.7017 - accuracy: 0.7851\n",
            "1563/1563 [==============================] - 7s 4ms/step - loss: 0.7606 - accuracy: 0.7698\n",
            "782/782 [==============================] - 2s 2ms/step - loss: 0.7118 - accuracy: 0.7766\n",
            "1563/1563 [==============================] - 5s 3ms/step - loss: 0.7633 - accuracy: 0.7709\n",
            "782/782 [==============================] - 2s 2ms/step - loss: 0.6620 - accuracy: 0.7970\n",
            "1563/1563 [==============================] - 6s 3ms/step - loss: 0.7381 - accuracy: 0.7771\n",
            "782/782 [==============================] - 2s 2ms/step - loss: 0.6745 - accuracy: 0.7982\n",
            "1563/1563 [==============================] - 6s 4ms/step - loss: 0.7492 - accuracy: 0.7717\n",
            "782/782 [==============================] - 2s 2ms/step - loss: 0.6637 - accuracy: 0.8072\n",
            "1563/1563 [==============================] - 6s 3ms/step - loss: 0.7430 - accuracy: 0.7780\n",
            "782/782 [==============================] - 2s 2ms/step - loss: 0.6615 - accuracy: 0.8023\n",
            "1563/1563 [==============================] - 8s 5ms/step - loss: 0.7391 - accuracy: 0.7756\n",
            "782/782 [==============================] - 3s 2ms/step - loss: 0.6512 - accuracy: 0.8084\n",
            "1563/1563 [==============================] - 8s 5ms/step - loss: 0.7395 - accuracy: 0.7730\n",
            "782/782 [==============================] - 2s 2ms/step - loss: 0.6564 - accuracy: 0.8100\n",
            "1563/1563 [==============================] - 8s 5ms/step - loss: 0.7366 - accuracy: 0.7765\n",
            "782/782 [==============================] - 2s 2ms/step - loss: 0.6527 - accuracy: 0.8016\n",
            "1563/1563 [==============================] - 8s 5ms/step - loss: 0.7345 - accuracy: 0.7768\n",
            "782/782 [==============================] - 2s 2ms/step - loss: 0.6854 - accuracy: 0.8030\n",
            "1563/1563 [==============================] - 9s 5ms/step - loss: 0.7390 - accuracy: 0.7769\n",
            "782/782 [==============================] - 2s 2ms/step - loss: 0.6382 - accuracy: 0.8103\n",
            "1563/1563 [==============================] - 8s 5ms/step - loss: 0.7471 - accuracy: 0.7756\n",
            "782/782 [==============================] - 2s 3ms/step - loss: 0.6571 - accuracy: 0.8014\n",
            "1563/1563 [==============================] - 8s 5ms/step - loss: 0.7376 - accuracy: 0.7775\n",
            "782/782 [==============================] - 2s 2ms/step - loss: 0.7088 - accuracy: 0.7944\n",
            "1563/1563 [==============================] - 8s 5ms/step - loss: 0.7445 - accuracy: 0.7748\n",
            "782/782 [==============================] - 2s 3ms/step - loss: 0.6482 - accuracy: 0.8090\n",
            "1563/1563 [==============================] - 8s 5ms/step - loss: 0.7481 - accuracy: 0.7760\n",
            "782/782 [==============================] - 2s 2ms/step - loss: 0.6956 - accuracy: 0.7901\n",
            "1563/1563 [==============================] - 9s 6ms/step - loss: 0.7406 - accuracy: 0.7764\n",
            "782/782 [==============================] - 2s 2ms/step - loss: 0.6526 - accuracy: 0.8129\n",
            "1563/1563 [==============================] - 9s 5ms/step - loss: 0.7456 - accuracy: 0.7746\n",
            "782/782 [==============================] - 2s 2ms/step - loss: 0.7240 - accuracy: 0.7931\n",
            "1563/1563 [==============================] - 9s 6ms/step - loss: 0.7421 - accuracy: 0.7773\n",
            "782/782 [==============================] - 2s 2ms/step - loss: 0.6776 - accuracy: 0.7965\n",
            "1563/1563 [==============================] - 10s 6ms/step - loss: 0.7359 - accuracy: 0.7795\n",
            "782/782 [==============================] - 2s 2ms/step - loss: 0.6680 - accuracy: 0.8052\n",
            "1563/1563 [==============================] - 9s 6ms/step - loss: 0.7365 - accuracy: 0.7785\n",
            "782/782 [==============================] - 2s 2ms/step - loss: 0.6420 - accuracy: 0.8154\n",
            "1563/1563 [==============================] - 10s 6ms/step - loss: 0.7381 - accuracy: 0.7782\n",
            "782/782 [==============================] - 2s 2ms/step - loss: 0.6460 - accuracy: 0.8058\n",
            "1563/1563 [==============================] - 10s 6ms/step - loss: 0.7420 - accuracy: 0.7755\n",
            "782/782 [==============================] - 2s 2ms/step - loss: 0.6891 - accuracy: 0.7927\n",
            "1563/1563 [==============================] - 10s 6ms/step - loss: 0.7435 - accuracy: 0.7771\n",
            "782/782 [==============================] - 2s 2ms/step - loss: 0.6364 - accuracy: 0.8152\n",
            "1563/1563 [==============================] - 10s 6ms/step - loss: 0.7494 - accuracy: 0.7756\n",
            "782/782 [==============================] - 2s 2ms/step - loss: 0.7342 - accuracy: 0.7768\n",
            "1563/1563 [==============================] - 11s 6ms/step - loss: 0.7388 - accuracy: 0.7772\n",
            "782/782 [==============================] - 2s 2ms/step - loss: 0.6645 - accuracy: 0.8047\n",
            "1563/1563 [==============================] - 10s 6ms/step - loss: 0.7413 - accuracy: 0.7776\n",
            "782/782 [==============================] - 2s 2ms/step - loss: 0.6451 - accuracy: 0.8130\n",
            "1563/1563 [==============================] - 11s 6ms/step - loss: 0.7397 - accuracy: 0.7789\n",
            "782/782 [==============================] - 2s 2ms/step - loss: 0.6746 - accuracy: 0.7950\n",
            "1563/1563 [==============================] - 12s 7ms/step - loss: 0.7417 - accuracy: 0.7750\n",
            "782/782 [==============================] - 2s 2ms/step - loss: 0.6739 - accuracy: 0.7988\n",
            "1563/1563 [==============================] - 11s 7ms/step - loss: 0.7439 - accuracy: 0.7755\n",
            "782/782 [==============================] - 2s 2ms/step - loss: 0.6655 - accuracy: 0.8045\n",
            "1563/1563 [==============================] - 11s 7ms/step - loss: 0.7488 - accuracy: 0.7730\n",
            "782/782 [==============================] - 2s 3ms/step - loss: 0.7705 - accuracy: 0.7755\n",
            "1563/1563 [==============================] - 11s 7ms/step - loss: 0.7418 - accuracy: 0.7792\n",
            "782/782 [==============================] - 2s 3ms/step - loss: 0.6514 - accuracy: 0.8075\n",
            "1563/1563 [==============================] - 12s 7ms/step - loss: 0.7424 - accuracy: 0.7758\n",
            "782/782 [==============================] - 2s 3ms/step - loss: 0.6455 - accuracy: 0.8103\n",
            "1563/1563 [==============================] - 11s 7ms/step - loss: 0.7380 - accuracy: 0.7790\n",
            "782/782 [==============================] - 2s 3ms/step - loss: 0.6756 - accuracy: 0.8090\n",
            "1563/1563 [==============================] - 12s 7ms/step - loss: 0.7408 - accuracy: 0.7742\n",
            "782/782 [==============================] - 2s 3ms/step - loss: 0.6811 - accuracy: 0.8050\n",
            "1563/1563 [==============================] - 12s 7ms/step - loss: 0.7455 - accuracy: 0.7752\n",
            "782/782 [==============================] - 2s 3ms/step - loss: 0.6937 - accuracy: 0.8029\n",
            "1563/1563 [==============================] - 12s 7ms/step - loss: 0.7448 - accuracy: 0.7774\n",
            "782/782 [==============================] - 2s 3ms/step - loss: 0.7148 - accuracy: 0.7898\n",
            "1563/1563 [==============================] - 12s 7ms/step - loss: 0.7495 - accuracy: 0.7748\n",
            "782/782 [==============================] - 2s 3ms/step - loss: 0.6687 - accuracy: 0.8064\n",
            "1563/1563 [==============================] - 12s 7ms/step - loss: 0.7483 - accuracy: 0.7754\n",
            "782/782 [==============================] - 3s 3ms/step - loss: 0.6868 - accuracy: 0.7942\n",
            "1563/1563 [==============================] - 12s 7ms/step - loss: 0.7460 - accuracy: 0.7762\n",
            "782/782 [==============================] - 2s 3ms/step - loss: 0.6838 - accuracy: 0.7945\n",
            "1563/1563 [==============================] - 12s 8ms/step - loss: 0.7465 - accuracy: 0.7757\n",
            "782/782 [==============================] - 2s 3ms/step - loss: 0.6613 - accuracy: 0.8082\n",
            "1563/1563 [==============================] - 12s 7ms/step - loss: 0.7527 - accuracy: 0.7755\n",
            "782/782 [==============================] - 2s 3ms/step - loss: 0.6682 - accuracy: 0.8021\n",
            "1563/1563 [==============================] - 12s 8ms/step - loss: 0.7522 - accuracy: 0.7774\n",
            "782/782 [==============================] - 3s 3ms/step - loss: 0.6854 - accuracy: 0.8009\n",
            "1563/1563 [==============================] - 6s 3ms/step - loss: 0.8808 - accuracy: 0.7405\n",
            "782/782 [==============================] - 1s 2ms/step - loss: 0.7490 - accuracy: 0.7833\n",
            "1563/1563 [==============================] - 4s 2ms/step - loss: 0.9005 - accuracy: 0.7348\n",
            "782/782 [==============================] - 2s 2ms/step - loss: 0.7389 - accuracy: 0.7892\n",
            "1563/1563 [==============================] - 4s 2ms/step - loss: 0.8640 - accuracy: 0.7464\n",
            "782/782 [==============================] - 1s 2ms/step - loss: 0.7197 - accuracy: 0.7872\n",
            "1563/1563 [==============================] - 6s 3ms/step - loss: 0.7947 - accuracy: 0.7650\n",
            "782/782 [==============================] - 2s 2ms/step - loss: 0.6388 - accuracy: 0.8129\n",
            "1563/1563 [==============================] - 5s 3ms/step - loss: 0.8000 - accuracy: 0.7621\n",
            "782/782 [==============================] - 2s 3ms/step - loss: 0.6430 - accuracy: 0.8152\n",
            "1563/1563 [==============================] - 5s 3ms/step - loss: 0.8197 - accuracy: 0.7579\n",
            "782/782 [==============================] - 2s 2ms/step - loss: 0.6609 - accuracy: 0.8055\n",
            "1563/1563 [==============================] - 7s 4ms/step - loss: 0.7698 - accuracy: 0.7726\n",
            "782/782 [==============================] - 2s 2ms/step - loss: 0.6165 - accuracy: 0.8197\n",
            "1563/1563 [==============================] - 5s 3ms/step - loss: 0.7690 - accuracy: 0.7718\n",
            "782/782 [==============================] - 2s 3ms/step - loss: 0.6134 - accuracy: 0.8234\n",
            "1563/1563 [==============================] - 5s 3ms/step - loss: 0.7717 - accuracy: 0.7726\n",
            "782/782 [==============================] - 2s 2ms/step - loss: 0.6145 - accuracy: 0.8194\n",
            "1563/1563 [==============================] - 8s 5ms/step - loss: 0.7365 - accuracy: 0.7808\n",
            "782/782 [==============================] - 2s 2ms/step - loss: 0.5985 - accuracy: 0.8232\n",
            "1563/1563 [==============================] - 8s 5ms/step - loss: 0.7391 - accuracy: 0.7800\n",
            "782/782 [==============================] - 2s 2ms/step - loss: 0.5840 - accuracy: 0.8276\n",
            "1563/1563 [==============================] - 8s 5ms/step - loss: 0.7527 - accuracy: 0.7753\n",
            "782/782 [==============================] - 2s 2ms/step - loss: 0.5837 - accuracy: 0.8251\n",
            "1563/1563 [==============================] - 8s 5ms/step - loss: 0.7265 - accuracy: 0.7829\n",
            "782/782 [==============================] - 2s 2ms/step - loss: 0.5900 - accuracy: 0.8274\n",
            "1563/1563 [==============================] - 9s 5ms/step - loss: 0.7292 - accuracy: 0.7813\n",
            "782/782 [==============================] - 2s 3ms/step - loss: 0.5792 - accuracy: 0.8287\n",
            "1563/1563 [==============================] - 8s 5ms/step - loss: 0.7278 - accuracy: 0.7852\n",
            "782/782 [==============================] - 2s 2ms/step - loss: 0.5743 - accuracy: 0.8296\n",
            "1563/1563 [==============================] - 8s 5ms/step - loss: 0.7143 - accuracy: 0.7879\n",
            "782/782 [==============================] - 2s 3ms/step - loss: 0.5679 - accuracy: 0.8328\n",
            "1563/1563 [==============================] - 7s 4ms/step - loss: 0.7127 - accuracy: 0.7870\n",
            "782/782 [==============================] - 3s 3ms/step - loss: 0.5679 - accuracy: 0.8343\n",
            "1563/1563 [==============================] - 9s 5ms/step - loss: 0.7153 - accuracy: 0.7892\n",
            "782/782 [==============================] - 2s 2ms/step - loss: 0.5678 - accuracy: 0.8309\n",
            "1563/1563 [==============================] - 9s 5ms/step - loss: 0.7115 - accuracy: 0.7881\n",
            "782/782 [==============================] - 3s 3ms/step - loss: 0.5805 - accuracy: 0.8266\n",
            "1563/1563 [==============================] - 9s 5ms/step - loss: 0.7102 - accuracy: 0.7879\n",
            "782/782 [==============================] - 3s 3ms/step - loss: 0.5633 - accuracy: 0.8352\n",
            "1563/1563 [==============================] - 9s 5ms/step - loss: 0.7033 - accuracy: 0.7911\n",
            "782/782 [==============================] - 2s 3ms/step - loss: 0.5497 - accuracy: 0.8376\n",
            "1563/1563 [==============================] - 10s 6ms/step - loss: 0.6998 - accuracy: 0.7902\n",
            "782/782 [==============================] - 2s 3ms/step - loss: 0.5628 - accuracy: 0.8359\n",
            "1563/1563 [==============================] - 10s 6ms/step - loss: 0.7052 - accuracy: 0.7884\n",
            "782/782 [==============================] - 2s 3ms/step - loss: 0.5492 - accuracy: 0.8394\n",
            "1391/1563 [=========================>....] - ETA: 1s - loss: 0.7197 - accuracy: 0.7856"
          ]
        }
      ],
      "source": [
        "# save start time\n",
        "start = time()\n",
        "\n",
        "# Create Grid Search\n",
        "grid = GridSearchCV(estimator=model,\n",
        "                    param_grid=hyper_parameters,\n",
        "                    n_jobs=-2,\n",
        "                    verbose=1,\n",
        "                    cv=3)\n",
        "\n",
        "grid_result = grid.fit(X_train, y_train)\n",
        "\n",
        "# save end time\n",
        "end = time()\n",
        "\n",
        "# Report Results\n",
        "print(f\"Best: {grid_result.best_score_} using {grid_result.best_params_}\")\n",
        "\n",
        "means = grid_result.cv_results_['mean_test_score']\n",
        "stds = grid_result.cv_results_['std_test_score']\n",
        "params = grid_result.cv_results_['params']\n",
        "\n",
        "for mean, stdev, param in zip(means, stds, params):\n",
        "    print(f\"Means: {mean}, Stdev: {stdev} with: {param}\")"
      ]
    },
    {
      "cell_type": "code",
      "execution_count": 31,
      "metadata": {
        "id": "THKMZLNv7mNw",
        "outputId": "0feea8b3-cd8f-45cb-fa0e-8170d4cb732b",
        "colab": {
          "base_uri": "https://localhost:8080/",
          "height": 200
        }
      },
      "outputs": [
        {
          "output_type": "error",
          "ename": "NameError",
          "evalue": "ignored",
          "traceback": [
            "\u001b[0;31m---------------------------------------------------------------------------\u001b[0m",
            "\u001b[0;31mNameError\u001b[0m                                 Traceback (most recent call last)",
            "\u001b[0;32m<ipython-input-31-2c3961d83343>\u001b[0m in \u001b[0;36m<cell line: 2>\u001b[0;34m()\u001b[0m\n\u001b[1;32m      1\u001b[0m \u001b[0;31m# total run time\u001b[0m\u001b[0;34m\u001b[0m\u001b[0;34m\u001b[0m\u001b[0m\n\u001b[0;32m----> 2\u001b[0;31m \u001b[0mtotal_run_time_in_miniutes\u001b[0m \u001b[0;34m=\u001b[0m \u001b[0;34m(\u001b[0m\u001b[0mend\u001b[0m \u001b[0;34m-\u001b[0m \u001b[0mstart\u001b[0m\u001b[0;34m)\u001b[0m\u001b[0;34m/\u001b[0m\u001b[0;36m60\u001b[0m\u001b[0;34m\u001b[0m\u001b[0;34m\u001b[0m\u001b[0m\n\u001b[0m\u001b[1;32m      3\u001b[0m \u001b[0mtotal_run_time_in_miniutes\u001b[0m\u001b[0;34m\u001b[0m\u001b[0;34m\u001b[0m\u001b[0m\n",
            "\u001b[0;31mNameError\u001b[0m: name 'end' is not defined"
          ]
        }
      ],
      "source": [
        "# total run time\n",
        "total_run_time_in_miniutes = (end - start)/60\n",
        "total_run_time_in_miniutes"
      ]
    },
    {
      "cell_type": "code",
      "execution_count": null,
      "metadata": {
        "id": "4XgJsrZb7mNx"
      },
      "outputs": [],
      "source": [
        "grid_result.best_params_"
      ]
    },
    {
      "cell_type": "code",
      "execution_count": 32,
      "metadata": {
        "id": "aYufbSI87mNx",
        "outputId": "5f208b76-5d5f-4065-970c-5e03ea0e15cf",
        "colab": {
          "base_uri": "https://localhost:8080/"
        }
      },
      "outputs": [
        {
          "output_type": "stream",
          "name": "stdout",
          "text": [
            "782/782 [==============================] - 2s 3ms/step - loss: 0.4451 - accuracy: 0.8663\n"
          ]
        }
      ],
      "source": [
        "# because all other optimization approaches are reporting test set score\n",
        "# let's calculate the test set score in this case\n",
        "best_model = grid_result.best_estimator_\n",
        "test_acc = best_model.score(X_test, y_test)"
      ]
    },
    {
      "cell_type": "code",
      "execution_count": null,
      "metadata": {
        "id": "BlR-pVwP7mNx"
      },
      "outputs": [],
      "source": [
        "test_acc"
      ]
    },
    {
      "cell_type": "markdown",
      "metadata": {
        "id": "Gj4jJ0Qm7mNx"
      },
      "source": [
        " ### Results\n",
        "\n",
        "Identify and write the the best performing hyperparameter combination and model score.\n",
        "\n",
        ""
      ]
    },
    {
      "cell_type": "markdown",
      "metadata": {
        "deletable": false,
        "id": "10px3N2q7mNx",
        "nbgrader": {
          "cell_type": "markdown",
          "checksum": "9577db883482c6cded3836e5cfbf5a74",
          "grade": true,
          "grade_id": "cell-eb06d682d2790f6e",
          "locked": false,
          "points": 0,
          "schema_version": 3,
          "solution": true,
          "task": false
        }
      },
      "source": [
        "YOUR ANSWER HERE"
      ]
    },
    {
      "cell_type": "markdown",
      "metadata": {
        "id": "zu-lBWph7mNq"
      },
      "source": [
        "------\n",
        "## 2.2 Random Search with `keras-tuner`\n",
        "\n",
        "Be sure to check out the [**docs for Keras-Tuner**](https://keras-team.github.io/keras-tuner/documentation/tuners/). Here you can read about the input parameters for the `RandomSearch` tuner."
      ]
    },
    {
      "cell_type": "markdown",
      "metadata": {
        "id": "JFi6YX6KjMm8"
      },
      "source": [
        "### Build model\n",
        "---"
      ]
    },
    {
      "cell_type": "code",
      "execution_count": null,
      "metadata": {
        "id": "d0Er-ZKYjMm8"
      },
      "outputs": [],
      "source": [
        "# because gridsearching can take a lot of time and we are bench marking 3 different approaches\n",
        "# let's build a simple model to minimize run time\n",
        "\n",
        "def build_model(hp):\n",
        "\n",
        "    \"\"\"\n",
        "    Returns a complied keras model ready for keras-tuner gridsearch algorithms\n",
        "    \"\"\"\n",
        "\n",
        "    model = Sequential()\n",
        "\n",
        "    # hidden layer\n",
        "    model.add(Dense(units=hp.get('units'),activation=hp.get(\"activation\")))\n",
        "\n",
        "    # output layer\n",
        "    model.add(Dense(10, activation='softmax'))\n",
        "\n",
        "    model.compile(\n",
        "        optimizer=Adam(hp.get('learning_rate')),\n",
        "        loss='sparse_categorical_crossentropy',\n",
        "        metrics=['accuracy'])\n",
        "\n",
        "    return model"
      ]
    },
    {
      "cell_type": "code",
      "execution_count": null,
      "metadata": {
        "deletable": false,
        "id": "8DApqLli7mNq",
        "nbgrader": {
          "cell_type": "code",
          "checksum": "aaff9aae33845f374e15f2381719d83a",
          "grade": false,
          "grade_id": "cell-8c1dfb9b6d12bea2",
          "locked": false,
          "schema_version": 3,
          "solution": true,
          "task": false
        }
      },
      "outputs": [],
      "source": [
        "# how many unique hyperparameter combinations do we have?\n",
        "# HINT: take the product of the number of possible values for each hyperparameter\n",
        "# save your answer to n_unique_hparam_combos\n",
        "\n",
        "# YOUR CODE HERE\n",
        "n_unique_hparam_combos =\n",
        "raise NotImplementedError()"
      ]
    },
    {
      "cell_type": "code",
      "execution_count": null,
      "metadata": {
        "deletable": false,
        "id": "m1UKRA597mNq",
        "nbgrader": {
          "cell_type": "code",
          "checksum": "a9d628451e83431e1b52da10eccf2c00",
          "grade": false,
          "grade_id": "cell-1fa83950bb2d5f92",
          "locked": false,
          "schema_version": 3,
          "solution": true,
          "task": false
        }
      },
      "outputs": [],
      "source": [
        "# how many of these do we want to randomly sample?\n",
        "# let's pick 25% of n_unique_hparam_combos param combos to sample\n",
        "# save this number to n_param_combos_to_sample\n",
        "\n",
        "# YOUR CODE HERE\n",
        "fraction_to_sample = 0.25\n",
        "n_param_combos_to_sample =\n",
        "# raise NotImplementedError()"
      ]
    },
    {
      "cell_type": "markdown",
      "metadata": {
        "id": "1TzaNnzoQU4U"
      },
      "source": [
        "### Instantiate a `RandomSearch()` object for your grid search"
      ]
    },
    {
      "cell_type": "code",
      "execution_count": null,
      "metadata": {
        "id": "Y9PCHLBWQPcb"
      },
      "outputs": [],
      "source": [
        "random_tuner = RandomSearch(\n",
        "            build_model,\n",
        "            objective='val_accuracy',\n",
        "            max_trials=n_param_combos_to_sample, # number of times to sample the parameter set and build a model\n",
        "            seed=1234,\n",
        "            hyperparameters=hp, # pass in our hyperparameter dictionary\n",
        "            directory='./keras-tuner-trial',\n",
        "            project_name='random_search')"
      ]
    },
    {
      "cell_type": "code",
      "execution_count": null,
      "metadata": {
        "id": "OGFdv1qE7mNr"
      },
      "outputs": [],
      "source": [
        " # take note of Total elapsed time in print out -- took ~10 minutes without GPU\n",
        "random_tuner.search(X_train, y_train,\n",
        "                    epochs=3,\n",
        "                    validation_data=(X_test, y_test))"
      ]
    },
    {
      "cell_type": "code",
      "execution_count": null,
      "metadata": {
        "id": "zNBUhIe97mNr"
      },
      "outputs": [],
      "source": [
        "# identify the best score and hyperparamter (should be at the top since scores are ranked)\n",
        "random_tuner.results_summary()"
      ]
    },
    {
      "cell_type": "markdown",
      "metadata": {
        "id": "FRpQVXBE7mNr",
        "jupyter": {
          "source_hidden": true
        }
      },
      "source": [
        " ### Results\n",
        "\n",
        "Identify and write the the best performing hyperparameter combination and model score.\n",
        "Note that because this is Random Search, multiple runs might have slighly different outcomes.\n",
        "\n",
        ""
      ]
    },
    {
      "cell_type": "markdown",
      "metadata": {
        "deletable": false,
        "id": "aQjMc84c7mNs",
        "nbgrader": {
          "cell_type": "markdown",
          "checksum": "f084b5d373f8589a1de8d6d4473b974a",
          "grade": true,
          "grade_id": "cell-5527738b6382c164",
          "locked": false,
          "points": 0,
          "schema_version": 3,
          "solution": true,
          "task": false
        }
      },
      "source": [
        "YOUR ANSWER HERE"
      ]
    },
    {
      "cell_type": "markdown",
      "metadata": {
        "id": "vXjW7eYA7mNs"
      },
      "source": [
        "------\n",
        "## 2.3 Bayesian Optimization with `keras-tuner`\n",
        "\n",
        "![](https://upload.wikimedia.org/wikipedia/commons/0/02/GpParBayesAnimationSmall.gif)\n",
        "\n",
        "Be sure to check out the [**docs for Keras-Tuner**](https://keras-team.github.io/keras-tuner/documentation/tuners/). Here you can read about the input parameters for the `BayesianOptimization` tuner.\n",
        "\n",
        "Pay special attention to these `BayesianOptimization` parameters: `num_initial_points` and `beta`.\n",
        "\n",
        "`num_initial_points`:\n",
        "\n",
        "Number of randomly selected hyperparameter combinations to try before applying bayesian probability to determine liklihood of which param combo to try next based on expected improvement\n",
        "\n",
        "\n",
        "`beta`:\n",
        "\n",
        "Larger values means more willing to explore new hyperparameter combinations (analogous to searching for the global minimum in Gradient Descent), smaller values means that it is less willing to try new hyperparameter combinations (analogous to getting stuck in a local minimum in Gradient Descent).\n",
        "\n",
        "As a start, error on the side of larger values. What defines a small or large value you ask? That question would pull us into the mathematical intricacies of Bayesian Optimization and Gaussian Processes. For simplicity, notice that the default value is 2.6 and work from there."
      ]
    },
    {
      "cell_type": "code",
      "execution_count": null,
      "metadata": {
        "id": "_NXjQBn47mNs"
      },
      "outputs": [],
      "source": [
        "# we know that 24 samples is about 25% of 96 possible hyper-parameter combos\n",
        "# let's set up a run with the same parameters we used for RandomSearch() so the comparison will be aplles-to-apples\n",
        "# feel free to play with any of these numbers later\n",
        "max_trials=24\n",
        "num_initial_points=5\n",
        "beta=5.0"
      ]
    },
    {
      "cell_type": "markdown",
      "metadata": {
        "id": "HhZNIJZ4RS5Y"
      },
      "source": [
        "#### Instantiate a `BayesianOptimization()` object for your grid search"
      ]
    },
    {
      "cell_type": "code",
      "execution_count": null,
      "metadata": {
        "id": "33joO_J97mNs"
      },
      "outputs": [],
      "source": [
        "bayesian_tuner = BayesianOptimization(\n",
        "                    build_model,\n",
        "                    objective='val_accuracy',\n",
        "                    max_trials=max_trials,\n",
        "                    hyperparameters=hp, # pass in our hyperparameter dictionary\n",
        "                    num_initial_points=num_initial_points,\n",
        "                    beta=beta,\n",
        "                    seed=1234,\n",
        "                    directory='./keras-tuner-trial',\n",
        "                    project_name='bayesian_optimization_4')"
      ]
    },
    {
      "cell_type": "code",
      "execution_count": null,
      "metadata": {
        "id": "h9AM5Pdj7mNt"
      },
      "outputs": [],
      "source": [
        "bayesian_tuner.search(X_train, y_train,\n",
        "               epochs=3,\n",
        "               validation_data=(X_test, y_test))"
      ]
    },
    {
      "cell_type": "code",
      "execution_count": null,
      "metadata": {
        "id": "FJcHC8d87mNt",
        "jupyter": {
          "outputs_hidden": true
        }
      },
      "outputs": [],
      "source": [
        "bayesian_tuner.results_summary()"
      ]
    },
    {
      "cell_type": "markdown",
      "metadata": {
        "id": "woo9D9AU7mNu"
      },
      "source": [
        " ### Results\n",
        "\n",
        "Identify and write the the best performing hyperparameter combination and model score.\n",
        "Note that because this is  Bayesian Optimization, multiple runs might have slighly different outcomes.\n",
        "\n",
        ""
      ]
    },
    {
      "cell_type": "markdown",
      "metadata": {
        "deletable": false,
        "id": "1EXa47mH7mNu",
        "nbgrader": {
          "cell_type": "markdown",
          "checksum": "1badcdca408cdd49bc2e409dca3bac5a",
          "grade": true,
          "grade_id": "cell-ff95600bf745f40f",
          "locked": false,
          "points": 0,
          "schema_version": 3,
          "solution": true,
          "task": false
        }
      },
      "source": [
        "YOUR ANSWER HERE"
      ]
    },
    {
      "cell_type": "markdown",
      "metadata": {
        "id": "OOZ5-tJDraFE"
      },
      "source": [
        "We should point out that Gridsearch split the training set internally and created a test set whereas keras-tuner allows us to pass in a test set. This means that the keras-tuner algorithms were using one test set and our skearn GridSearchCV was using a different test set - so this isn't a perfectly exact 1-to-1 comparision but it'll have to do. In order to compensate for this, we did score the best model on the same test set that keras-tuner used."
      ]
    },
    {
      "cell_type": "markdown",
      "metadata": {
        "id": "dPYChhrC7mNx"
      },
      "source": [
        "_______\n",
        "\n",
        "# Conclusion\n",
        "\n",
        "The spirit of this experiment is to expose you to the idea of benchmarking and comparing the trade-offs of various gridsearch approaches.\n",
        "\n",
        "Even if we did find a way to pass in the original test set into GridSearchCV, we can see that both Random Search and Bayesian Optimization are arguably better alternatives to a brute force grid search when we consider the trade-offs of run time and locating the best performing model."
      ]
    },
    {
      "cell_type": "markdown",
      "metadata": {
        "id": "Sth1AfwX7mNy"
      },
      "source": [
        "----\n",
        "\n",
        "# Stretch Goals\n",
        "\n",
        "- Feel free to run whatever gridsearch experiments on whatever models you like!"
      ]
    },
    {
      "cell_type": "code",
      "execution_count": null,
      "metadata": {
        "id": "H2APQG9H7mNy"
      },
      "outputs": [],
      "source": [
        "# this is your open playground - be free to explore as you wish"
      ]
    }
  ],
  "metadata": {
    "accelerator": "GPU",
    "colab": {
      "name": "DS_423_Tune_Assignment.ipynb",
      "provenance": [],
      "gpuType": "T4"
    },
    "kernelspec": {
      "display_name": "Python 3",
      "name": "python3"
    },
    "language_info": {
      "codemirror_mode": {
        "name": "ipython",
        "version": 3
      },
      "file_extension": ".py",
      "mimetype": "text/x-python",
      "name": "python",
      "nbconvert_exporter": "python",
      "pygments_lexer": "ipython3",
      "version": "3.10.8"
    },
    "nteract": {
      "version": "0.22.4"
    }
  },
  "nbformat": 4,
  "nbformat_minor": 0
}