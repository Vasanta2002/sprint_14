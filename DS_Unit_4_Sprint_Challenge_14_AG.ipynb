{
  "cells": [
    {
      "cell_type": "markdown",
      "metadata": {
        "deletable": false,
        "editable": false,
        "nbgrader": {
          "cell_type": "markdown",
          "checksum": "be4be556e732c48fd93c858856029fbd",
          "grade": false,
          "grade_id": "cell-89fa18eaaf69c47f",
          "locked": true,
          "schema_version": 3,
          "solution": false,
          "task": false
        },
        "id": "e-rqRBZWZz8j"
      },
      "source": [
        "\n",
        "## *Data Science Sprint 14*\n",
        "\n",
        "# Sprint Challenge - Neural Network Foundations\n",
        "\n",
        "Table of Problems\n",
        "\n",
        "1. [Defining Neural Networks](#Q1)\n",
        "2. [Simple Perceptron](#Q2)\n",
        "    - Perceptron\n",
        "    - Multilayer Perceptron (i.e. Neural Network)\n",
        "    - Analyze and Compare\n",
        "4. [Keras MMP](#Q3)\n",
        "\n",
        "\n",
        "____\n",
        "\n",
        "# Before you submit your notebook you must first\n",
        "\n",
        "1) Restart your notebook's Kernel\n",
        "\n",
        "2) Run all cells sequentially, from top to bottom, so that cell numbers are sequential numbers (i.e. 1,2,3,4,5...)\n",
        "- Easiest way to do this is to click on the **Cell** tab at the top of your notebook and select **Run All** from the drop down menu.\n",
        "\n",
        "____"
      ]
    },
    {
      "cell_type": "markdown",
      "metadata": {
        "deletable": false,
        "editable": false,
        "nbgrader": {
          "cell_type": "markdown",
          "checksum": "80b53343211b3ec6d5a7d63295854bf8",
          "grade": false,
          "grade_id": "cell-d282993617980687",
          "locked": true,
          "schema_version": 3,
          "solution": false,
          "task": false
        },
        "id": "fCP22gHmZz8m"
      },
      "source": [
        "## Part 0: Import Packages\n",
        "\n",
        "For this notebook, you will need to import:\n",
        "\n",
        "- `numpy`\n",
        "- `pandas`\n",
        "- `matplotlib`\n",
        "- `StandardScaler`\n",
        "- `tensorflow`\n",
        "- `keras`\n",
        "- `Sequential`\n",
        "- `Dense`\n",
        "- `GridSearchCV`\n",
        "- `KerasClassifier`\n",
        "\n",
        "You will also need to install `!pip install mlxtend` if you are working on a notebook. **Be sure to delete the install statement afterwards so that CodeGrade doesn't try to install it and potentially crash.**\n",
        "\n"
      ]
    },
    {
      "cell_type": "code",
      "execution_count": 2,
      "metadata": {
        "deletable": false,
        "nbgrader": {
          "cell_type": "code",
          "checksum": "84e2be87dc9ad72d512f91665cd5c2c3",
          "grade": false,
          "grade_id": "cell-22a157c6967388c1",
          "locked": false,
          "schema_version": 3,
          "solution": true,
          "task": false
        },
        "id": "n_ct8YWGZz8m"
      },
      "outputs": [],
      "source": [
        "# YOUR CODE HERE\n",
        "import pandas as pd\n",
        "import numpy as np\n",
        "import matplotlib.pyplot as plt\n",
        "\n",
        "from sklearn.preprocessing import StandardScaler\n",
        "from sklearn.model_selection import GridSearchCV\n",
        "\n",
        "from tensorflow.keras import Sequential\n",
        "from tensorflow.keras.layers import Dense\n",
        "from tensorflow.keras.activations import relu, sigmoid\n",
        "from tensorflow.keras.optimizers import Adam, SGD\n",
        "from tensorflow.keras.utils import get_file\n",
        "\n",
        "from tensorflow.keras.wrappers.scikit_learn import KerasClassifier"
      ]
    },
    {
      "cell_type": "code",
      "execution_count": 2,
      "metadata": {
        "deletable": false,
        "editable": false,
        "nbgrader": {
          "cell_type": "code",
          "checksum": "111db249c60793826d6f0ef305781ea4",
          "grade": true,
          "grade_id": "cell-ee3f0bbd9fd79ceb",
          "locked": true,
          "points": 1,
          "schema_version": 3,
          "solution": false,
          "task": false
        },
        "id": "ZfExOBRrZz8n"
      },
      "outputs": [],
      "source": [
        "# Visible Testing\n",
        "assert pd.__package__ == 'pandas'\n",
        "assert GridSearchCV.__module__ == 'sklearn.model_selection._search'"
      ]
    },
    {
      "cell_type": "markdown",
      "metadata": {
        "deletable": false,
        "editable": false,
        "nbgrader": {
          "cell_type": "markdown",
          "checksum": "9b2b58b20b3c75b2f8ac786fda7fa46d",
          "grade": false,
          "grade_id": "cell-6adae65226f09553",
          "locked": true,
          "schema_version": 3,
          "solution": false,
          "task": false
        },
        "id": "DyImGqO7Zz8n"
      },
      "source": [
        "<a id=\"Q1\"></a>\n",
        "## Part 1: Review:\n",
        "### Defining Neural Networks\n",
        "\n",
        "\n",
        "- **Neuron:** An individual node of a neural network. It takes in a combination of inputs and weights, multiplies them together, adds a bias term, and then passes the result through an activation function. The result of this process is what the neuron will pass onto the subsequent layer. Neural Network nodes are modeled after the neurons in the human brain. They have a activation function that decides how much signal to pass onto other neurons. In the human brain there is an electrochemical threshold that decides when and when not to fire.\n",
        "- **Input Layer:** The first layer of nodes in a neural network. This layer receives values from our dataset and combines them with the weights and biases before passing the data to the first hidden layer.\n",
        "- **Hidden Layer:** The middle layers of a neural network that are not the input layer or output layer. These nodes perform the same operations as all others, but are not directly accessible during training. Having multiple hidden layers in a neural network architecture is what determines the designation of \"Deep Learning.\"\n",
        "- **Output Layer:** The final layer of our neural network, the output layer outputs our model's final predictions. For regression problems this is a single node that outputs a continuous value. For binary classification, it is a single node that outputs a probability between 0 & 1, and for multi-class implementations the output layer typically includes a node for each of the classes that we are trying to predict.\n",
        "- **Activation:** Activation functions express how strongly or weakly signal should be passed to the next layer given the weighted sum of the previous input + a bias term. The resulting output is usually referred to as an 'activation'."
      ]
    },
    {
      "cell_type": "markdown",
      "metadata": {
        "id": "Ay_QjrlhZz8n"
      },
      "source": [
        "<a id=\"Q2\"></a>\n",
        "## Part 2. Simple Perceptron\n",
        "\n",
        "For this task, you will build two neural networks using `Keras`. After you build these two models, compare the results of the model."
      ]
    },
    {
      "cell_type": "code",
      "execution_count": 3,
      "metadata": {
        "id": "hV-GvBUyZz8n"
      },
      "outputs": [],
      "source": [
        "\"\"\"\n",
        "Our Dataset\n",
        "\"\"\"\n",
        "\n",
        "\n",
        "rng = np.random.RandomState(0)\n",
        "\n",
        "\"Use this X & y in the following 2 models\"\n",
        "X = rng.randn(300, 2)\n",
        "y = np.array(np.logical_xor(X[:, 0] > 0, X[:, 1] > 0),\n",
        "             dtype=int)"
      ]
    },
    {
      "cell_type": "markdown",
      "metadata": {
        "id": "JsNGb1_LZz8o"
      },
      "source": [
        "### 2a. Simple Perceptron\n",
        "Construct a simple perceptron using Keras.\n",
        "\n",
        "Make sure to include the following in your model:\n",
        "- Add `1 dense layer` with a `single neuron`\n",
        "- Use a `sigmoid activation function`\n",
        "- Set `epochs` to 10\n",
        "- Use the version of `crossentropy loss` that is appropriate for this data.\n",
        "---\n",
        "* Your model should be called `model1`.\n",
        "\n",
        "* The results of your fit model should be assigned to a variable called `h1`.\n"
      ]
    },
    {
      "cell_type": "code",
      "source": [
        "X.shape\n"
      ],
      "metadata": {
        "id": "dtkm2ZSau34n",
        "outputId": "4758acf8-8218-4854-ed7d-eb83520870d7",
        "colab": {
          "base_uri": "https://localhost:8080/"
        }
      },
      "execution_count": 4,
      "outputs": [
        {
          "output_type": "execute_result",
          "data": {
            "text/plain": [
              "(300, 2)"
            ]
          },
          "metadata": {},
          "execution_count": 4
        }
      ]
    },
    {
      "cell_type": "code",
      "execution_count": 5,
      "metadata": {
        "deletable": false,
        "nbgrader": {
          "cell_type": "code",
          "checksum": "533f2731bf5c6bff190bfb764e02fada",
          "grade": false,
          "grade_id": "cell-427690628f9c900b",
          "locked": false,
          "schema_version": 3,
          "solution": true,
          "task": false
        },
        "id": "CWiW0lN2Zz8o",
        "outputId": "feba4b60-2887-4f7e-e0e5-0a4cfc47e036",
        "colab": {
          "base_uri": "https://localhost:8080/"
        }
      },
      "outputs": [
        {
          "output_type": "stream",
          "name": "stdout",
          "text": [
            "Epoch 1/10\n",
            "10/10 [==============================] - 1s 2ms/step - loss: 0.9111 - accuracy: 0.4700\n",
            "Epoch 2/10\n",
            "10/10 [==============================] - 0s 2ms/step - loss: 0.9077 - accuracy: 0.4700\n",
            "Epoch 3/10\n",
            "10/10 [==============================] - 0s 2ms/step - loss: 0.9042 - accuracy: 0.4700\n",
            "Epoch 4/10\n",
            "10/10 [==============================] - 0s 2ms/step - loss: 0.9009 - accuracy: 0.4700\n",
            "Epoch 5/10\n",
            "10/10 [==============================] - 0s 2ms/step - loss: 0.8978 - accuracy: 0.4733\n",
            "Epoch 6/10\n",
            "10/10 [==============================] - 0s 2ms/step - loss: 0.8945 - accuracy: 0.4733\n",
            "Epoch 7/10\n",
            "10/10 [==============================] - 0s 2ms/step - loss: 0.8913 - accuracy: 0.4700\n",
            "Epoch 8/10\n",
            "10/10 [==============================] - 0s 2ms/step - loss: 0.8881 - accuracy: 0.4700\n",
            "Epoch 9/10\n",
            "10/10 [==============================] - 0s 2ms/step - loss: 0.8848 - accuracy: 0.4733\n",
            "Epoch 10/10\n",
            "10/10 [==============================] - 0s 2ms/step - loss: 0.8817 - accuracy: 0.4733\n"
          ]
        }
      ],
      "source": [
        "# build and fit model\n",
        "\n",
        "# YOUR CODE HERE\n",
        "model1 = Sequential()\n",
        "\n",
        "model1.add(\n",
        "    Dense(1, activation=\"sigmoid\", input_dim=2))\n",
        "model1.compile(optimizer=\"adam\", loss=\"binary_crossentropy\", metrics=['accuracy'])\n",
        "\n",
        "epochs = 10\n",
        "h1 = model1.fit(X, y, epochs = epochs)"
      ]
    },
    {
      "cell_type": "code",
      "execution_count": 6,
      "metadata": {
        "deletable": false,
        "editable": false,
        "nbgrader": {
          "cell_type": "code",
          "checksum": "36f7f830036d0443ca8e8ba0f17b2a4e",
          "grade": true,
          "grade_id": "cell-bf2ae566afacde8c",
          "locked": true,
          "points": 1,
          "schema_version": 3,
          "solution": false,
          "task": false
        },
        "id": "5xKV9BhWZz8o"
      },
      "outputs": [],
      "source": [
        "# Visible test\n",
        "assert len(model1.get_config()[\"layers\"]) == 2, \"Make sure you only create 1 Dense layer.\"\n",
        "assert len(h1.epoch) <=10, \"Did you make sure to set epochs to 10 or less?\""
      ]
    },
    {
      "cell_type": "code",
      "execution_count": 7,
      "metadata": {
        "deletable": false,
        "editable": false,
        "nbgrader": {
          "cell_type": "code",
          "checksum": "95d3ee2935a0de64f2a5a22460520e69",
          "grade": true,
          "grade_id": "cell-a957e14380b2f508",
          "locked": true,
          "points": 1,
          "schema_version": 3,
          "solution": false,
          "task": false
        },
        "id": "NYtpfFhYZz8p"
      },
      "outputs": [],
      "source": [
        "# Hidden tests - you will see the results when you submit to Canvas"
      ]
    },
    {
      "cell_type": "markdown",
      "metadata": {
        "id": "0-EaoP75Zz8p"
      },
      "source": [
        "### 2b. Multi-Layer Perceptron\n",
        "Now construct a multi-layer perceptron model (also known as a neural network).\n",
        "\n",
        "Your neural network `must` have:\n",
        "- `2` Hidden Layers\n",
        "- Select any number between `5-32` for the number of neurons in each hidden layers\n",
        "- Your pick of activation function and optimizer\n",
        "- Incorporate the `myCallback` function below into your model\n",
        "- Set epochs to `100`\n",
        "- Your model should be called `model2`\n",
        "- Save the results of your fit statement to a variable called `h2`.\n",
        "- Use the version of `crossentropy loss` that is appropriate for this data."
      ]
    },
    {
      "cell_type": "code",
      "execution_count": 8,
      "metadata": {
        "deletable": false,
        "editable": false,
        "nbgrader": {
          "cell_type": "code",
          "checksum": "ad238f5d2d4fce7ec4b2bbeb786faf4e",
          "grade": false,
          "grade_id": "cell-eb88d895e6d9479d",
          "locked": true,
          "schema_version": 3,
          "solution": false,
          "task": false
        },
        "id": "UrA-6CtwZz8p"
      },
      "outputs": [],
      "source": [
        "#do not delete or modify\n",
        "import tensorflow as tf\n",
        "\n",
        "class myCallback(tf.keras.callbacks.Callback):\n",
        "    def on_epoch_end(self, epoch, logs={}):\n",
        "        # if model reaches 99% accuracy, training is terminated\n",
        "        acc_threshold = 0.99\n",
        "        if(logs.get('accuracy') > acc_threshold):\n",
        "            self.model.stop_training = True\n",
        "            self.model.callback_used = True"
      ]
    },
    {
      "cell_type": "code",
      "execution_count": 9,
      "metadata": {
        "deletable": false,
        "nbgrader": {
          "cell_type": "code",
          "checksum": "314337f29c8cd7f38224a31687a86b12",
          "grade": false,
          "grade_id": "cell-77523c4c64743f16",
          "locked": false,
          "schema_version": 3,
          "solution": true,
          "task": false
        },
        "id": "YBC9QDnWZz8p",
        "outputId": "7c732c37-4b98-42c1-b194-3a46e28b68b4",
        "colab": {
          "base_uri": "https://localhost:8080/"
        }
      },
      "outputs": [
        {
          "output_type": "stream",
          "name": "stdout",
          "text": [
            "Epoch 1/100\n",
            "10/10 [==============================] - 1s 3ms/step - loss: 1.9375 - accuracy: 0.3833\n",
            "Epoch 2/100\n",
            "10/10 [==============================] - 0s 2ms/step - loss: 1.5957 - accuracy: 0.5267\n",
            "Epoch 3/100\n",
            "10/10 [==============================] - 0s 3ms/step - loss: 1.3150 - accuracy: 0.5267\n",
            "Epoch 4/100\n",
            "10/10 [==============================] - 0s 2ms/step - loss: 1.1044 - accuracy: 0.5267\n",
            "Epoch 5/100\n",
            "10/10 [==============================] - 0s 2ms/step - loss: 0.9574 - accuracy: 0.5267\n",
            "Epoch 6/100\n",
            "10/10 [==============================] - 0s 2ms/step - loss: 0.8645 - accuracy: 0.5267\n",
            "Epoch 7/100\n",
            "10/10 [==============================] - 0s 2ms/step - loss: 0.8052 - accuracy: 0.5267\n",
            "Epoch 8/100\n",
            "10/10 [==============================] - 0s 2ms/step - loss: 0.7685 - accuracy: 0.5333\n",
            "Epoch 9/100\n",
            "10/10 [==============================] - 0s 3ms/step - loss: 0.7449 - accuracy: 0.6567\n",
            "Epoch 10/100\n",
            "10/10 [==============================] - 0s 2ms/step - loss: 0.7303 - accuracy: 0.5367\n",
            "Epoch 11/100\n",
            "10/10 [==============================] - 0s 2ms/step - loss: 0.7177 - accuracy: 0.5667\n",
            "Epoch 12/100\n",
            "10/10 [==============================] - 0s 3ms/step - loss: 0.7086 - accuracy: 0.6300\n",
            "Epoch 13/100\n",
            "10/10 [==============================] - 0s 4ms/step - loss: 0.7016 - accuracy: 0.6567\n",
            "Epoch 14/100\n",
            "10/10 [==============================] - 0s 2ms/step - loss: 0.6989 - accuracy: 0.6500\n",
            "Epoch 15/100\n",
            "10/10 [==============================] - 0s 2ms/step - loss: 0.6903 - accuracy: 0.6633\n",
            "Epoch 16/100\n",
            "10/10 [==============================] - 0s 2ms/step - loss: 0.6848 - accuracy: 0.6667\n",
            "Epoch 17/100\n",
            "10/10 [==============================] - 0s 2ms/step - loss: 0.6821 - accuracy: 0.6500\n",
            "Epoch 18/100\n",
            "10/10 [==============================] - 0s 2ms/step - loss: 0.6760 - accuracy: 0.6567\n",
            "Epoch 19/100\n",
            "10/10 [==============================] - 0s 2ms/step - loss: 0.6688 - accuracy: 0.6900\n",
            "Epoch 20/100\n",
            "10/10 [==============================] - 0s 2ms/step - loss: 0.6634 - accuracy: 0.6900\n",
            "Epoch 21/100\n",
            "10/10 [==============================] - 0s 2ms/step - loss: 0.6593 - accuracy: 0.6967\n",
            "Epoch 22/100\n",
            "10/10 [==============================] - 0s 2ms/step - loss: 0.6561 - accuracy: 0.6967\n",
            "Epoch 23/100\n",
            "10/10 [==============================] - 0s 2ms/step - loss: 0.6509 - accuracy: 0.6933\n",
            "Epoch 24/100\n",
            "10/10 [==============================] - 0s 2ms/step - loss: 0.6466 - accuracy: 0.7033\n",
            "Epoch 25/100\n",
            "10/10 [==============================] - 0s 2ms/step - loss: 0.6431 - accuracy: 0.6967\n",
            "Epoch 26/100\n",
            "10/10 [==============================] - 0s 2ms/step - loss: 0.6397 - accuracy: 0.7000\n",
            "Epoch 27/100\n",
            "10/10 [==============================] - 0s 4ms/step - loss: 0.6344 - accuracy: 0.7000\n",
            "Epoch 28/100\n",
            "10/10 [==============================] - 0s 2ms/step - loss: 0.6304 - accuracy: 0.7067\n",
            "Epoch 29/100\n",
            "10/10 [==============================] - 0s 2ms/step - loss: 0.6248 - accuracy: 0.6967\n",
            "Epoch 30/100\n",
            "10/10 [==============================] - 0s 3ms/step - loss: 0.6193 - accuracy: 0.6933\n",
            "Epoch 31/100\n",
            "10/10 [==============================] - 0s 4ms/step - loss: 0.6162 - accuracy: 0.6967\n",
            "Epoch 32/100\n",
            "10/10 [==============================] - 0s 2ms/step - loss: 0.6090 - accuracy: 0.7000\n",
            "Epoch 33/100\n",
            "10/10 [==============================] - 0s 5ms/step - loss: 0.6037 - accuracy: 0.7033\n",
            "Epoch 34/100\n",
            "10/10 [==============================] - 0s 2ms/step - loss: 0.6014 - accuracy: 0.6933\n",
            "Epoch 35/100\n",
            "10/10 [==============================] - 0s 2ms/step - loss: 0.5928 - accuracy: 0.7067\n",
            "Epoch 36/100\n",
            "10/10 [==============================] - 0s 2ms/step - loss: 0.5893 - accuracy: 0.6933\n",
            "Epoch 37/100\n",
            "10/10 [==============================] - 0s 2ms/step - loss: 0.5808 - accuracy: 0.7100\n",
            "Epoch 38/100\n",
            "10/10 [==============================] - 0s 2ms/step - loss: 0.5746 - accuracy: 0.7167\n",
            "Epoch 39/100\n",
            "10/10 [==============================] - 0s 3ms/step - loss: 0.5682 - accuracy: 0.7300\n",
            "Epoch 40/100\n",
            "10/10 [==============================] - 0s 2ms/step - loss: 0.5643 - accuracy: 0.7033\n",
            "Epoch 41/100\n",
            "10/10 [==============================] - 0s 2ms/step - loss: 0.5609 - accuracy: 0.7267\n",
            "Epoch 42/100\n",
            "10/10 [==============================] - 0s 2ms/step - loss: 0.5493 - accuracy: 0.7367\n",
            "Epoch 43/100\n",
            "10/10 [==============================] - 0s 2ms/step - loss: 0.5437 - accuracy: 0.7267\n",
            "Epoch 44/100\n",
            "10/10 [==============================] - 0s 2ms/step - loss: 0.5379 - accuracy: 0.7633\n",
            "Epoch 45/100\n",
            "10/10 [==============================] - 0s 2ms/step - loss: 0.5296 - accuracy: 0.7667\n",
            "Epoch 46/100\n",
            "10/10 [==============================] - 0s 4ms/step - loss: 0.5226 - accuracy: 0.7533\n",
            "Epoch 47/100\n",
            "10/10 [==============================] - 0s 2ms/step - loss: 0.5131 - accuracy: 0.7867\n",
            "Epoch 48/100\n",
            "10/10 [==============================] - 0s 3ms/step - loss: 0.5075 - accuracy: 0.8067\n",
            "Epoch 49/100\n",
            "10/10 [==============================] - 0s 2ms/step - loss: 0.4997 - accuracy: 0.8000\n",
            "Epoch 50/100\n",
            "10/10 [==============================] - 0s 2ms/step - loss: 0.4917 - accuracy: 0.8100\n",
            "Epoch 51/100\n",
            "10/10 [==============================] - 0s 2ms/step - loss: 0.4893 - accuracy: 0.8200\n",
            "Epoch 52/100\n",
            "10/10 [==============================] - 0s 2ms/step - loss: 0.4792 - accuracy: 0.8333\n",
            "Epoch 53/100\n",
            "10/10 [==============================] - 0s 2ms/step - loss: 0.4711 - accuracy: 0.8300\n",
            "Epoch 54/100\n",
            "10/10 [==============================] - 0s 2ms/step - loss: 0.4640 - accuracy: 0.8300\n",
            "Epoch 55/100\n",
            "10/10 [==============================] - 0s 2ms/step - loss: 0.4563 - accuracy: 0.8333\n",
            "Epoch 56/100\n",
            "10/10 [==============================] - 0s 2ms/step - loss: 0.4481 - accuracy: 0.8533\n",
            "Epoch 57/100\n",
            "10/10 [==============================] - 0s 2ms/step - loss: 0.4404 - accuracy: 0.8533\n",
            "Epoch 58/100\n",
            "10/10 [==============================] - 0s 2ms/step - loss: 0.4335 - accuracy: 0.8533\n",
            "Epoch 59/100\n",
            "10/10 [==============================] - 0s 2ms/step - loss: 0.4249 - accuracy: 0.8567\n",
            "Epoch 60/100\n",
            "10/10 [==============================] - 0s 4ms/step - loss: 0.4191 - accuracy: 0.8667\n",
            "Epoch 61/100\n",
            "10/10 [==============================] - 0s 2ms/step - loss: 0.4120 - accuracy: 0.8767\n",
            "Epoch 62/100\n",
            "10/10 [==============================] - 0s 4ms/step - loss: 0.4048 - accuracy: 0.8633\n",
            "Epoch 63/100\n",
            "10/10 [==============================] - 0s 2ms/step - loss: 0.3967 - accuracy: 0.8700\n",
            "Epoch 64/100\n",
            "10/10 [==============================] - 0s 2ms/step - loss: 0.3916 - accuracy: 0.8933\n",
            "Epoch 65/100\n",
            "10/10 [==============================] - 0s 2ms/step - loss: 0.3833 - accuracy: 0.8867\n",
            "Epoch 66/100\n",
            "10/10 [==============================] - 0s 2ms/step - loss: 0.3749 - accuracy: 0.9000\n",
            "Epoch 67/100\n",
            "10/10 [==============================] - 0s 3ms/step - loss: 0.3682 - accuracy: 0.9067\n",
            "Epoch 68/100\n",
            "10/10 [==============================] - 0s 3ms/step - loss: 0.3657 - accuracy: 0.8800\n",
            "Epoch 69/100\n",
            "10/10 [==============================] - 0s 2ms/step - loss: 0.3541 - accuracy: 0.8933\n",
            "Epoch 70/100\n",
            "10/10 [==============================] - 0s 1ms/step - loss: 0.3465 - accuracy: 0.9067\n",
            "Epoch 71/100\n",
            "10/10 [==============================] - 0s 1ms/step - loss: 0.3419 - accuracy: 0.8967\n",
            "Epoch 72/100\n",
            "10/10 [==============================] - 0s 1ms/step - loss: 0.3363 - accuracy: 0.9100\n",
            "Epoch 73/100\n",
            "10/10 [==============================] - 0s 1ms/step - loss: 0.3272 - accuracy: 0.9100\n",
            "Epoch 74/100\n",
            "10/10 [==============================] - 0s 1ms/step - loss: 0.3158 - accuracy: 0.9200\n",
            "Epoch 75/100\n",
            "10/10 [==============================] - 0s 1ms/step - loss: 0.3087 - accuracy: 0.9200\n",
            "Epoch 76/100\n",
            "10/10 [==============================] - 0s 2ms/step - loss: 0.3031 - accuracy: 0.9167\n",
            "Epoch 77/100\n",
            "10/10 [==============================] - 0s 1ms/step - loss: 0.2936 - accuracy: 0.9367\n",
            "Epoch 78/100\n",
            "10/10 [==============================] - 0s 1ms/step - loss: 0.2870 - accuracy: 0.9400\n",
            "Epoch 79/100\n",
            "10/10 [==============================] - 0s 1ms/step - loss: 0.2802 - accuracy: 0.9400\n",
            "Epoch 80/100\n",
            "10/10 [==============================] - 0s 2ms/step - loss: 0.2746 - accuracy: 0.9333\n",
            "Epoch 81/100\n",
            "10/10 [==============================] - 0s 1ms/step - loss: 0.2687 - accuracy: 0.9533\n",
            "Epoch 82/100\n",
            "10/10 [==============================] - 0s 1ms/step - loss: 0.2627 - accuracy: 0.9567\n",
            "Epoch 83/100\n",
            "10/10 [==============================] - 0s 1ms/step - loss: 0.2556 - accuracy: 0.9567\n",
            "Epoch 84/100\n",
            "10/10 [==============================] - 0s 1ms/step - loss: 0.2516 - accuracy: 0.9500\n",
            "Epoch 85/100\n",
            "10/10 [==============================] - 0s 2ms/step - loss: 0.2454 - accuracy: 0.9667\n",
            "Epoch 86/100\n",
            "10/10 [==============================] - 0s 1ms/step - loss: 0.2408 - accuracy: 0.9633\n",
            "Epoch 87/100\n",
            "10/10 [==============================] - 0s 1ms/step - loss: 0.2364 - accuracy: 0.9633\n",
            "Epoch 88/100\n",
            "10/10 [==============================] - 0s 1ms/step - loss: 0.2316 - accuracy: 0.9633\n",
            "Epoch 89/100\n",
            "10/10 [==============================] - 0s 2ms/step - loss: 0.2268 - accuracy: 0.9733\n",
            "Epoch 90/100\n",
            "10/10 [==============================] - 0s 1ms/step - loss: 0.2235 - accuracy: 0.9767\n",
            "Epoch 91/100\n",
            "10/10 [==============================] - 0s 1ms/step - loss: 0.2191 - accuracy: 0.9600\n",
            "Epoch 92/100\n",
            "10/10 [==============================] - 0s 2ms/step - loss: 0.2187 - accuracy: 0.9667\n",
            "Epoch 93/100\n",
            "10/10 [==============================] - 0s 2ms/step - loss: 0.2124 - accuracy: 0.9667\n",
            "Epoch 94/100\n",
            "10/10 [==============================] - 0s 2ms/step - loss: 0.2075 - accuracy: 0.9800\n",
            "Epoch 95/100\n",
            "10/10 [==============================] - 0s 1ms/step - loss: 0.2033 - accuracy: 0.9800\n",
            "Epoch 96/100\n",
            "10/10 [==============================] - 0s 1ms/step - loss: 0.1997 - accuracy: 0.9700\n",
            "Epoch 97/100\n",
            "10/10 [==============================] - 0s 2ms/step - loss: 0.1960 - accuracy: 0.9733\n",
            "Epoch 98/100\n",
            "10/10 [==============================] - 0s 1ms/step - loss: 0.1937 - accuracy: 0.9800\n",
            "Epoch 99/100\n",
            "10/10 [==============================] - 0s 1ms/step - loss: 0.1910 - accuracy: 0.9800\n",
            "Epoch 100/100\n",
            "10/10 [==============================] - 0s 1ms/step - loss: 0.1876 - accuracy: 0.9800\n"
          ]
        }
      ],
      "source": [
        "from keras.api._v2.keras import callbacks\n",
        "# build and fit model\n",
        "\n",
        "# YOUR CODE HERE\n",
        "model2 = Sequential([\n",
        "    Dense(32, activation='sigmoid', input_dim=2),\n",
        "    Dense(32, activation=\"relu\"),\n",
        "    Dense(10, activation='softmax')\n",
        "])\n",
        "\n",
        "custom_callbacks = myCallback()\n",
        "\n",
        "model2.compile(optimizer=\"adam\", loss=\"sparse_categorical_crossentropy\", metrics=['accuracy'])\n",
        "\n",
        "h2 = model2.fit(X, y, epochs = 100, callbacks=[custom_callbacks])\n",
        "\n"
      ]
    },
    {
      "cell_type": "code",
      "source": [
        "len(model2.get_config()[\"layers\"])"
      ],
      "metadata": {
        "id": "3-Mnq2yWCzeU",
        "outputId": "66d1069f-1d6f-4125-d0f6-2d3bf8095d56",
        "colab": {
          "base_uri": "https://localhost:8080/"
        }
      },
      "execution_count": 10,
      "outputs": [
        {
          "output_type": "execute_result",
          "data": {
            "text/plain": [
              "4"
            ]
          },
          "metadata": {},
          "execution_count": 10
        }
      ]
    },
    {
      "cell_type": "code",
      "execution_count": 11,
      "metadata": {
        "deletable": false,
        "editable": false,
        "nbgrader": {
          "cell_type": "code",
          "checksum": "4a5f575f46f151f97f1cebc19a484bae",
          "grade": true,
          "grade_id": "cell-770612ca24334d8a",
          "locked": true,
          "points": 1,
          "schema_version": 3,
          "solution": false,
          "task": false
        },
        "id": "mcS5uaC0Zz8p"
      },
      "outputs": [],
      "source": [
        "# Visible test\n",
        "assert len(model2.get_config()[\"layers\"]) == 4, \"You should have 4 layers: Input, hidden 1, hidden 2, output.\"\n",
        "assert 5 <= model2.get_config()[\"layers\"][1][\"config\"][\"units\"] <= 32, \"You should have 5 - 32 units in hidden layer 1, but don't.\"\n",
        "assert 5 <= model2.get_config()[\"layers\"][2][\"config\"][\"units\"] <= 32, \"You should have 5 - 32 units in hidden layer 2, but don't.\"\n",
        "assert h2.params[\"epochs\"] == 100, \"You didn't set epochs to 100.\""
      ]
    },
    {
      "cell_type": "code",
      "execution_count": 12,
      "metadata": {
        "deletable": false,
        "editable": false,
        "nbgrader": {
          "cell_type": "code",
          "checksum": "3ca73d4d3d17897a570e19a8a97c050f",
          "grade": true,
          "grade_id": "cell-49b1bf7cce22b5b9",
          "locked": true,
          "points": 1,
          "schema_version": 3,
          "solution": false,
          "task": false
        },
        "id": "g-0vnnbKZz8p"
      },
      "outputs": [],
      "source": [
        "# Hidden tests - you will see the results when you submit to Canvas"
      ]
    },
    {
      "cell_type": "markdown",
      "metadata": {
        "deletable": false,
        "editable": false,
        "nbgrader": {
          "cell_type": "markdown",
          "checksum": "b322042f3d8b515b4c5603946e355b13",
          "grade": false,
          "grade_id": "cell-f3490b86d4b284b0",
          "locked": true,
          "schema_version": 3,
          "solution": false,
          "task": false
        },
        "id": "dpcDzir7Zz8p"
      },
      "source": [
        "### 2c. Analyze and Compare\n",
        "\n",
        "**Before you Start**: You will need to install an additional library for this next segment.\n",
        "\n",
        "Install the package `mlxtend` into the environment you are using for the sprint challenge.\n",
        "\n",
        "You can install this package using the following statement in the terminal\n",
        "\n",
        "```python\n",
        "pip install mlxtend\n",
        "```\n",
        "\n",
        "Or you can install this package using the following statement in your notebook\n",
        "\n",
        "```python\n",
        "!pip install mlxtend\n",
        "```\n",
        "\n",
        "If you choose to install this package from within your notebook, be sure to delete the install statement afterwards so that CodeGrade doesn't try to install it and potentially crash.\n",
        "\n",
        "\n",
        "The cells below generate decision boundary plots of your models (`model1` & `model2`). Review the plots."
      ]
    },
    {
      "cell_type": "code",
      "execution_count": 13,
      "metadata": {
        "deletable": false,
        "editable": false,
        "nbgrader": {
          "cell_type": "code",
          "checksum": "77f6f2a9a5839eeba03aabe273a272d0",
          "grade": false,
          "grade_id": "cell-40d69928751b50a3",
          "locked": true,
          "schema_version": 3,
          "solution": false,
          "task": false
        },
        "id": "V2XhlBKuZz8q"
      },
      "outputs": [],
      "source": [
        "# from mlxtend.plotting import plot_decision_regions\n",
        "\n",
        "\n",
        "# fig = plt.figure(figsize=(12,6))\n",
        "\n",
        "# for clf, hist, name, grd in zip([model1,model2], [h1, h2],['Perceptron', 'Multi-Layer Perceptron'],[1,2]):\n",
        "\n",
        "#     ax = plt.subplot(1,2, grd)\n",
        "#     fig = plot_decision_regions(X=X, y=y, clf=clf, legend=2)\n",
        "#     title = f\"{name} with {hist.history['accuracy'][-1]:,.2f} Accuracy\"\n",
        "#     plt.title(title)\n",
        "\n",
        "# plt.show()"
      ]
    },
    {
      "cell_type": "markdown",
      "metadata": {
        "deletable": false,
        "editable": false,
        "nbgrader": {
          "cell_type": "markdown",
          "checksum": "6115e8a53cd304ed19dcead4c4ebcaae",
          "grade": false,
          "grade_id": "cell-302694c508c8da0e",
          "locked": true,
          "schema_version": 3,
          "solution": false,
          "task": false
        },
        "id": "cEzewmgAZz8q"
      },
      "source": [
        "#### Review\n",
        "1) Why does the Perceptron (model1) only achieve about 50% accuracy?\n",
        "\n",
        "A simple perceptron can only learn a linear decision boundary as seen in the visualization above. Since the data points are distributed in a way where only a single class is represented per quadrant, a linear decision boundary can never reach an accuracy much higher than about 50% since each class will be equally represented on either side of that linear decision boundary.\n",
        "\n",
        "2) What is the architectural property of the Multi-Layer Perceptron that allows it to more accurately learn the relationship between X and Y?\n",
        "\n",
        "The additional layers and neurons allow a neural networks to learn non-linear relationships between X and Y. Each layer in a neural net represents an N-dimensional vector space. So by passing data from one layer to another, we are passing a data vector from one vector space to another, each with a different dimensions, often times this will change the geometry of the data points (i.e. their distribution in space) in such a way where a linear separation then becomes possible. This is the same idea behind the Kernel Trick in Support Vector Machines (SVM)."
      ]
    },
    {
      "cell_type": "markdown",
      "metadata": {
        "deletable": false,
        "editable": false,
        "nbgrader": {
          "cell_type": "markdown",
          "checksum": "54d26b93a7851569bb4b1b4800181af4",
          "grade": false,
          "grade_id": "cell-db1863a277e4fd6b",
          "locked": true,
          "schema_version": 3,
          "solution": false,
          "task": false
        },
        "id": "KtlpLU4RZz8q"
      },
      "source": [
        "## 3. Keras MMP <a id=\"Q3\"></a>\n",
        "\n",
        "- Implement a Multilayer Perceptron architecture of your choosing using the Keras library.\n",
        "- Train your model and report its baseline accuracy.\n",
        "- Then `hyper-parameters tune two parameters each with no more than 2 values each`\n",
        "    - Due to limited computational resources on CodeGrade `DO NOT INCLUDE ADDITIONAL PARAMETERS OR VALUES PLEASE`\n",
        "- Report your optimized model's accuracy\n",
        "- Use the Heart Disease Dataset provided (binary classification)\n",
        "- Use an appropriate loss function for a binary classification task\n",
        "- Use an appropriate activation function on the final layer of your network.\n",
        "- Train your model using verbose output for ease of grading.\n",
        "- Use GridSearchCV to hyper-parameters tune your model.\n",
        "    - **Use `n_jobs` = 1**\n",
        "- When hyper-parameters tuning, show you work by adding code cells for each new experiment.\n",
        "- Report the accuracy for each combination of hyper-parameters as you test them so that we can easily see which resulted in the highest accuracy."
      ]
    },
    {
      "cell_type": "code",
      "execution_count": 3,
      "metadata": {
        "inputHidden": false,
        "jupyter": {
          "outputs_hidden": false
        },
        "outputHidden": false,
        "id": "zXomQuesZz8q",
        "outputId": "3ba068a2-571a-4626-e3b7-51b285fe10fe",
        "colab": {
          "base_uri": "https://localhost:8080/",
          "height": 224
        }
      },
      "outputs": [
        {
          "output_type": "stream",
          "name": "stdout",
          "text": [
            "(303, 14)\n"
          ]
        },
        {
          "output_type": "execute_result",
          "data": {
            "text/plain": [
              "     age  sex  cp  trestbps  chol  fbs  restecg  thalach  exang  oldpeak  \\\n",
              "59    57    0   0       128   303    0        0      159      0      0.0   \n",
              "145   70    1   1       156   245    0        0      143      0      0.0   \n",
              "191   58    1   0       128   216    0        0      131      1      2.2   \n",
              "74    43    0   2       122   213    0        1      165      0      0.2   \n",
              "298   57    0   0       140   241    0        1      123      1      0.2   \n",
              "\n",
              "     slope  ca  thal  target  \n",
              "59       2   1     2       1  \n",
              "145      2   0     2       1  \n",
              "191      1   3     3       0  \n",
              "74       1   0     2       1  \n",
              "298      1   0     3       0  "
            ],
            "text/html": [
              "\n",
              "  <div id=\"df-2cf32c8e-aa5b-4312-bb76-20129011d28d\">\n",
              "    <div class=\"colab-df-container\">\n",
              "      <div>\n",
              "<style scoped>\n",
              "    .dataframe tbody tr th:only-of-type {\n",
              "        vertical-align: middle;\n",
              "    }\n",
              "\n",
              "    .dataframe tbody tr th {\n",
              "        vertical-align: top;\n",
              "    }\n",
              "\n",
              "    .dataframe thead th {\n",
              "        text-align: right;\n",
              "    }\n",
              "</style>\n",
              "<table border=\"1\" class=\"dataframe\">\n",
              "  <thead>\n",
              "    <tr style=\"text-align: right;\">\n",
              "      <th></th>\n",
              "      <th>age</th>\n",
              "      <th>sex</th>\n",
              "      <th>cp</th>\n",
              "      <th>trestbps</th>\n",
              "      <th>chol</th>\n",
              "      <th>fbs</th>\n",
              "      <th>restecg</th>\n",
              "      <th>thalach</th>\n",
              "      <th>exang</th>\n",
              "      <th>oldpeak</th>\n",
              "      <th>slope</th>\n",
              "      <th>ca</th>\n",
              "      <th>thal</th>\n",
              "      <th>target</th>\n",
              "    </tr>\n",
              "  </thead>\n",
              "  <tbody>\n",
              "    <tr>\n",
              "      <th>59</th>\n",
              "      <td>57</td>\n",
              "      <td>0</td>\n",
              "      <td>0</td>\n",
              "      <td>128</td>\n",
              "      <td>303</td>\n",
              "      <td>0</td>\n",
              "      <td>0</td>\n",
              "      <td>159</td>\n",
              "      <td>0</td>\n",
              "      <td>0.0</td>\n",
              "      <td>2</td>\n",
              "      <td>1</td>\n",
              "      <td>2</td>\n",
              "      <td>1</td>\n",
              "    </tr>\n",
              "    <tr>\n",
              "      <th>145</th>\n",
              "      <td>70</td>\n",
              "      <td>1</td>\n",
              "      <td>1</td>\n",
              "      <td>156</td>\n",
              "      <td>245</td>\n",
              "      <td>0</td>\n",
              "      <td>0</td>\n",
              "      <td>143</td>\n",
              "      <td>0</td>\n",
              "      <td>0.0</td>\n",
              "      <td>2</td>\n",
              "      <td>0</td>\n",
              "      <td>2</td>\n",
              "      <td>1</td>\n",
              "    </tr>\n",
              "    <tr>\n",
              "      <th>191</th>\n",
              "      <td>58</td>\n",
              "      <td>1</td>\n",
              "      <td>0</td>\n",
              "      <td>128</td>\n",
              "      <td>216</td>\n",
              "      <td>0</td>\n",
              "      <td>0</td>\n",
              "      <td>131</td>\n",
              "      <td>1</td>\n",
              "      <td>2.2</td>\n",
              "      <td>1</td>\n",
              "      <td>3</td>\n",
              "      <td>3</td>\n",
              "      <td>0</td>\n",
              "    </tr>\n",
              "    <tr>\n",
              "      <th>74</th>\n",
              "      <td>43</td>\n",
              "      <td>0</td>\n",
              "      <td>2</td>\n",
              "      <td>122</td>\n",
              "      <td>213</td>\n",
              "      <td>0</td>\n",
              "      <td>1</td>\n",
              "      <td>165</td>\n",
              "      <td>0</td>\n",
              "      <td>0.2</td>\n",
              "      <td>1</td>\n",
              "      <td>0</td>\n",
              "      <td>2</td>\n",
              "      <td>1</td>\n",
              "    </tr>\n",
              "    <tr>\n",
              "      <th>298</th>\n",
              "      <td>57</td>\n",
              "      <td>0</td>\n",
              "      <td>0</td>\n",
              "      <td>140</td>\n",
              "      <td>241</td>\n",
              "      <td>0</td>\n",
              "      <td>1</td>\n",
              "      <td>123</td>\n",
              "      <td>1</td>\n",
              "      <td>0.2</td>\n",
              "      <td>1</td>\n",
              "      <td>0</td>\n",
              "      <td>3</td>\n",
              "      <td>0</td>\n",
              "    </tr>\n",
              "  </tbody>\n",
              "</table>\n",
              "</div>\n",
              "      <button class=\"colab-df-convert\" onclick=\"convertToInteractive('df-2cf32c8e-aa5b-4312-bb76-20129011d28d')\"\n",
              "              title=\"Convert this dataframe to an interactive table.\"\n",
              "              style=\"display:none;\">\n",
              "        \n",
              "  <svg xmlns=\"http://www.w3.org/2000/svg\" height=\"24px\"viewBox=\"0 0 24 24\"\n",
              "       width=\"24px\">\n",
              "    <path d=\"M0 0h24v24H0V0z\" fill=\"none\"/>\n",
              "    <path d=\"M18.56 5.44l.94 2.06.94-2.06 2.06-.94-2.06-.94-.94-2.06-.94 2.06-2.06.94zm-11 1L8.5 8.5l.94-2.06 2.06-.94-2.06-.94L8.5 2.5l-.94 2.06-2.06.94zm10 10l.94 2.06.94-2.06 2.06-.94-2.06-.94-.94-2.06-.94 2.06-2.06.94z\"/><path d=\"M17.41 7.96l-1.37-1.37c-.4-.4-.92-.59-1.43-.59-.52 0-1.04.2-1.43.59L10.3 9.45l-7.72 7.72c-.78.78-.78 2.05 0 2.83L4 21.41c.39.39.9.59 1.41.59.51 0 1.02-.2 1.41-.59l7.78-7.78 2.81-2.81c.8-.78.8-2.07 0-2.86zM5.41 20L4 18.59l7.72-7.72 1.47 1.35L5.41 20z\"/>\n",
              "  </svg>\n",
              "      </button>\n",
              "      \n",
              "  <style>\n",
              "    .colab-df-container {\n",
              "      display:flex;\n",
              "      flex-wrap:wrap;\n",
              "      gap: 12px;\n",
              "    }\n",
              "\n",
              "    .colab-df-convert {\n",
              "      background-color: #E8F0FE;\n",
              "      border: none;\n",
              "      border-radius: 50%;\n",
              "      cursor: pointer;\n",
              "      display: none;\n",
              "      fill: #1967D2;\n",
              "      height: 32px;\n",
              "      padding: 0 0 0 0;\n",
              "      width: 32px;\n",
              "    }\n",
              "\n",
              "    .colab-df-convert:hover {\n",
              "      background-color: #E2EBFA;\n",
              "      box-shadow: 0px 1px 2px rgba(60, 64, 67, 0.3), 0px 1px 3px 1px rgba(60, 64, 67, 0.15);\n",
              "      fill: #174EA6;\n",
              "    }\n",
              "\n",
              "    [theme=dark] .colab-df-convert {\n",
              "      background-color: #3B4455;\n",
              "      fill: #D2E3FC;\n",
              "    }\n",
              "\n",
              "    [theme=dark] .colab-df-convert:hover {\n",
              "      background-color: #434B5C;\n",
              "      box-shadow: 0px 1px 3px 1px rgba(0, 0, 0, 0.15);\n",
              "      filter: drop-shadow(0px 1px 2px rgba(0, 0, 0, 0.3));\n",
              "      fill: #FFFFFF;\n",
              "    }\n",
              "  </style>\n",
              "\n",
              "      <script>\n",
              "        const buttonEl =\n",
              "          document.querySelector('#df-2cf32c8e-aa5b-4312-bb76-20129011d28d button.colab-df-convert');\n",
              "        buttonEl.style.display =\n",
              "          google.colab.kernel.accessAllowed ? 'block' : 'none';\n",
              "\n",
              "        async function convertToInteractive(key) {\n",
              "          const element = document.querySelector('#df-2cf32c8e-aa5b-4312-bb76-20129011d28d');\n",
              "          const dataTable =\n",
              "            await google.colab.kernel.invokeFunction('convertToInteractive',\n",
              "                                                     [key], {});\n",
              "          if (!dataTable) return;\n",
              "\n",
              "          const docLinkHtml = 'Like what you see? Visit the ' +\n",
              "            '<a target=\"_blank\" href=https://colab.research.google.com/notebooks/data_table.ipynb>data table notebook</a>'\n",
              "            + ' to learn more about interactive tables.';\n",
              "          element.innerHTML = '';\n",
              "          dataTable['output_type'] = 'display_data';\n",
              "          await google.colab.output.renderOutput(dataTable, element);\n",
              "          const docLink = document.createElement('div');\n",
              "          docLink.innerHTML = docLinkHtml;\n",
              "          element.appendChild(docLink);\n",
              "        }\n",
              "      </script>\n",
              "    </div>\n",
              "  </div>\n",
              "  "
            ]
          },
          "metadata": {},
          "execution_count": 3
        }
      ],
      "source": [
        "# load data\n",
        "data_path = 'https://raw.githubusercontent.com/ryanleeallred/datasets/master/heart.csv'\n",
        "df = pd.read_csv(data_path)\n",
        "df = df.sample(frac=1)\n",
        "print(df.shape)\n",
        "df.head()"
      ]
    },
    {
      "cell_type": "code",
      "execution_count": 4,
      "metadata": {
        "deletable": false,
        "nbgrader": {
          "cell_type": "code",
          "checksum": "22de1dc5d17d7a0bc674d082c33e8b65",
          "grade": false,
          "grade_id": "cell-85dc40f19f5a1d6b",
          "locked": false,
          "schema_version": 3,
          "solution": true,
          "task": false
        },
        "id": "h6Ev_k_iZz8q"
      },
      "outputs": [],
      "source": [
        "# Create an input matrix named 'X' store it in a 2D numpy array\n",
        "\n",
        "# Create an output vector for the labels named 'Y', store it in 1D numpy array\n",
        "\n",
        "# YOUR CODE HERE\n",
        "X = df.drop('target', axis=1).values\n",
        "Y = df['target'].values"
      ]
    },
    {
      "cell_type": "code",
      "execution_count": 5,
      "metadata": {
        "deletable": false,
        "editable": false,
        "nbgrader": {
          "cell_type": "code",
          "checksum": "825d4f808810a2a8d6301d7453afe478",
          "grade": true,
          "grade_id": "cell-c17c686c974edc2e",
          "locked": true,
          "points": 1,
          "schema_version": 3,
          "solution": false,
          "task": false
        },
        "id": "Gvp5gC0jZz8q"
      },
      "outputs": [],
      "source": [
        "# Visible Testing\n",
        "assert X.shape[0] == 303, \"Did you drop/lose some rows in X? Did you properly load and split the data?\"\n",
        "assert X.shape[1] == 13, \"Did you drop/lose some columns in X? Did you properly load and split the data?\"\n",
        "assert len(Y)== 303, \"Did you drop/lose some rows in Y? Did you properly load and split the data?\""
      ]
    },
    {
      "cell_type": "code",
      "execution_count": 34,
      "metadata": {
        "deletable": false,
        "nbgrader": {
          "cell_type": "code",
          "checksum": "475835631ff6a34028443dbf604bd922",
          "grade": false,
          "grade_id": "cell-cfc5517cd0b6fa64",
          "locked": false,
          "schema_version": 3,
          "solution": true,
          "task": false
        },
        "id": "EtwuBpW5Zz8q"
      },
      "outputs": [],
      "source": [
        "# Create a function named 'create_model' that returns a complied keras model -  required for KerasClassifier\n",
        "# YOUR CODE HERE\n",
        "def create_model():\n",
        "  model = Sequential([\n",
        "    Dense(25, activation='sigmoid', input_dim=13),\n",
        "    Dense(25, activation=\"relu\"),\n",
        "    Dense(10, activation='softmax')\n",
        "  ])\n",
        "\n",
        "  model.compile(optimizer='adam', loss=\"sparse_categorical_crossentropy\", metrics=['accuracy'])\n",
        "\n",
        "  return model\n"
      ]
    },
    {
      "cell_type": "code",
      "execution_count": 35,
      "metadata": {
        "deletable": false,
        "editable": false,
        "nbgrader": {
          "cell_type": "code",
          "checksum": "14fafb133c4cbe053b272ae08156e2ab",
          "grade": true,
          "grade_id": "cell-fac25126eaf1eee4",
          "locked": true,
          "points": 1,
          "schema_version": 3,
          "solution": false,
          "task": false
        },
        "id": "8ut5RY7RZz8q"
      },
      "outputs": [],
      "source": [
        "# Visible Testing\n",
        "assert (create_model().__module__ == 'tensorflow.python.keras.engine.sequential') or (create_model().__module__ == 'keras.engine.sequential'), \"create_model should return a keras model that was created using the Sequential class.\""
      ]
    },
    {
      "cell_type": "code",
      "execution_count": 36,
      "metadata": {
        "deletable": false,
        "nbgrader": {
          "cell_type": "code",
          "checksum": "0412c74b7803790452d4914d99995dd2",
          "grade": false,
          "grade_id": "cell-fbc3d0a07230078c",
          "locked": false,
          "schema_version": 3,
          "solution": true,
          "task": false
        },
        "id": "0qK2oGusZz8q",
        "outputId": "53423215-422d-4876-cc9e-590672dd5e14",
        "colab": {
          "base_uri": "https://localhost:8080/"
        }
      },
      "outputs": [
        {
          "output_type": "stream",
          "name": "stderr",
          "text": [
            "<ipython-input-36-f79b78e09394>:3: DeprecationWarning: KerasClassifier is deprecated, use Sci-Keras (https://github.com/adriangb/scikeras) instead. See https://www.adriangb.com/scikeras/stable/migration.html for help migrating.\n",
            "  model = KerasClassifier(create_model)\n"
          ]
        }
      ],
      "source": [
        "# Pass 'create_model' into KerasClassifier, store KerasClassifier to a variable named 'model'\n",
        "# YOUR CODE HERE\n",
        "model = KerasClassifier(create_model)"
      ]
    },
    {
      "cell_type": "code",
      "execution_count": 37,
      "metadata": {
        "deletable": false,
        "editable": false,
        "nbgrader": {
          "cell_type": "code",
          "checksum": "7b9a0fd482352443a412e7fdb13f5bae",
          "grade": true,
          "grade_id": "cell-464e7506993775f2",
          "locked": true,
          "points": 1,
          "schema_version": 3,
          "solution": false,
          "task": false
        },
        "id": "rkn3RTEVZz8q"
      },
      "outputs": [],
      "source": [
        "# Visible Testing\n",
        "assert model.__module__ == 'tensorflow.python.keras.wrappers.scikit_learn' or model.__module__== 'keras.wrappers.scikit_learn', \"model should be a instance of KerasClassifier.\""
      ]
    },
    {
      "cell_type": "code",
      "execution_count": 38,
      "metadata": {
        "deletable": false,
        "nbgrader": {
          "cell_type": "code",
          "checksum": "f88603ef37a4d3d2ef8699a41ac9a0b2",
          "grade": false,
          "grade_id": "cell-985c0425f3b1304d",
          "locked": false,
          "schema_version": 3,
          "solution": true,
          "task": false
        },
        "id": "JbUOCDCIZz8r"
      },
      "outputs": [],
      "source": [
        "# Define the grid search parameters inside a dictionary named 'param_grid'\n",
        "# Use 2 hyper-parameters with 2 possible values for each\n",
        "\n",
        "# YOUR CODE HERE\n",
        "param_grid = {'batch_size': [32, 64],\n",
        "              'epochs': [3, 9]\n",
        "\n",
        "              }"
      ]
    },
    {
      "cell_type": "code",
      "execution_count": 39,
      "metadata": {
        "deletable": false,
        "editable": false,
        "nbgrader": {
          "cell_type": "code",
          "checksum": "a551fd8278b30c1318c036f6ad43b503",
          "grade": true,
          "grade_id": "cell-c765b5db5489d7a2",
          "locked": true,
          "points": 1,
          "schema_version": 3,
          "solution": false,
          "task": false
        },
        "id": "o47IyA7RZz8r"
      },
      "outputs": [],
      "source": [
        "assert len(param_grid.keys()) == 2, \"Did you create a param dict with 2 hyper-parameters as keys?\""
      ]
    },
    {
      "cell_type": "code",
      "execution_count": 40,
      "metadata": {
        "deletable": false,
        "nbgrader": {
          "cell_type": "code",
          "checksum": "2ea6312f4bc1f42809196b696037dd52",
          "grade": false,
          "grade_id": "cell-7cfb4315eab5031c",
          "locked": false,
          "schema_version": 3,
          "solution": true,
          "task": false
        },
        "id": "xZPj8zWOZz8r",
        "outputId": "8e4f63fe-82a5-44d5-e7ae-a8a2d0a32127",
        "colab": {
          "base_uri": "https://localhost:8080/"
        }
      },
      "outputs": [
        {
          "output_type": "stream",
          "name": "stdout",
          "text": [
            "Epoch 1/3\n",
            "7/7 [==============================] - 0s 2ms/step - loss: 2.3491 - accuracy: 0.0050\n",
            "Epoch 2/3\n",
            "7/7 [==============================] - 0s 2ms/step - loss: 2.0627 - accuracy: 0.0990\n",
            "Epoch 3/3\n",
            "7/7 [==============================] - 0s 2ms/step - loss: 1.8119 - accuracy: 0.3911\n",
            "4/4 [==============================] - 0s 3ms/step - loss: 1.6729 - accuracy: 0.4653\n",
            "Epoch 1/3\n",
            "7/7 [==============================] - 0s 2ms/step - loss: 2.1000 - accuracy: 0.5198\n",
            "Epoch 2/3\n",
            "7/7 [==============================] - 0s 2ms/step - loss: 1.8469 - accuracy: 0.5198\n",
            "Epoch 3/3\n",
            "7/7 [==============================] - 0s 2ms/step - loss: 1.6180 - accuracy: 0.5248\n",
            "4/4 [==============================] - 0s 2ms/step - loss: 1.4510 - accuracy: 0.5842\n",
            "Epoch 1/3\n",
            "7/7 [==============================] - 0s 2ms/step - loss: 3.3953 - accuracy: 0.0000e+00\n",
            "Epoch 2/3\n",
            "7/7 [==============================] - 0s 2ms/step - loss: 3.1215 - accuracy: 0.0000e+00\n",
            "Epoch 3/3\n",
            "7/7 [==============================] - 0s 2ms/step - loss: 2.8748 - accuracy: 0.0000e+00\n",
            "4/4 [==============================] - 0s 2ms/step - loss: 2.7464 - accuracy: 0.0000e+00\n",
            "Epoch 1/9\n",
            "7/7 [==============================] - 0s 2ms/step - loss: 2.2500 - accuracy: 0.0000e+00\n",
            "Epoch 2/9\n",
            "7/7 [==============================] - 0s 2ms/step - loss: 2.0807 - accuracy: 0.0446\n",
            "Epoch 3/9\n",
            "7/7 [==============================] - 0s 2ms/step - loss: 1.9124 - accuracy: 0.4109\n",
            "Epoch 4/9\n",
            "7/7 [==============================] - 0s 2ms/step - loss: 1.7535 - accuracy: 0.6188\n",
            "Epoch 5/9\n",
            "7/7 [==============================] - 0s 2ms/step - loss: 1.6025 - accuracy: 0.6386\n",
            "Epoch 6/9\n",
            "7/7 [==============================] - 0s 2ms/step - loss: 1.4646 - accuracy: 0.5743\n",
            "Epoch 7/9\n",
            "7/7 [==============================] - 0s 2ms/step - loss: 1.3474 - accuracy: 0.5446\n",
            "Epoch 8/9\n",
            "7/7 [==============================] - 0s 2ms/step - loss: 1.2380 - accuracy: 0.5297\n",
            "Epoch 9/9\n",
            "7/7 [==============================] - 0s 1ms/step - loss: 1.1403 - accuracy: 0.5000\n",
            "4/4 [==============================] - 0s 2ms/step - loss: 1.0813 - accuracy: 0.6238\n",
            "Epoch 1/9\n",
            "7/7 [==============================] - 0s 2ms/step - loss: 1.6114 - accuracy: 0.5248\n",
            "Epoch 2/9\n",
            "7/7 [==============================] - 0s 1ms/step - loss: 1.4606 - accuracy: 0.5248\n",
            "Epoch 3/9\n",
            "7/7 [==============================] - 0s 2ms/step - loss: 1.3426 - accuracy: 0.5248\n",
            "Epoch 4/9\n",
            "7/7 [==============================] - 0s 2ms/step - loss: 1.2389 - accuracy: 0.5248\n",
            "Epoch 5/9\n",
            "7/7 [==============================] - 0s 1ms/step - loss: 1.1432 - accuracy: 0.5248\n",
            "Epoch 6/9\n",
            "7/7 [==============================] - 0s 2ms/step - loss: 1.0612 - accuracy: 0.5248\n",
            "Epoch 7/9\n",
            "7/7 [==============================] - 0s 2ms/step - loss: 0.9923 - accuracy: 0.5248\n",
            "Epoch 8/9\n",
            "7/7 [==============================] - 0s 1ms/step - loss: 0.9379 - accuracy: 0.5248\n",
            "Epoch 9/9\n",
            "7/7 [==============================] - 0s 2ms/step - loss: 0.8923 - accuracy: 0.5248\n",
            "4/4 [==============================] - 0s 2ms/step - loss: 0.8616 - accuracy: 0.5842\n",
            "Epoch 1/9\n",
            "7/7 [==============================] - 0s 2ms/step - loss: 2.2389 - accuracy: 0.0990\n",
            "Epoch 2/9\n",
            "7/7 [==============================] - 0s 2ms/step - loss: 1.8957 - accuracy: 0.4406\n",
            "Epoch 3/9\n",
            "7/7 [==============================] - 0s 2ms/step - loss: 1.6190 - accuracy: 0.4406\n",
            "Epoch 4/9\n",
            "7/7 [==============================] - 0s 2ms/step - loss: 1.4105 - accuracy: 0.4406\n",
            "Epoch 5/9\n",
            "7/7 [==============================] - 0s 2ms/step - loss: 1.2460 - accuracy: 0.4406\n",
            "Epoch 6/9\n",
            "7/7 [==============================] - 0s 2ms/step - loss: 1.1194 - accuracy: 0.4406\n",
            "Epoch 7/9\n",
            "7/7 [==============================] - 0s 3ms/step - loss: 1.0141 - accuracy: 0.4406\n",
            "Epoch 8/9\n",
            "7/7 [==============================] - 0s 2ms/step - loss: 0.9278 - accuracy: 0.4406\n",
            "Epoch 9/9\n",
            "7/7 [==============================] - 0s 2ms/step - loss: 0.8579 - accuracy: 0.4505\n",
            "4/4 [==============================] - 0s 3ms/step - loss: 0.8007 - accuracy: 0.5347\n",
            "Epoch 1/3\n",
            "4/4 [==============================] - 0s 3ms/step - loss: 2.4199 - accuracy: 0.0000e+00\n",
            "Epoch 2/3\n",
            "4/4 [==============================] - 0s 2ms/step - loss: 2.2919 - accuracy: 0.0000e+00\n",
            "Epoch 3/3\n",
            "4/4 [==============================] - 0s 2ms/step - loss: 2.1694 - accuracy: 0.0000e+00\n",
            "2/2 [==============================] - 0s 6ms/step - loss: 2.0731 - accuracy: 0.0297\n",
            "Epoch 1/3\n",
            "4/4 [==============================] - 1s 2ms/step - loss: 2.5750 - accuracy: 0.3416\n",
            "Epoch 2/3\n",
            "4/4 [==============================] - 0s 3ms/step - loss: 2.3559 - accuracy: 0.5149\n",
            "Epoch 3/3\n",
            "4/4 [==============================] - 0s 3ms/step - loss: 2.1612 - accuracy: 0.5248\n",
            "2/2 [==============================] - 0s 4ms/step - loss: 1.9081 - accuracy: 0.5842\n",
            "Epoch 1/3\n",
            "4/4 [==============================] - 1s 2ms/step - loss: 2.5067 - accuracy: 0.0099\n",
            "Epoch 2/3\n",
            "4/4 [==============================] - 0s 4ms/step - loss: 2.3148 - accuracy: 0.0347\n",
            "Epoch 3/3\n",
            "4/4 [==============================] - 0s 3ms/step - loss: 2.1387 - accuracy: 0.0990\n"
          ]
        },
        {
          "output_type": "stream",
          "name": "stderr",
          "text": [
            "WARNING:tensorflow:5 out of the last 13 calls to <function Model.make_test_function.<locals>.test_function at 0x7f0664f11900> triggered tf.function retracing. Tracing is expensive and the excessive number of tracings could be due to (1) creating @tf.function repeatedly in a loop, (2) passing tensors with different shapes, (3) passing Python objects instead of tensors. For (1), please define your @tf.function outside of the loop. For (2), @tf.function has reduce_retracing=True option that can avoid unnecessary retracing. For (3), please refer to https://www.tensorflow.org/guide/function#controlling_retracing and https://www.tensorflow.org/api_docs/python/tf/function for  more details.\n"
          ]
        },
        {
          "output_type": "stream",
          "name": "stdout",
          "text": [
            "2/2 [==============================] - 0s 6ms/step - loss: 2.0913 - accuracy: 0.2475\n",
            "Epoch 1/9\n",
            "4/4 [==============================] - 0s 3ms/step - loss: 1.9477 - accuracy: 0.5495\n",
            "Epoch 2/9\n",
            "4/4 [==============================] - 0s 2ms/step - loss: 1.8557 - accuracy: 0.5891\n",
            "Epoch 3/9\n",
            "4/4 [==============================] - 0s 2ms/step - loss: 1.7711 - accuracy: 0.6089\n",
            "Epoch 4/9\n",
            "4/4 [==============================] - 0s 2ms/step - loss: 1.6905 - accuracy: 0.5644\n",
            "Epoch 5/9\n",
            "4/4 [==============================] - 0s 2ms/step - loss: 1.6113 - accuracy: 0.5495\n",
            "Epoch 6/9\n",
            "4/4 [==============================] - 0s 3ms/step - loss: 1.5342 - accuracy: 0.5891\n",
            "Epoch 7/9\n",
            "4/4 [==============================] - 0s 2ms/step - loss: 1.4579 - accuracy: 0.6485\n",
            "Epoch 8/9\n",
            "4/4 [==============================] - 0s 3ms/step - loss: 1.3825 - accuracy: 0.6832\n",
            "Epoch 9/9\n",
            "4/4 [==============================] - 0s 2ms/step - loss: 1.3071 - accuracy: 0.6832\n"
          ]
        },
        {
          "output_type": "stream",
          "name": "stderr",
          "text": [
            "WARNING:tensorflow:5 out of the last 11 calls to <function Model.make_test_function.<locals>.test_function at 0x7f0664561000> triggered tf.function retracing. Tracing is expensive and the excessive number of tracings could be due to (1) creating @tf.function repeatedly in a loop, (2) passing tensors with different shapes, (3) passing Python objects instead of tensors. For (1), please define your @tf.function outside of the loop. For (2), @tf.function has reduce_retracing=True option that can avoid unnecessary retracing. For (3), please refer to https://www.tensorflow.org/guide/function#controlling_retracing and https://www.tensorflow.org/api_docs/python/tf/function for  more details.\n"
          ]
        },
        {
          "output_type": "stream",
          "name": "stdout",
          "text": [
            "2/2 [==============================] - 0s 5ms/step - loss: 1.2557 - accuracy: 0.6337\n",
            "Epoch 1/9\n",
            "4/4 [==============================] - 0s 3ms/step - loss: 2.2393 - accuracy: 0.4554\n",
            "Epoch 2/9\n",
            "4/4 [==============================] - 0s 2ms/step - loss: 2.0751 - accuracy: 0.4851\n",
            "Epoch 3/9\n",
            "4/4 [==============================] - 0s 2ms/step - loss: 1.9116 - accuracy: 0.5198\n",
            "Epoch 4/9\n",
            "4/4 [==============================] - 0s 2ms/step - loss: 1.7558 - accuracy: 0.5248\n",
            "Epoch 5/9\n",
            "4/4 [==============================] - 0s 2ms/step - loss: 1.6088 - accuracy: 0.5248\n",
            "Epoch 6/9\n",
            "4/4 [==============================] - 0s 2ms/step - loss: 1.4786 - accuracy: 0.5248\n",
            "Epoch 7/9\n",
            "4/4 [==============================] - 0s 3ms/step - loss: 1.3643 - accuracy: 0.5248\n",
            "Epoch 8/9\n",
            "4/4 [==============================] - 0s 4ms/step - loss: 1.2664 - accuracy: 0.5248\n",
            "Epoch 9/9\n",
            "4/4 [==============================] - 0s 3ms/step - loss: 1.1815 - accuracy: 0.5248\n",
            "2/2 [==============================] - 0s 4ms/step - loss: 1.0943 - accuracy: 0.5842\n",
            "Epoch 1/9\n",
            "4/4 [==============================] - 0s 3ms/step - loss: 2.1744 - accuracy: 0.1337\n",
            "Epoch 2/9\n",
            "4/4 [==============================] - 0s 2ms/step - loss: 2.0272 - accuracy: 0.3218\n",
            "Epoch 3/9\n",
            "4/4 [==============================] - 0s 5ms/step - loss: 1.8958 - accuracy: 0.3564\n",
            "Epoch 4/9\n",
            "4/4 [==============================] - 0s 2ms/step - loss: 1.7755 - accuracy: 0.3911\n",
            "Epoch 5/9\n",
            "4/4 [==============================] - 0s 2ms/step - loss: 1.6595 - accuracy: 0.4455\n",
            "Epoch 6/9\n",
            "4/4 [==============================] - 0s 2ms/step - loss: 1.5411 - accuracy: 0.4554\n",
            "Epoch 7/9\n",
            "4/4 [==============================] - 0s 3ms/step - loss: 1.4202 - accuracy: 0.4950\n",
            "Epoch 8/9\n",
            "4/4 [==============================] - 0s 3ms/step - loss: 1.3025 - accuracy: 0.5149\n",
            "Epoch 9/9\n",
            "4/4 [==============================] - 0s 2ms/step - loss: 1.1928 - accuracy: 0.5891\n",
            "2/2 [==============================] - 0s 4ms/step - loss: 1.1355 - accuracy: 0.5644\n",
            "Epoch 1/9\n",
            "5/5 [==============================] - 1s 3ms/step - loss: 2.5177 - accuracy: 0.0000e+00\n",
            "Epoch 2/9\n",
            "5/5 [==============================] - 0s 2ms/step - loss: 2.3890 - accuracy: 0.0000e+00\n",
            "Epoch 3/9\n",
            "5/5 [==============================] - 0s 2ms/step - loss: 2.2761 - accuracy: 0.0033\n",
            "Epoch 4/9\n",
            "5/5 [==============================] - 0s 2ms/step - loss: 2.1684 - accuracy: 0.4686\n",
            "Epoch 5/9\n",
            "5/5 [==============================] - 0s 2ms/step - loss: 2.0544 - accuracy: 0.5446\n",
            "Epoch 6/9\n",
            "5/5 [==============================] - 0s 2ms/step - loss: 1.9343 - accuracy: 0.5446\n",
            "Epoch 7/9\n",
            "5/5 [==============================] - 0s 2ms/step - loss: 1.8084 - accuracy: 0.5446\n",
            "Epoch 8/9\n",
            "5/5 [==============================] - 0s 3ms/step - loss: 1.6903 - accuracy: 0.5446\n",
            "Epoch 9/9\n",
            "5/5 [==============================] - 0s 2ms/step - loss: 1.5818 - accuracy: 0.5446\n"
          ]
        }
      ],
      "source": [
        "# Create Grid Search object and name it 'gs'\n",
        "# Run Grid Search\n",
        "# YOUR CODE HERE\n",
        "gs = GridSearchCV(estimator=model,\n",
        "                  param_grid=param_grid,\n",
        "                  n_jobs=1,\n",
        "                  cv=3)\n",
        "\n",
        "grid_result = gs.fit(X,Y)"
      ]
    },
    {
      "cell_type": "code",
      "execution_count": 41,
      "metadata": {
        "id": "gkWdtFKWZz8r",
        "outputId": "c37a8de7-d68d-40d4-bc8c-6d58b5525cad",
        "colab": {
          "base_uri": "https://localhost:8080/"
        }
      },
      "outputs": [
        {
          "output_type": "stream",
          "name": "stdout",
          "text": [
            "Best: 0.594059407711029 using {'batch_size': 64, 'epochs': 9}\n",
            "Means: 0.34983498851458233, Stdev: 0.2520812763595124 with: {'batch_size': 32, 'epochs': 3}\n",
            "Means: 0.5808580915133158, Stdev: 0.03645332582644607 with: {'batch_size': 32, 'epochs': 9}\n",
            "Means: 0.28712871484458447, Stdev: 0.22808122352532545 with: {'batch_size': 64, 'epochs': 3}\n",
            "Means: 0.594059407711029, Stdev: 0.029147716944745876 with: {'batch_size': 64, 'epochs': 9}\n"
          ]
        }
      ],
      "source": [
        "# your grid_result object should be able to run in this code\n",
        "print(f\"Best: {grid_result.best_score_} using {grid_result.best_params_}\")\n",
        "means = grid_result.cv_results_['mean_test_score']\n",
        "stds = grid_result.cv_results_['std_test_score']\n",
        "params = grid_result.cv_results_['params']\n",
        "for mean, stdev, param in zip(means, stds, params):\n",
        "    print(f\"Means: {mean}, Stdev: {stdev} with: {param}\")"
      ]
    }
  ],
  "metadata": {
    "kernelspec": {
      "display_name": "Python 3",
      "language": "python",
      "name": "python3"
    },
    "language_info": {
      "codemirror_mode": {
        "name": "ipython",
        "version": 3
      },
      "file_extension": ".py",
      "mimetype": "text/x-python",
      "name": "python",
      "nbconvert_exporter": "python",
      "pygments_lexer": "ipython3",
      "version": "3.8.8"
    },
    "colab": {
      "provenance": []
    }
  },
  "nbformat": 4,
  "nbformat_minor": 0
}